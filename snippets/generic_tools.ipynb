{
 "cells": [
  {
   "cell_type": "markdown",
   "metadata": {},
   "source": [
    "# ProPyCore SDK Examples: Generic Tools\n",
    "\n",
    "This notebook contains snippets from the `generic_tools` module which helps to handle correspondence data"
   ]
  },
  {
   "cell_type": "code",
   "execution_count": 8,
   "metadata": {},
   "outputs": [],
   "source": [
    "import os\n",
    "import dotenv\n",
    "import json\n",
    "import ProPyCore\n",
    "\n",
    "from datetime import datetime"
   ]
  },
  {
   "cell_type": "markdown",
   "metadata": {},
   "source": [
    "## Setup\n",
    "You will need to create the connection to your Procore app and then get the details for your company and project.\n",
    "\n",
    "### Connection to Procore App\n",
    "Ensure you have a `.env` file with the following information included:\n",
    "* `CLIENT_ID`: your data connection app's client ID\n",
    "* `CLIENT_SECRET`: your data connection app's client secret"
   ]
  },
  {
   "cell_type": "code",
   "execution_count": 9,
   "metadata": {},
   "outputs": [],
   "source": [
    "dotenv.load_dotenv()\n",
    "connection = ProPyCore.procore.Procore(\n",
    "    client_id=os.getenv(\"CLIENT_ID\"),\n",
    "    client_secret=os.getenv(\"CLIENT_SECRET\"),\n",
    "    redirect_uri=\"urn:ietf:wg:oauth:2.0:oob\", # default for data connection apps\n",
    "    oauth_url=\"https://app.procore.com\", # default for data connection apps\n",
    "    base_url=\"https://app.procore.com\" # default for data connection apps\n",
    ")"
   ]
  },
  {
   "cell_type": "markdown",
   "metadata": {},
   "source": [
    "### Get Company Details\n",
    "Use the cell below to specify your company name"
   ]
  },
  {
   "cell_type": "code",
   "execution_count": 10,
   "metadata": {},
   "outputs": [
    {
     "name": "stdout",
     "output_type": "stream",
     "text": [
      "Rogers-O`Brien Construction\n"
     ]
    }
   ],
   "source": [
    "companies = connection.companies.get()\n",
    "for company in companies:\n",
    "    print(company[\"name\"])\n",
    "\n",
    "company_name = companies[0][\"name\"]"
   ]
  },
  {
   "cell_type": "markdown",
   "metadata": {},
   "source": [
    "Now get the company details"
   ]
  },
  {
   "cell_type": "code",
   "execution_count": 11,
   "metadata": {},
   "outputs": [
    {
     "name": "stdout",
     "output_type": "stream",
     "text": [
      "Sandbox Test Project\n"
     ]
    }
   ],
   "source": [
    "company = connection.companies.find(identifier=company_name)\n",
    "projects = connection.projects.get(company_id=company[\"id\"])\n",
    "project = connection.projects.find(\n",
    "    company_id=company[\"id\"],\n",
    "    identifier=\"Sandbox Test Project\"\n",
    ")\n",
    "print(project[\"name\"])"
   ]
  },
  {
   "cell_type": "markdown",
   "metadata": {},
   "source": [
    "### `tools.get()`\n",
    "\n",
    "```python\n",
    "\"\"\"\n",
    "Gets all the available generic tools\n",
    "\n",
    "Parameters\n",
    "----------\n",
    "company_id : int\n",
    "    unique identifier for the company\n",
    "per_page : int, default 100\n",
    "    number of generic tools to find per page\n",
    "\n",
    "Returns\n",
    "-------\n",
    "tools : dict\n",
    "    available generic tools\n",
    "\"\"\"\n",
    "```"
   ]
  },
  {
   "cell_type": "code",
   "execution_count": 12,
   "metadata": {},
   "outputs": [
    {
     "ename": "AttributeError",
     "evalue": "'GenericTool' object has no attribute 'get'",
     "output_type": "error",
     "traceback": [
      "\u001b[1;31m---------------------------------------------------------------------------\u001b[0m",
      "\u001b[1;31mAttributeError\u001b[0m                            Traceback (most recent call last)",
      "Cell \u001b[1;32mIn[12], line 1\u001b[0m\n\u001b[1;32m----> 1\u001b[0m tools \u001b[38;5;241m=\u001b[39m \u001b[43mconnection\u001b[49m\u001b[38;5;241;43m.\u001b[39;49m\u001b[43mtools\u001b[49m\u001b[38;5;241;43m.\u001b[39;49m\u001b[43mget\u001b[49m(\n\u001b[0;32m      2\u001b[0m     company_id\u001b[38;5;241m=\u001b[39mcompany[\u001b[38;5;124m\"\u001b[39m\u001b[38;5;124mid\u001b[39m\u001b[38;5;124m\"\u001b[39m]\n\u001b[0;32m      3\u001b[0m )\n\u001b[0;32m      4\u001b[0m \u001b[38;5;28;01mfor\u001b[39;00m tool \u001b[38;5;129;01min\u001b[39;00m tools:\n\u001b[0;32m      5\u001b[0m     \u001b[38;5;28mprint\u001b[39m(\u001b[38;5;124mf\u001b[39m\u001b[38;5;124m\"\u001b[39m\u001b[38;5;132;01m{\u001b[39;00mtool[\u001b[38;5;124m'\u001b[39m\u001b[38;5;124mid\u001b[39m\u001b[38;5;124m'\u001b[39m]\u001b[38;5;132;01m}\u001b[39;00m\u001b[38;5;124m: \u001b[39m\u001b[38;5;132;01m{\u001b[39;00mtool[\u001b[38;5;124m'\u001b[39m\u001b[38;5;124mtitle\u001b[39m\u001b[38;5;124m'\u001b[39m]\u001b[38;5;132;01m}\u001b[39;00m\u001b[38;5;124m\"\u001b[39m)\n",
      "\u001b[1;31mAttributeError\u001b[0m: 'GenericTool' object has no attribute 'get'"
     ]
    }
   ],
   "source": [
    "tools = connection.tools.get(\n",
    "    company_id=company[\"id\"]\n",
    ")\n",
    "for tool in tools:\n",
    "    print(f\"{tool['id']}: {tool['title']}\")\n",
    "\n",
    "try:\n",
    "    idea_submission_id = 378532\n",
    "    idea_submission_tool = next(item for item in tools if item[\"id\"] == idea_submission_id)\n",
    "    print(json.dumps(idea_submission_tool, indent=4))\n",
    "except StopIteration:\n",
    "    print(\"No such tool with id\", idea_submission_id)"
   ]
  },
  {
   "cell_type": "markdown",
   "metadata": {},
   "source": [
    "### `tools.find()`\n",
    "\n",
    "```python\n",
    "\"\"\"\n",
    "Finds a tools based on the identifier: id or title\n",
    "\n",
    "Parameters\n",
    "----------\n",
    "company_id : int\n",
    "    company id that the project is under\n",
    "identifier : int or str\n",
    "    project id number or company name\n",
    "\n",
    "Returns\n",
    "-------\n",
    "tool : dict\n",
    "    tool-specific dictionary\n",
    "\"\"\"\n",
    "```"
   ]
  },
  {
   "cell_type": "code",
   "execution_count": 6,
   "metadata": {},
   "outputs": [
    {
     "name": "stdout",
     "output_type": "stream",
     "text": [
      "Number of Timecards: 1\n"
     ]
    }
   ],
   "source": [
    "project = connection.projects.find(\n",
    "    company_id=company[\"id\"],\n",
    "    identifier=\"Sandbox Test Project\"\n",
    ")\n",
    "tool = connection.tools.find(\n",
    "    company_id=company[\"id\"],\n",
    "    identifier=\"Idea Submission\"\n",
    ")\n",
    "print(\"Company:\", company[\"id\"])\n",
    "print(\"Project:\", project[\"id\"])\n",
    "print(\"Tool:\", tool[\"id\"])"
   ]
  },
  {
   "cell_type": "markdown",
   "metadata": {},
   "source": [
    "### `tools.get_items()`\n",
    "```python\n",
    "\"\"\"\n",
    "Gets all the available items for a specific tool\n",
    "\n",
    "Parameters\n",
    "----------\n",
    "company_id : int\n",
    "    unique identifier for the company\n",
    "project_id : int\n",
    "    unique identifier for the project\n",
    "tool_id : int\n",
    "    unique identifier for the generic tool\n",
    "\n",
    "Returns\n",
    "-------\n",
    "items : dict\n",
    "    available tool item data\n",
    "\"\"\"\n",
    "```"
   ]
  },
  {
   "cell_type": "code",
   "execution_count": 7,
   "metadata": {},
   "outputs": [
    {
     "name": "stdout",
     "output_type": "stream",
     "text": [
      "Number of Timecards: 4\n"
     ]
    }
   ],
   "source": [
    "project = connection.projects.find(\n",
    "    company_id=company[\"id\"],\n",
    "    identifier=\"Sandbox Test Project\"\n",
    ")\n",
    "tool = connection.tools.find(\n",
    "    company_id=company[\"id\"],\n",
    "    identifier=\"Idea Submission\"\n",
    ")\n",
    "\n",
    "# list all items for idea submission tool\n",
    "print(\"Example 1\")\n",
    "tool_items = connection.tools.get_items(\n",
    "    company_id=company[\"id\"],\n",
    "    project_id=project[\"id\"],\n",
    "    tool_id=tool[\"id\"]\n",
    ")\n",
    "print(tool_items)"
   ]
  },
  {
   "cell_type": "markdown",
   "metadata": {},
   "source": [
    "### `tools.get_statuses()`\n",
    "```python\n",
    "\"\"\"\n",
    "Gets all the available statuses for a specific tool\n",
    "\n",
    "Parameters\n",
    "----------\n",
    "company_id : int\n",
    "    unique identifier for the company\n",
    "tool_id : int\n",
    "    unique identifier for the generic tool\n",
    "\n",
    "Returns\n",
    "-------\n",
    "items : dict\n",
    "    available tool item data\n",
    "\"\"\"\n",
    "```"
   ]
  },
  {
   "cell_type": "code",
   "execution_count": 9,
   "metadata": {},
   "outputs": [
    {
     "name": "stdout",
     "output_type": "stream",
     "text": [
      "{\n",
      "    \"timecard_entry\": {\n",
      "        \"hours\": \"8\",\n",
      "        \"party_id\": 25138567,\n",
      "        \"date\": \"2025-02-06\",\n",
      "        \"cost_code_id\": 971232406,\n",
      "        \"billable\": true,\n",
      "        \"description\": \"Test timecard from API\",\n",
      "        \"timecard_time_type_id\": 89458,\n",
      "        \"line_item_type_id\": 832349,\n",
      "        \"datetime\": \"2025-02-06T12:00:00Z\"\n",
      "    }\n",
      "}\n"
     ]
    }
   ],
   "source": [
    "project = connection.projects.find(\n",
    "    company_id=company[\"id\"],\n",
    "    identifier=\"Sandbox Test Project\"\n",
    ")\n",
    "tool = connection.tools.find(\n",
    "    company_id=company[\"id\"],\n",
    "    identifier=\"Idea Submission\"\n",
    ")\n",
    "\n",
    "# list all statuses for idea submission tool\n",
    "tool_statuses = connection.tools.get_statuses(\n",
    "    company_id=company[\"id\"],\n",
    "    project_id=project[\"id\"],\n",
    "    tool_id=tool[\"id\"]\n",
    ")\n",
    "print(tool_statuses)"
   ]
  },
  {
   "cell_type": "markdown",
   "metadata": {},
   "source": [
    "### `tools.create_item()`\n",
    "```python\n",
    "\"\"\"\n",
    "Create new item for a specific tool\n",
    "\n",
    "Parameters\n",
    "----------\n",
    "company_id : int\n",
    "    unique identifier for the company\n",
    "project_id : int\n",
    "    unique identifier for the project\n",
    "tool_id : int\n",
    "    unique identifier for the generic tool\n",
    "data : dict\n",
    "    request body data for the new item\n",
    "\n",
    "Returns\n",
    "-------\n",
    "item_info : dict\n",
    "    new item data\n",
    "\"\"\"\n",
    "```"
   ]
  },
  {
   "cell_type": "code",
   "execution_count": null,
   "metadata": {},
   "outputs": [],
   "source": [
    "# create new idea submission\n",
    "data = {\n",
    "    \"generic_tool_item\": {\n",
    "        \"custom_field_378362\": \"This idea was submitted via API\", # this field is unique\n",
    "        \"description\": \"None\",\n",
    "        \"private\": False,\n",
    "        \"received_from_id\": 8780450, # this field is unique to your company\n",
    "        \"status\":\"Open\",\n",
    "        \"title\": \"Simple Idea Submited by API\",\n",
    "    }\n",
    "}\n",
    "# create the item\n",
    "tool_item = connection.tools.create_item(\n",
    "    company_id=company[\"id\"],\n",
    "    project_id=project[\"id\"],\n",
    "    tool_id=tool[\"id\"],\n",
    "    data=data\n",
    ")\n",
    "# show created item\n",
    "print(tool_item)"
   ]
  },
  {
   "cell_type": "code",
   "execution_count": null,
   "metadata": {},
   "outputs": [],
   "source": [
    "\n",
    "# create new idea submission\n",
    "data = {\n",
    "    \"generic_tool_item\": {\n",
    "        \"assignee_ids\": [\n",
    "            8780450\n",
    "        ],\n",
    "        \"attachments\": [\n",
    "            {\n",
    "            \"id\": random.randint(1, 100),\n",
    "            \"url\": \"https://innovate.r-o.com\",\n",
    "            \"filename\": f\"{PATH_TO_TOP}/references/sample_correspondence_file.pdf\"\n",
    "            }\n",
    "        ],\n",
    "        \"cost_impact\": \"no_impact\",\n",
    "        \"cost_impact_value\": \"none\",\n",
    "        \"custom_field_378362\": \"This idea was submitted via API and includes more fields in the request body to keep things spicy.\",\n",
    "        \"due_date\": (datetime.now() + timedelta(days=1)).strftime(\"%Y-%m-%d\"),\n",
    "        \"private\": False,\n",
    "        \"received_from_id\": 8780450,\n",
    "        \"schedule_impact\": \"no_impact\",\n",
    "        \"schedule_impact_value\": \"none\",\n",
    "        \"skip_emails\": True,\n",
    "        \"status\":\"Open\",\n",
    "        \"title\": \"Complex Idea Submited by API\"\n",
    "    }\n",
    "}\n",
    "# create the item\n",
    "tool_item = connection.tools.create_item(\n",
    "    company_id=company[\"id\"],\n",
    "    project_id=project[\"id\"],\n",
    "    tool_id=tool[\"id\"],\n",
    "    data=data\n",
    ")\n",
    "# show created item\n",
    "print(tool_item)"
   ]
  },
  {
   "cell_type": "markdown",
   "metadata": {},
   "source": [
    "### `create_status()`\n",
    "```python\n",
    "\"\"\"\n",
    "Create new status for a specific tool\n",
    "\n",
    "Parameters\n",
    "----------\n",
    "company_id : int\n",
    "    unique identifier for the company\n",
    "tool_id : int\n",
    "    unique identifier for the generic tool\n",
    "data : dict\n",
    "    request body data for the new item\n",
    "\n",
    "Returns\n",
    "-------\n",
    "status_info : dict\n",
    "    response from new status creation\n",
    "\"\"\"\n",
    "```"
   ]
  },
  {
   "cell_type": "code",
   "execution_count": null,
   "metadata": {},
   "outputs": [],
   "source": [
    "# create new idea submission status\n",
    "data = {\n",
    "    \"generic_tool_status\": {\n",
    "        \"status_name\": \"In Review\",\n",
    "        \"status\": \"Open\"\n",
    "    }\n",
    "}\n",
    "# create the item\n",
    "tool_status = connection.tools.create_status(\n",
    "    company_id=company[\"id\"],\n",
    "    tool_id=tool[\"id\"],\n",
    "    data=data\n",
    ")\n",
    "# show created item\n",
    "print(tool_status)"
   ]
  },
  {
   "cell_type": "markdown",
   "metadata": {},
   "source": [
    "### `delete_item()`\n",
    "```python\n",
    "\"\"\"\n",
    "Updates item for a specific tool\n",
    "\n",
    "Parameters\n",
    "----------\n",
    "company_id : int\n",
    "    unique identifier for the company\n",
    "project_id : int\n",
    "    unique identifier for the project\n",
    "tool_id : int\n",
    "    unique identifier for the generic tool\n",
    "item_id : int\n",
    "    unique identifier for the item to change\n",
    "\n",
    "Returns\n",
    "-------\n",
    "<status> : str\n",
    "    status code and text of the delete\n",
    "\"\"\"\n",
    "```"
   ]
  },
  {
   "cell_type": "code",
   "execution_count": null,
   "metadata": {},
   "outputs": [],
   "source": [
    "project = connection.projects.find(\n",
    "    company_id=company[\"id\"],\n",
    "    identifier=\"Sandbox Test Project\"\n",
    ")\n",
    "tool = connection.tools.find(\n",
    "    company_id=company[\"id\"],\n",
    "    identifier=\"Idea Submission\"\n",
    ")\n",
    "item = connection.tools.find_item(\n",
    "    company_id=company[\"id\"],\n",
    "    project_id=project[\"id\"],\n",
    "    tool_id=tool[\"id\"],\n",
    "    identifier=\"Idea Submited by API 3\"\n",
    ")\n",
    "\n",
    "# delete new idea submission item\n",
    "_ = connection.tools.delete_item(\n",
    "    company_id=company[\"id\"],\n",
    "    project_id=project[\"id\"],\n",
    "    tool_id=tool[\"id\"],\n",
    "    item_id=item[\"id\"]\n",
    ")"
   ]
  },
  {
   "cell_type": "markdown",
   "metadata": {},
   "source": [
    "### `delete_status()`\n",
    "```python\n",
    "\"\"\"\n",
    "Delete status for a specific tool\n",
    "\n",
    "Parameters\n",
    "----------\n",
    "company_id : int\n",
    "    unique identifier for the company\n",
    "tool_id : int\n",
    "    unique identifier for the generic tool\n",
    "status_id : int\n",
    "    status id for removal\n",
    "\n",
    "Returns\n",
    "-------\n",
    "status_info : dict\n",
    "    response from new status creation\n",
    "\"\"\"\n",
    "```"
   ]
  },
  {
   "cell_type": "code",
   "execution_count": null,
   "metadata": {},
   "outputs": [],
   "source": [
    "project = connection.projects.find(\n",
    "    company_id=company[\"id\"],\n",
    "    identifier=\"Sandbox Test Project\"\n",
    ")\n",
    "tool = connection.tools.find(\n",
    "    company_id=company[\"id\"],\n",
    "    identifier=\"Idea Submission\"\n",
    ")\n",
    "item = connection.tools.find_item(\n",
    "    company_id=company[\"id\"],\n",
    "    project_id=project[\"id\"],\n",
    "    tool_id=tool[\"id\"],\n",
    "    identifier=\"Idea Submited by API 3\"\n",
    ")\n",
    "\n",
    "# delete new idea submission status\n",
    "_ = connection.tools.delete_status(\n",
    "    company_id=company[\"id\"],\n",
    "    tool_id=tool[\"id\"],\n",
    "    status_id=1234\n",
    ")"
   ]
  },
  {
   "cell_type": "markdown",
   "metadata": {},
   "source": [
    "### `find_item()`\n",
    "```python\n",
    "\"\"\"\n",
    "Finds a specific generic tool item based on the identifier\n",
    "\n",
    "Parameters\n",
    "----------\n",
    "company_id : int\n",
    "    unique identifier for the company\n",
    "project_id : int\n",
    "    unique identifier for the project\n",
    "tool_id : int\n",
    "    unique identifier for the generic tool\n",
    "identifier : int or str\n",
    "    item id number or company name\n",
    "\n",
    "Returns\n",
    "-------\n",
    "tool_item : dict\n",
    "    response body for the given tool item\n",
    "\"\"\""
   ]
  },
  {
   "cell_type": "code",
   "execution_count": 13,
   "metadata": {},
   "outputs": [
    {
     "ename": "AttributeError",
     "evalue": "'Procore' object has no attribute '__tools__'",
     "output_type": "error",
     "traceback": [
      "\u001b[1;31m---------------------------------------------------------------------------\u001b[0m",
      "\u001b[1;31mAttributeError\u001b[0m                            Traceback (most recent call last)",
      "Cell \u001b[1;32mIn[13], line 2\u001b[0m\n\u001b[0;32m      1\u001b[0m \u001b[38;5;66;03m# Find by Title\u001b[39;00m\n\u001b[1;32m----> 2\u001b[0m item1 \u001b[38;5;241m=\u001b[39m \u001b[43mconnection\u001b[49m\u001b[38;5;241;43m.\u001b[39;49m\u001b[43m__tools__\u001b[49m\u001b[38;5;241m.\u001b[39mfind_tool_item(\n\u001b[0;32m      3\u001b[0m     company_id\u001b[38;5;241m=\u001b[39mcompany[\u001b[38;5;124m\"\u001b[39m\u001b[38;5;124mid\u001b[39m\u001b[38;5;124m\"\u001b[39m],\n\u001b[0;32m      4\u001b[0m     project_id\u001b[38;5;241m=\u001b[39mproject[\u001b[38;5;124m\"\u001b[39m\u001b[38;5;124mid\u001b[39m\u001b[38;5;124m\"\u001b[39m],\n\u001b[0;32m      5\u001b[0m     tool_id\u001b[38;5;241m=\u001b[39mtool[\u001b[38;5;124m\"\u001b[39m\u001b[38;5;124mid\u001b[39m\u001b[38;5;124m\"\u001b[39m],\n\u001b[0;32m      6\u001b[0m     identifier\u001b[38;5;241m=\u001b[39m\u001b[38;5;124m\"\u001b[39m\u001b[38;5;124mComplex Idea Submited by API\u001b[39m\u001b[38;5;124m\"\u001b[39m\n\u001b[0;32m      7\u001b[0m )\n\u001b[0;32m      9\u001b[0m \u001b[38;5;28mprint\u001b[39m(\u001b[38;5;124mf\u001b[39m\u001b[38;5;124m'\u001b[39m\u001b[38;5;124mFound Idea: \u001b[39m\u001b[38;5;130;01m\\'\u001b[39;00m\u001b[38;5;132;01m{\u001b[39;00mitem1[\u001b[38;5;124m\"\u001b[39m\u001b[38;5;124mtitle\u001b[39m\u001b[38;5;124m\"\u001b[39m]\u001b[38;5;132;01m}\u001b[39;00m\u001b[38;5;124m: \u001b[39m\u001b[38;5;132;01m{\u001b[39;00mitem1[\u001b[38;5;124m\"\u001b[39m\u001b[38;5;124mid\u001b[39m\u001b[38;5;124m\"\u001b[39m]\u001b[38;5;132;01m}\u001b[39;00m\u001b[38;5;130;01m\\'\u001b[39;00m\u001b[38;5;124m'\u001b[39m)\n",
      "\u001b[1;31mAttributeError\u001b[0m: 'Procore' object has no attribute '__tools__'"
     ]
    }
   ],
   "source": [
    "# Find by Title\n",
    "item1 = connection.tools.find_item(\n",
    "    company_id=company[\"id\"],\n",
    "    project_id=project[\"id\"],\n",
    "    tool_id=tool[\"id\"],\n",
    "    identifier=\"Complex Idea Submited by API\"\n",
    ")\n",
    "\n",
    "print(f'Found Idea: \\'{item1[\"title\"]}: {item1[\"id\"]}\\'')"
   ]
  },
  {
   "cell_type": "code",
   "execution_count": null,
   "metadata": {},
   "outputs": [],
   "source": [
    "#Find by ID\n",
    "item2 = connection.tools.find_item(\n",
    "    company_id=company[\"id\"],\n",
    "    project_id=project[\"id\"],\n",
    "    tool_id=tool[\"id\"],\n",
    "    identifier=5020162\n",
    ")\n",
    "print(item2[\"id\"])\n",
    "print(json.dumps(item2, indent=4))"
   ]
  },
  {
   "cell_type": "markdown",
   "metadata": {},
   "source": []
  },
  {
   "cell_type": "code",
   "execution_count": null,
   "metadata": {},
   "outputs": [],
   "source": [
    "# find tool by title\n",
    "tool_by_id = connection.tools.find(\n",
    "    company_id=company[\"id\"],\n",
    "    identifier=\"Idea Submission\"\n",
    ")\n",
    "print(f\"{tool_by_id['id']}: {tool_by_id['title']}\")"
   ]
  },
  {
   "cell_type": "code",
   "execution_count": null,
   "metadata": {},
   "outputs": [],
   "source": [
    "# find tool by id (int)\n",
    "tool_by_name = connection.tools.find(\n",
    "    company_id=company[\"id\"],\n",
    "    identifier=287343\n",
    ")\n",
    "print(f\"{tool_by_name['id']}: {tool_by_name['title']}\")"
   ]
  },
  {
   "cell_type": "code",
   "execution_count": null,
   "metadata": {},
   "outputs": [],
   "source": [
    "# no such tool\n",
    "try:\n",
    "    no_tool = connection.tools.find(\n",
    "        company_id=company[\"id\"],\n",
    "        identifier=\"Fake Tool\"\n",
    "    )\n",
    "except NotFoundItemError as e:\n",
    "    print(e)"
   ]
  },
  {
   "cell_type": "markdown",
   "metadata": {},
   "source": [
    "---"
   ]
  }
 ],
 "metadata": {
  "kernelspec": {
   "display_name": ".venv",
   "language": "python",
   "name": "python3"
  },
  "language_info": {
   "codemirror_mode": {
    "name": "ipython",
    "version": 3
   },
   "file_extension": ".py",
   "mimetype": "text/x-python",
   "name": "python",
   "nbconvert_exporter": "python",
   "pygments_lexer": "ipython3",
   "version": "3.11.9"
  }
 },
 "nbformat": 4,
 "nbformat_minor": 2
}
