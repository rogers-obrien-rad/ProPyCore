{
 "cells": [
  {
   "cell_type": "markdown",
   "metadata": {},
   "source": [
    "# ProPyCore SDK Examples: Directory\n",
    "\n",
    "This notebook contains snippets from the `directory.py` module."
   ]
  },
  {
   "cell_type": "code",
   "execution_count": 1,
   "metadata": {},
   "outputs": [],
   "source": [
    "import os\n",
    "import dotenv\n",
    "import json\n",
    "\n",
    "import ProPyCore"
   ]
  },
  {
   "cell_type": "markdown",
   "metadata": {},
   "source": [
    "## Setup\n",
    "You will need to create the connection to your Procore app and then get the details for your company and project.\n",
    "\n",
    "### Connection to Procore App\n",
    "Ensure you have a `.env` file with the following information included:\n",
    "* `CLIENT_ID`: your data connection app's client ID\n",
    "* `CLIENT_SECRET`: your data connection app's client secret"
   ]
  },
  {
   "cell_type": "code",
   "execution_count": 2,
   "metadata": {},
   "outputs": [],
   "source": [
    "dotenv.load_dotenv()\n",
    "connection = ProPyCore.procore.Procore(\n",
    "    client_id=os.getenv(\"CLIENT_ID\"),\n",
    "    client_secret=os.getenv(\"CLIENT_SECRET\"),\n",
    "    redirect_uri=\"urn:ietf:wg:oauth:2.0:oob\", # default for data connection apps\n",
    "    oauth_url=\"https://app.procore.com\", # default for data connection apps\n",
    "    base_url=\"https://app.procore.com\" # default for data connection apps\n",
    ")"
   ]
  },
  {
   "cell_type": "markdown",
   "metadata": {},
   "source": [
    "### Get Company and Project\n",
    "Use the cells below to specify your company and your project"
   ]
  },
  {
   "cell_type": "code",
   "execution_count": 3,
   "metadata": {},
   "outputs": [],
   "source": [
    "company_name = \"Rogers-O`Brien Construction\"\n",
    "project_name = \"Sandbox Test Project\""
   ]
  },
  {
   "cell_type": "markdown",
   "metadata": {},
   "source": [
    "Now use the ProPyCore `connection` variable to get the company and project details."
   ]
  },
  {
   "cell_type": "code",
   "execution_count": 4,
   "metadata": {},
   "outputs": [
    {
     "name": "stdout",
     "output_type": "stream",
     "text": [
      "8089 2783683\n"
     ]
    }
   ],
   "source": [
    "company = connection.companies.find(identifier=company_name)\n",
    "project = connection.projects.find(\n",
    "    company_id=company[\"id\"],\n",
    "    identifier=project_name\n",
    ")\n",
    "print(company[\"id\"], project[\"id\"])"
   ]
  },
  {
   "cell_type": "markdown",
   "metadata": {},
   "source": [
    "---"
   ]
  },
  {
   "cell_type": "markdown",
   "metadata": {},
   "source": [
    "## Directory: Trades\n",
    "Trades are only specified at the company-level which simplifies the process of accessing and creating."
   ]
  },
  {
   "cell_type": "markdown",
   "metadata": {},
   "source": [
    "#### `directory.trades.get()`\n",
    "Gets a list of all the trades the company level\n",
    "\n",
    "**Parameters**\n",
    "* company_id : int\n",
    "    * unique identifier for the company\n",
    "* per_page : int, default 1000\n",
    "    * number of companies to include\n",
    "\n",
    "**Returns**\n",
    "* users : list of dict\n",
    "    * list where each value is a dict with a user's information"
   ]
  },
  {
   "cell_type": "markdown",
   "metadata": {},
   "source": [
    "#### `directory.trades.find()`\n",
    "Finds a trade based on the identifier\n",
    "\n",
    "**Parameters**\n",
    "* company_id : int\n",
    "    * company id that the project is under\n",
    "* user_id : int or str\n",
    "    * project id number or company name\n",
    "\n",
    "**Returns**\n",
    "* trade : dict\n",
    "    * trade-specific dictionary"
   ]
  },
  {
   "cell_type": "markdown",
   "metadata": {},
   "source": [
    "---"
   ]
  },
  {
   "cell_type": "markdown",
   "metadata": {},
   "source": [
    "## Directory: Users\n",
    "Users can be specified at the project _and_ company level. If you supply a `project_id` to any of the `users` methods, you will be accessing Users at the project-level. Otherwise, it will default to company-level. The `get_url()` method handles the endpoint definitions. "
   ]
  },
  {
   "cell_type": "markdown",
   "metadata": {},
   "source": [
    "#### `directory.users.get()`\n",
    "Gets a list of all the users from the company or project level\n",
    "\n",
    "**Parameters**\n",
    "* company_id : int\n",
    "    * unique identifier for the company\n",
    "* project_id : int, default None\n",
    "    * unique identifier for the project\n",
    "    * None specifies company-level\n",
    "* per_page : int, default 100\n",
    "    * number of companies to include\n",
    "\n",
    "**Returns**\n",
    "* users : list of dict\n",
    "    * list where each value is a dict with a user's information"
   ]
  },
  {
   "cell_type": "code",
   "execution_count": 5,
   "metadata": {},
   "outputs": [
    {
     "name": "stdout",
     "output_type": "stream",
     "text": [
      "16555\n"
     ]
    }
   ],
   "source": [
    "users = connection.directory.users.get(\n",
    "    company_id=company[\"id\"],\n",
    "    project_id=None\n",
    ")\n",
    "print(len(users))"
   ]
  },
  {
   "cell_type": "markdown",
   "metadata": {},
   "source": [
    "#### `directory.users.show()`\n",
    "Shows a specific user's details\n",
    "\n",
    "**Parameters**\n",
    "* company_id : int\n",
    "    * unique identifier for the company\n",
    "* project_id : int, default None\n",
    "    * unique identifier for the project\n",
    "    * None specifies company-level\n",
    "* user_id : int\n",
    "    unique identifier for the user\n",
    "\n",
    "**Returns**\n",
    "* user : dict\n",
    "    * user-specific dictionary"
   ]
  },
  {
   "cell_type": "code",
   "execution_count": 6,
   "metadata": {},
   "outputs": [
    {
     "name": "stdout",
     "output_type": "stream",
     "text": [
      "{'avatar': 'https://storage.procore.com/v4/d/us-east-1/pro-core.com/companies/9808/01HP2HEBNN5BH4HEP1ZCWY4FTP?sig=aaac3a1182c031e26b91c0ee8695b156b9b93213e225e826bb96999c29f42e51', 'country_code': 'US', 'email_address': 'hfritz@r-o.com', 'email_signature': 'Sent From Procore.', 'employee_id': '11986', 'first_name': 'Hagen', 'name': 'Hagen Fritz', 'id': 8780450, 'initials': 'HF', 'is_active': True, 'is_employee': True, 'last_login_at': '2025-01-27T20:11:19Z', 'last_name': 'Fritz', 'default_permission_template_id': 952729, 'company_permission_template_id': 959814, 'created_at': '2022-06-21T18:47:25Z', 'updated_at': '2025-01-15T20:17:03Z', 'is_insurance_manager': False, 'add_to_new_projects': False, 'locale': '', 'vendor': {'id': 19174982, 'name': \"Rogers-O'Brien Construction Company\"}}\n"
     ]
    }
   ],
   "source": [
    "user = connection.directory.users.show(\n",
    "    company_id=company[\"id\"],\n",
    "    project_id=None,\n",
    "    user_id=8780450\n",
    ")\n",
    "print(user)"
   ]
  },
  {
   "cell_type": "markdown",
   "metadata": {},
   "source": [
    "#### `directory.users.find()`\n",
    "```python\n",
    "\"\"\"\n",
    "Finds a user based on their Procore identifier\n",
    "\n",
    "Parameters\n",
    "----------\n",
    "company_id : int\n",
    "    company id that the project is under\n",
    "user_id : int or str\n",
    "    if int, search by user id\n",
    "    if str with @, search by user email\n",
    "    else, search by user name\n",
    "project_id : int, default None\n",
    "    unique identifier for the project\n",
    "    None specifies company-level\n",
    "\n",
    "Returns \n",
    "-------\n",
    "user : dict\n",
    "    user-specific dictionary\n",
    "\"\"\"\n",
    "```"
   ]
  },
  {
   "cell_type": "code",
   "execution_count": 8,
   "metadata": {},
   "outputs": [
    {
     "name": "stdout",
     "output_type": "stream",
     "text": [
      "{'id': 8780450, 'name': 'Hagen Fritz', 'first_name': 'Hagen', 'initials': 'HF', 'last_name': 'Fritz', 'business_id': None, 'address': None, 'avatar': 'https://storage.procore.com/v4/d/us-east-1/pro-core.com/companies/9808/01HP2HEBNN5BH4HEP1ZCWY4FTP?sig=aaac3a1182c031e26b91c0ee8695b156b9b93213e225e826bb96999c29f42e51', 'business_phone': None, 'business_phone_extension': None, 'city': None, 'contact_id': 25212255, 'country_code': 'US', 'email_address': 'hfritz@r-o.com', 'employee_id': '11986', 'erp_integrated_accountant': False, 'fax_number': None, 'is_active': True, 'is_employee': True, 'job_title': None, 'mobile_phone': None, 'origin_id': None, 'state_code': None, 'zip': None, 'last_activated_at': None, 'work_classification_id': None, 'vendor': {'id': 19174982, 'name': \"Rogers-O'Brien Construction Company\"}}\n",
      "{'id': 8780450, 'name': 'Hagen Fritz', 'first_name': 'Hagen', 'initials': 'HF', 'last_name': 'Fritz', 'business_id': None, 'address': None, 'avatar': 'https://storage.procore.com/v4/d/us-east-1/pro-core.com/companies/9808/01HP2HEBNN5BH4HEP1ZCWY4FTP?sig=aaac3a1182c031e26b91c0ee8695b156b9b93213e225e826bb96999c29f42e51', 'business_phone': None, 'business_phone_extension': None, 'city': None, 'contact_id': 25212255, 'country_code': 'US', 'email_address': 'hfritz@r-o.com', 'employee_id': '11986', 'erp_integrated_accountant': False, 'fax_number': None, 'is_active': True, 'is_employee': True, 'job_title': None, 'mobile_phone': None, 'origin_id': None, 'state_code': None, 'zip': None, 'last_activated_at': None, 'work_classification_id': None, 'vendor': {'id': 19174982, 'name': \"Rogers-O'Brien Construction Company\"}}\n",
      "{'id': 8780450, 'name': 'Hagen Fritz', 'first_name': 'Hagen', 'initials': 'HF', 'last_name': 'Fritz', 'business_id': None, 'address': None, 'avatar': 'https://storage.procore.com/v4/d/us-east-1/pro-core.com/companies/9808/01HP2HEBNN5BH4HEP1ZCWY4FTP?sig=aaac3a1182c031e26b91c0ee8695b156b9b93213e225e826bb96999c29f42e51', 'business_phone': None, 'business_phone_extension': None, 'city': None, 'contact_id': 25212255, 'country_code': 'US', 'email_address': 'hfritz@r-o.com', 'employee_id': '11986', 'erp_integrated_accountant': False, 'fax_number': None, 'is_active': True, 'is_employee': True, 'job_title': None, 'mobile_phone': None, 'origin_id': None, 'state_code': None, 'zip': None, 'last_activated_at': None, 'work_classification_id': None, 'vendor': {'id': 19174982, 'name': \"Rogers-O'Brien Construction Company\"}}\n"
     ]
    }
   ],
   "source": [
    "# Find by id\n",
    "user_by_id = connection.directory.users.find(\n",
    "    company_id=company[\"id\"],\n",
    "    user_id=8780450\n",
    ")\n",
    "print(user_by_id)\n",
    "# Find by email\n",
    "user_by_email = connection.directory.users.find(\n",
    "    company_id=company[\"id\"],\n",
    "    user_id=\"hfritz@r-o.com\"\n",
    ")\n",
    "print(user_by_email)\n",
    "# Find by name\n",
    "user_by_name = connection.directory.users.find(\n",
    "    company_id=company[\"id\"],\n",
    "    user_id=\"Hagen Fritz\"\n",
    ")\n",
    "print(user_by_name)"
   ]
  },
  {
   "cell_type": "markdown",
   "metadata": {},
   "source": [
    "#### `directory.users.add()`\n",
    "Adds a company user to a given project\n",
    "\n",
    "**Parameters**\n",
    "* company_id : int\n",
    "    * unique identifier for the company\n",
    "* project_id : int, default None\n",
    "    * unique identifier for the project to add the user to\n",
    "* user_id : int\n",
    "    * unique identifier of the user to add\n",
    "* permission_template_id : int, default None\n",
    "    * level of permissions to give the added user\n",
    "\n",
    "**Returns**\n",
    "* project : dict\n",
    "    * project-specific dictionary"
   ]
  },
  {
   "cell_type": "markdown",
   "metadata": {},
   "source": [
    "---"
   ]
  },
  {
   "cell_type": "markdown",
   "metadata": {},
   "source": [
    "## Directory: Vendors\n",
    "Like Users, Vendors can be specified at the project _and_ company level. If you supply a `project_id` to any of the `users` methods, you will be accessing Users at the project-level. Otherwise, it will default to company-level. The `get_url()` method handles the endpoint definitions. "
   ]
  },
  {
   "cell_type": "markdown",
   "metadata": {},
   "source": [
    "#### `directory.vendors.get()`\n",
    "Gets a list of all vendors from a certain company\n",
    "\n",
    "**Parameters**\n",
    "* company_id : int\n",
    "    * unique identifier for the company\n",
    "* project_id : int, default None\n",
    "    * unique identifier for the project\n",
    "    * None specifies company-level\n",
    "* per_page : int, default 100\n",
    "    * number of companies to include\n",
    "\n",
    "**Returns**\n",
    "* vendors : list of dict\n",
    "    * list where each value is a dict with a vendors's information"
   ]
  },
  {
   "cell_type": "markdown",
   "metadata": {},
   "source": [
    "#### `directory.vendors.find()`\n",
    "Finds a Vendor based on the identifier\n",
    "\n",
    "**Parameters**\n",
    "* company_id : int\n",
    "    * company id that the project is under\n",
    "* user_id : int or str\n",
    "    * project id number or company name\n",
    "* project_id : int, default None\n",
    "    * unique identifier for the project\n",
    "    * None specifies company-level\n",
    "\n",
    "**Returns**\n",
    "* vendor : dict\n",
    "    * project-specific dictionary"
   ]
  },
  {
   "cell_type": "markdown",
   "metadata": {},
   "source": [
    "---"
   ]
  }
 ],
 "metadata": {
  "kernelspec": {
   "display_name": ".venv",
   "language": "python",
   "name": "python3"
  },
  "language_info": {
   "codemirror_mode": {
    "name": "ipython",
    "version": 3
   },
   "file_extension": ".py",
   "mimetype": "text/x-python",
   "name": "python",
   "nbconvert_exporter": "python",
   "pygments_lexer": "ipython3",
   "version": "3.11.9"
  }
 },
 "nbformat": 4,
 "nbformat_minor": 2
}
