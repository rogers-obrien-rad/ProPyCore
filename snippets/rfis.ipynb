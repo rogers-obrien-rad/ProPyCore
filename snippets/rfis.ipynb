{
 "cells": [
  {
   "cell_type": "markdown",
   "metadata": {},
   "source": [
    "# ProPyCore SDK Examples: RFIs\n",
    "\n",
    "This notebook contains snippets from the `rfis.py` module."
   ]
  },
  {
   "cell_type": "code",
   "execution_count": 1,
   "metadata": {},
   "outputs": [],
   "source": [
    "import os\n",
    "import dotenv\n",
    "import json\n",
    "\n",
    "import ProPyCore"
   ]
  },
  {
   "cell_type": "markdown",
   "metadata": {},
   "source": [
    "## Setup\n",
    "You will need to create the connection to your Procore app and then get the details for your company and project.\n",
    "\n",
    "### Connection to Procore App\n",
    "Ensure you have a `.env` file with the following information included:\n",
    "* `CLIENT_ID`: your data connection app's client ID\n",
    "* `CLIENT_SECRET`: your data connection app's client secret"
   ]
  },
  {
   "cell_type": "code",
   "execution_count": 4,
   "metadata": {},
   "outputs": [
    {
     "name": "stdout",
     "output_type": "stream",
     "text": [
      "8089\n",
      "2783683\n"
     ]
    }
   ],
   "source": [
    "dotenv.load_dotenv()\n",
    "client = ProPyCore.procore.Procore(\n",
    "    client_id=os.getenv(\"CLIENT_ID\"),\n",
    "    client_secret=os.getenv(\"CLIENT_SECRET\"),\n",
    "    redirect_uri=\"urn:ietf:wg:oauth:2.0:oob\", # default for data connection apps\n",
    "    oauth_url=\"https://app.procore.com\", # default for data connection apps\n",
    "    base_url=\"https://app.procore.com\" # default for data connection apps\n",
    ")\n",
    "\n",
    "# Get company and test project for use throughout notebook\n",
    "company = client.companies.get()[0]\n",
    "print(company[\"id\"])\n",
    "project = client.projects.find(\n",
    "    company_id=company[\"id\"],\n",
    "    identifier=\"Sandbox Test Project\"\n",
    ")\n",
    "print(project[\"id\"])"
   ]
  },
  {
   "cell_type": "markdown",
   "metadata": {
    "vscode": {
     "languageId": "plaintext"
    }
   },
   "source": [
    "### `rfis.get()`\n",
    "```python\n",
    "\"\"\"\n",
    "Gets all the available RFIs\n",
    "\n",
    "Parameters\n",
    "----------\n",
    "company_id : int\n",
    "    unique identifier for the company\n",
    "project_id : int\n",
    "    unique identifier for the project\n",
    "page : int, default 1\n",
    "    page number\n",
    "per_page : int, default 100\n",
    "    number of rfis to include per page\n",
    "\n",
    "Returns\n",
    "-------\n",
    "rfis : dict\n",
    "    available rfi data\n",
    "\"\"\"\n",
    "```"
   ]
  },
  {
   "cell_type": "code",
   "execution_count": 10,
   "metadata": {},
   "outputs": [
    {
     "name": "stdout",
     "output_type": "stream",
     "text": [
      "Found 7 RFIs\n",
      "22564874\n",
      "22079033\n",
      "21441340\n",
      "21436922\n",
      "20296302\n",
      "19806234\n",
      "22065139\n"
     ]
    }
   ],
   "source": [
    "rfis = client.rfis.get(\n",
    "    company_id=company[\"id\"],\n",
    "    project_id=project[\"id\"],\n",
    ")\n",
    "print(f\"Found {len(rfis)} RFIs\")\n",
    "for rfi in rfis:\n",
    "    print(rfi[\"id\"])"
   ]
  },
  {
   "cell_type": "markdown",
   "metadata": {},
   "source": [
    "### `rfis.show()`\n",
    "```python\n",
    "\"\"\"\n",
    "Shows the RFI info\n",
    "\n",
    "Parameters\n",
    "----------\n",
    "company_id : int\n",
    "    unique identifier for the company\n",
    "project_id : int\n",
    "    unique identifier for the project\n",
    "rfi_id : int\n",
    "    unique identifier for the RFI\n",
    "\n",
    "Returns\n",
    "-------\n",
    "rfi_info : dict\n",
    "    specific rfi information\n",
    "\"\"\"\n",
    "```"
   ]
  },
  {
   "cell_type": "code",
   "execution_count": 13,
   "metadata": {},
   "outputs": [
    {
     "name": "stdout",
     "output_type": "stream",
     "text": [
      "{\n",
      "    \"id\": 22564874,\n",
      "    \"link\": \"https://app.procore.com/2783683/project/rfi/show/22564874\",\n",
      "    \"project_stage\": {\n",
      "        \"id\": 3,\n",
      "        \"default_stage\": true,\n",
      "        \"dependent_projects\": 0,\n",
      "        \"formatted_name\": \"Course of Construction\",\n",
      "        \"formatted_parent_name\": null,\n",
      "        \"name\": \"Course of Construction\",\n",
      "        \"parent_id\": null,\n",
      "        \"procore_category\": false\n",
      "    },\n",
      "    \"assignees\": [\n",
      "        {\n",
      "            \"id\": 8780450,\n",
      "            \"name\": \"Hagen Fritz (Rogers-O'Brien Construction Company)\",\n",
      "            \"locale\": \"\",\n",
      "            \"login\": \"hfritz@r-o.com\",\n",
      "            \"response_required\": false\n",
      "        }\n",
      "    ],\n",
      "    \"initiated_at\": \"2025-03-06T18:25:41Z\",\n",
      "    \"ball_in_courts\": [\n",
      "        {\n",
      "            \"id\": 8780450,\n",
      "            \"name\": \"Hagen Fritz (Rogers-O'Brien Construction Company)\",\n",
      "            \"locale\": \"\",\n",
      "            \"login\": \"hfritz@r-o.com\",\n",
      "            \"response_required\": false\n",
      "        }\n",
      "    ],\n",
      "    \"cost_impact\": {\n",
      "        \"status\": \"yes_unknown\",\n",
      "        \"value\": null\n",
      "    },\n",
      "    \"custom_fields\": {\n",
      "        \"custom_field_100924\": {\n",
      "            \"data_type\": \"lov_entry\",\n",
      "            \"value\": {\n",
      "                \"id\": 83052,\n",
      "                \"label\": \"GENERAL\"\n",
      "            }\n",
      "        },\n",
      "        \"custom_field_253711\": {\n",
      "            \"data_type\": \"boolean\",\n",
      "            \"value\": false\n",
      "        },\n",
      "        \"custom_field_298696\": {\n",
      "            \"data_type\": \"lov_entry\",\n",
      "            \"value\": {\n",
      "                \"id\": 260142,\n",
      "                \"label\": \"2 - Medium\"\n",
      "            }\n",
      "        }\n",
      "    },\n",
      "    \"due_date\": \"2025-03-10\",\n",
      "    \"full_number\": \"RD-001\",\n",
      "    \"number\": \"RD-001\",\n",
      "    \"prefix\": null,\n",
      "    \"priority\": {\n",
      "        \"name\": false,\n",
      "        \"value\": null\n",
      "    },\n",
      "    \"proposed_solution\": null,\n",
      "    \"private\": false,\n",
      "    \"received_from\": {\n",
      "        \"id\": 8780450,\n",
      "        \"login\": \"hfritz@r-o.com\",\n",
      "        \"name\": \"Hagen Fritz\"\n",
      "    },\n",
      "    \"rfi_manager\": {\n",
      "        \"id\": 8780450,\n",
      "        \"login\": \"hfritz@r-o.com\",\n",
      "        \"name\": \"Hagen Fritz\"\n",
      "    },\n",
      "    \"schedule_impact\": {\n",
      "        \"status\": \"tbd\",\n",
      "        \"value\": null\n",
      "    },\n",
      "    \"status\": \"open\",\n",
      "    \"subject\": \"R&D Test RFI\",\n",
      "    \"time_resolved\": null,\n",
      "    \"translated_status\": \"Open\",\n",
      "    \"created_at\": \"2025-03-06T18:25:41Z\",\n",
      "    \"updated_at\": \"2025-03-06T18:25:41Z\",\n",
      "    \"revision\": \"0\",\n",
      "    \"current_revision\": true,\n",
      "    \"assignee\": {\n",
      "        \"id\": 8780450,\n",
      "        \"name\": \"Hagen Fritz (Rogers-O'Brien Construction Company)\",\n",
      "        \"locale\": \"\",\n",
      "        \"login\": \"hfritz@r-o.com\"\n",
      "    },\n",
      "    \"ball_in_court\": {\n",
      "        \"id\": 8780450,\n",
      "        \"name\": \"Hagen Fritz (Rogers-O'Brien Construction Company)\",\n",
      "        \"locale\": \"\",\n",
      "        \"login\": \"hfritz@r-o.com\"\n",
      "    },\n",
      "    \"reference\": \"\",\n",
      "    \"location_id\": 29149982,\n",
      "    \"questions\": [\n",
      "        {\n",
      "            \"id\": 22569944,\n",
      "            \"created_by\": \"Hagen Fritz\",\n",
      "            \"plain_text_body\": \"How can R&D test out the RFI tool?\",\n",
      "            \"attachments\": [\n",
      "                {\n",
      "                    \"id\": 5283309550,\n",
      "                    \"attached_to_item_id\": null,\n",
      "                    \"attached_to_item_type\": null,\n",
      "                    \"can_be_viewed\": true,\n",
      "                    \"filename\": \"default_avatar.jpg\",\n",
      "                    \"name\": \"default_avatar.jpg\",\n",
      "                    \"url\": \"https://storage.procore.com/api/v5/files/us-east-1/pro-core.com/companies/9808/01JNPB64SXKZW94BZY029AB35Q?companyId=8089&projectId=2783683&sig=44bff34c7f4a0a940ff1d36b9d1999dd0fe5553938ba22870f215ca1e7df0250\",\n",
      "                    \"viewable\": true\n",
      "                }\n",
      "            ],\n",
      "            \"answers\": [],\n",
      "            \"question_date\": \"2025-03-06T18:25:41Z\",\n",
      "            \"rich_text_body\": \"<p>How can R&amp;D test out the RFI tool?</p>\"\n",
      "        }\n",
      "    ],\n",
      "    \"accepted\": false,\n",
      "    \"ball_in_court_role\": \"assignees\",\n",
      "    \"change_events\": [],\n",
      "    \"coordination_issues\": [],\n",
      "    \"custom_textfield_1\": {\n",
      "        \"label\": null,\n",
      "        \"value\": \"\"\n",
      "    },\n",
      "    \"custom_textfield_2\": {\n",
      "        \"label\": null,\n",
      "        \"value\": \"\"\n",
      "    },\n",
      "    \"specification_section\": {\n",
      "        \"id\": 35783750,\n",
      "        \"description\": \"PLAS LAM\",\n",
      "        \"label\": \"06-4116 PLAS LAM\",\n",
      "        \"number\": \"06-4116\",\n",
      "        \"current_revision_id\": 43767199,\n",
      "        \"viewable_document_id\": 780258614\n",
      "    },\n",
      "    \"title\": \"R&D Test RFI\",\n",
      "    \"draft\": false,\n",
      "    \"drawing_ids\": [],\n",
      "    \"drawing_number\": \"\",\n",
      "    \"source_rfi_header_id\": 22564874,\n",
      "    \"has_revisions\": false,\n",
      "    \"distribution_list\": [],\n",
      "    \"cost_code\": null,\n",
      "    \"location\": {\n",
      "        \"id\": 29149982,\n",
      "        \"name\": \"Test Location #1\",\n",
      "        \"node_name\": \"Test Location #1\",\n",
      "        \"parent_id\": null,\n",
      "        \"created_at\": \"2024-06-03T14:51:39Z\",\n",
      "        \"updated_at\": \"2024-06-03T14:51:39Z\"\n",
      "    },\n",
      "    \"sub_job\": null,\n",
      "    \"responsible_contractor\": {\n",
      "        \"id\": 19174982,\n",
      "        \"name\": \"Rogers-O'Brien Construction Company\"\n",
      "    },\n",
      "    \"created_by\": {\n",
      "        \"id\": 8780450,\n",
      "        \"login\": \"hfritz@r-o.com\",\n",
      "        \"name\": \"Hagen Fritz\"\n",
      "    }\n",
      "}\n"
     ]
    },
    {
     "data": {
      "text/plain": [
       "'RD-001'"
      ]
     },
     "execution_count": 13,
     "metadata": {},
     "output_type": "execute_result"
    }
   ],
   "source": [
    "test_rfi = client.rfis.show(\n",
    "    company_id=company[\"id\"],\n",
    "    project_id=project[\"id\"],\n",
    "    rfi_id=22564874\n",
    ")\n",
    "print(json.dumps(test_rfi, indent=4))"
   ]
  },
  {
   "cell_type": "markdown",
   "metadata": {},
   "source": [
    "### `rfis.find()`\n",
    "```python\n",
    "\"\"\"\n",
    "Finds specified RFI and returns data - wrapper for show method\n",
    "\n",
    "Parameters\n",
    "----------\n",
    "company_id : int\n",
    "    unique identifier for the company\n",
    "project_id : int\n",
    "    unique identifier for the project\n",
    "identifier : int or str\n",
    "    identifier for RFI which can be id (int) or number (str)\n",
    "\n",
    "Returns\n",
    "-------\n",
    "rfi_info : dict\n",
    "    RFI data\n",
    "\"\"\"\n",
    "```"
   ]
  },
  {
   "cell_type": "code",
   "execution_count": 14,
   "metadata": {},
   "outputs": [
    {
     "name": "stdout",
     "output_type": "stream",
     "text": [
      "R&D Test RFI\n"
     ]
    }
   ],
   "source": [
    "# Find by number\n",
    "rfi_rd = client.rfis.find(\n",
    "    company_id=company[\"id\"],\n",
    "    project_id=project[\"id\"],\n",
    "    identifier=\"RD-001\"\n",
    ")\n",
    "print(rfi_rd[\"title\"])"
   ]
  },
  {
   "cell_type": "markdown",
   "metadata": {},
   "source": [
    "---"
   ]
  }
 ],
 "metadata": {
  "kernelspec": {
   "display_name": ".venv",
   "language": "python",
   "name": "python3"
  },
  "language_info": {
   "codemirror_mode": {
    "name": "ipython",
    "version": 3
   },
   "file_extension": ".py",
   "mimetype": "text/x-python",
   "name": "python",
   "nbconvert_exporter": "python",
   "pygments_lexer": "ipython3",
   "version": "3.11.9"
  }
 },
 "nbformat": 4,
 "nbformat_minor": 2
}
