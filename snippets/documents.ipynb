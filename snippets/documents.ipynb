{
 "cells": [
  {
   "cell_type": "markdown",
   "metadata": {},
   "source": [
    "# ProPyCore SDK Examples: Documents\n",
    "\n",
    "This notebook contains snippets from the `documents` submodules: `folders.py` and `files.py`.\n",
    "\n",
    "Procore defines two main document types: folders and files. The `folders` submodule contains functions for working with folders and the `files` submodule contains functions for working with files."
   ]
  },
  {
   "cell_type": "code",
   "execution_count": 1,
   "metadata": {},
   "outputs": [],
   "source": [
    "import os\n",
    "import dotenv\n",
    "import json\n",
    "\n",
    "import ProPyCore"
   ]
  },
  {
   "cell_type": "markdown",
   "metadata": {},
   "source": [
    "## Setup\n",
    "You will need to create the connection to your Procore app and then get the details for your company and project.\n",
    "\n",
    "### Connection to Procore App\n",
    "Ensure you have a `.env` file with the following information included:\n",
    "* `CLIENT_ID`: your data connection app's client ID\n",
    "* `CLIENT_SECRET`: your data connection app's client secret"
   ]
  },
  {
   "cell_type": "code",
   "execution_count": 2,
   "metadata": {},
   "outputs": [],
   "source": [
    "dotenv.load_dotenv()\n",
    "connection = ProPyCore.procore.Procore(\n",
    "    client_id=os.getenv(\"CLIENT_ID\"),\n",
    "    client_secret=os.getenv(\"CLIENT_SECRET\"),\n",
    "    redirect_uri=\"urn:ietf:wg:oauth:2.0:oob\", # default for data connection apps\n",
    "    oauth_url=\"https://app.procore.com\", # default for data connection apps\n",
    "    base_url=\"https://app.procore.com\" # default for data connection apps\n",
    ")"
   ]
  },
  {
   "cell_type": "markdown",
   "metadata": {},
   "source": [
    "### Get Company Details\n",
    "Use the cell below to specify your company name"
   ]
  },
  {
   "cell_type": "code",
   "execution_count": 3,
   "metadata": {},
   "outputs": [],
   "source": [
    "company_name = \"Rogers-O`Brien Construction\""
   ]
  },
  {
   "cell_type": "markdown",
   "metadata": {},
   "source": [
    "Now get the company details and find a specific project, in this case \"Sandbox Test Project\"."
   ]
  },
  {
   "cell_type": "code",
   "execution_count": 4,
   "metadata": {},
   "outputs": [
    {
     "name": "stdout",
     "output_type": "stream",
     "text": [
      "Project: Sandbox Test Project (2783683)\n"
     ]
    }
   ],
   "source": [
    "company = connection.companies.find(identifier=company_name)\n",
    "project = connection.projects.find(\n",
    "    company_id=company[\"id\"],\n",
    "    identifier=\"Sandbox Test Project\"\n",
    ")\n",
    "print(f\"Project: {project['name']} ({project['id']})\")"
   ]
  },
  {
   "cell_type": "markdown",
   "metadata": {},
   "source": [
    "## Folders"
   ]
  },
  {
   "cell_type": "markdown",
   "metadata": {},
   "source": [
    "### Get Folders"
   ]
  },
  {
   "cell_type": "code",
   "execution_count": 5,
   "metadata": {},
   "outputs": [
    {
     "name": "stdout",
     "output_type": "stream",
     "text": [
      "Example 1\n",
      "[{'id': 816142268, 'created_at': '2024-07-17T20:56:14Z', 'created_by': {'id': 6036589, 'company_name': \"Rogers-O'Brien Construction Company\", 'locale': 'en', 'login': 'sthompson@r-o.com', 'name': 'Scott Thompson'}, 'custom_fields': {}, 'document_type': 'folder', 'is_deleted': False, 'is_recycle_bin': False, 'name': '03-Concrete', 'name_with_path': 'Sandbox Test Project/C-Field Use Documents/03-Concrete', 'parent_id': 771257695, 'private': False, 'read_only': False, 'updated_at': '2024-07-17T20:56:14Z'}, {'id': 845915608, 'created_at': '2024-10-02T15:48:01Z', 'created_by': {'id': 3238394, 'company_name': \"Rogers-O'Brien Construction Company\", 'locale': 'en', 'login': 'nvargo@r-o.com', 'name': 'Nick Vargo'}, 'custom_fields': {}, 'document_type': 'folder', 'is_deleted': False, 'is_recycle_bin': False, 'name': '1-PreTask Planning', 'name_with_path': 'Sandbox Test Project/G-Safety and Environmental/1-PreTask Planning', 'parent_id': 771257651, 'private': False, 'read_only': False, 'updated_at': '2024-10-02T15:48:01Z'}, {'id': 900849253, 'created_at': '2025-02-26T21:22:55Z', 'created_by': {'id': 8780450, 'company_name': \"Rogers-O'Brien Construction Company\", 'locale': '', 'login': 'hfritz@r-o.com', 'name': 'Hagen Fritz'}, 'custom_fields': {}, 'document_type': 'folder', 'is_deleted': False, 'is_recycle_bin': False, 'name': '1-Prime Contract', 'name_with_path': 'Sandbox Test Project/I-Contracts and PayApps/1-Prime Contract', 'parent_id': 771257573, 'private': False, 'read_only': False, 'updated_at': '2025-02-26T21:22:55Z'}, {'id': 845915794, 'created_at': '2024-10-02T15:48:25Z', 'created_by': {'id': 3238394, 'company_name': \"Rogers-O'Brien Construction Company\", 'locale': 'en', 'login': 'nvargo@r-o.com', 'name': 'Nick Vargo'}, 'custom_fields': {}, 'document_type': 'folder', 'is_deleted': False, 'is_recycle_bin': False, 'name': '10-Sign In Sheets', 'name_with_path': 'Sandbox Test Project/G-Safety and Environmental/10-Sign In Sheets', 'parent_id': 771257651, 'private': False, 'read_only': False, 'updated_at': '2024-10-02T15:48:25Z'}, {'id': 845915709, 'created_at': '2024-10-02T15:48:14Z', 'created_by': {'id': 3238394, 'company_name': \"Rogers-O'Brien Construction Company\", 'locale': 'en', 'login': 'nvargo@r-o.com', 'name': 'Nick Vargo'}, 'custom_fields': {}, 'document_type': 'folder', 'is_deleted': False, 'is_recycle_bin': False, 'name': '3-Orientations and Training', 'name_with_path': 'Sandbox Test Project/G-Safety and Environmental/3-Orientations and Training', 'parent_id': 771257651, 'private': False, 'read_only': False, 'updated_at': '2024-10-02T15:48:14Z'}, {'id': 771257697, 'created_at': '2024-03-20T20:39:58Z', 'created_by': {'id': 3238394, 'company_name': \"Rogers-O'Brien Construction Company\", 'locale': 'en', 'login': 'nvargo@r-o.com', 'name': 'Nick Vargo'}, 'custom_fields': {}, 'document_type': 'folder', 'is_deleted': False, 'is_recycle_bin': False, 'name': 'A-Drawings and Specs', 'name_with_path': 'Sandbox Test Project/A-Drawings and Specs', 'parent_id': 771257538, 'private': True, 'read_only': False, 'updated_at': '2024-03-20T20:39:58Z'}, {'id': 771257698, 'created_at': '2024-03-20T20:39:58Z', 'created_by': {'id': 3238394, 'company_name': \"Rogers-O'Brien Construction Company\", 'locale': 'en', 'login': 'nvargo@r-o.com', 'name': 'Nick Vargo'}, 'custom_fields': {}, 'document_type': 'folder', 'is_deleted': False, 'is_recycle_bin': False, 'name': 'B-Preconstruction', 'name_with_path': 'Sandbox Test Project/B-Preconstruction', 'parent_id': 771257538, 'private': True, 'read_only': False, 'updated_at': '2024-03-20T20:39:58Z'}, {'id': 771257695, 'created_at': '2024-03-20T20:39:58Z', 'created_by': {'id': 3238394, 'company_name': \"Rogers-O'Brien Construction Company\", 'locale': 'en', 'login': 'nvargo@r-o.com', 'name': 'Nick Vargo'}, 'custom_fields': {}, 'document_type': 'folder', 'is_deleted': False, 'is_recycle_bin': False, 'name': 'C-Field Use Documents', 'name_with_path': 'Sandbox Test Project/C-Field Use Documents', 'parent_id': 771257538, 'private': False, 'read_only': False, 'updated_at': '2024-03-20T20:39:58Z'}, {'id': 771257692, 'created_at': '2024-03-20T20:39:58Z', 'created_by': {'id': 3238394, 'company_name': \"Rogers-O'Brien Construction Company\", 'locale': 'en', 'login': 'nvargo@r-o.com', 'name': 'Nick Vargo'}, 'custom_fields': {}, 'document_type': 'folder', 'is_deleted': False, 'is_recycle_bin': False, 'name': 'D-Schedule', 'name_with_path': 'Sandbox Test Project/D-Schedule', 'parent_id': 771257538, 'private': True, 'read_only': False, 'updated_at': '2024-03-20T20:39:58Z'}, {'id': 771257691, 'created_at': '2024-03-20T20:39:58Z', 'created_by': {'id': 3238394, 'company_name': \"Rogers-O'Brien Construction Company\", 'locale': 'en', 'login': 'nvargo@r-o.com', 'name': 'Nick Vargo'}, 'custom_fields': {}, 'document_type': 'folder', 'is_deleted': False, 'is_recycle_bin': False, 'name': 'E-QC, Reports and Logs', 'name_with_path': 'Sandbox Test Project/E-QC, Reports and Logs', 'parent_id': 771257538, 'private': True, 'read_only': False, 'updated_at': '2024-03-20T20:39:58Z'}, {'id': 771257689, 'created_at': '2024-03-20T20:39:58Z', 'created_by': {'id': 3238394, 'company_name': \"Rogers-O'Brien Construction Company\", 'locale': 'en', 'login': 'nvargo@r-o.com', 'name': 'Nick Vargo'}, 'custom_fields': {}, 'document_type': 'folder', 'is_deleted': False, 'is_recycle_bin': False, 'name': 'F-Meeting Minutes', 'name_with_path': 'Sandbox Test Project/F-Meeting Minutes', 'parent_id': 771257538, 'private': True, 'read_only': False, 'updated_at': '2024-03-20T20:39:58Z'}, {'id': 771257651, 'created_at': '2024-03-20T20:39:55Z', 'created_by': {'id': 3238394, 'company_name': \"Rogers-O'Brien Construction Company\", 'locale': 'en', 'login': 'nvargo@r-o.com', 'name': 'Nick Vargo'}, 'custom_fields': {}, 'document_type': 'folder', 'is_deleted': False, 'is_recycle_bin': False, 'name': 'G-Safety and Environmental', 'name_with_path': 'Sandbox Test Project/G-Safety and Environmental', 'parent_id': 771257538, 'private': True, 'read_only': False, 'updated_at': '2024-03-20T20:39:55Z'}, {'id': 771257574, 'created_at': '2024-03-20T20:39:46Z', 'created_by': {'id': 3238394, 'company_name': \"Rogers-O'Brien Construction Company\", 'locale': 'en', 'login': 'nvargo@r-o.com', 'name': 'Nick Vargo'}, 'custom_fields': {}, 'document_type': 'folder', 'is_deleted': False, 'is_recycle_bin': False, 'name': 'H-VDC', 'name_with_path': 'Sandbox Test Project/H-VDC', 'parent_id': 771257538, 'private': False, 'read_only': False, 'updated_at': '2024-03-20T20:39:46Z'}, {'id': 771257573, 'created_at': '2024-03-20T20:39:46Z', 'created_by': {'id': 3238394, 'company_name': \"Rogers-O'Brien Construction Company\", 'locale': 'en', 'login': 'nvargo@r-o.com', 'name': 'Nick Vargo'}, 'custom_fields': {}, 'document_type': 'folder', 'is_deleted': False, 'is_recycle_bin': False, 'name': 'I-Contracts and PayApps', 'name_with_path': 'Sandbox Test Project/I-Contracts and PayApps', 'parent_id': 771257538, 'private': True, 'read_only': False, 'updated_at': '2024-03-20T20:39:46Z'}, {'id': 771257572, 'created_at': '2024-03-20T20:39:46Z', 'created_by': {'id': 3238394, 'company_name': \"Rogers-O'Brien Construction Company\", 'locale': 'en', 'login': 'nvargo@r-o.com', 'name': 'Nick Vargo'}, 'custom_fields': {}, 'document_type': 'folder', 'is_deleted': False, 'is_recycle_bin': False, 'name': 'J-LEED', 'name_with_path': 'Sandbox Test Project/J-LEED', 'parent_id': 771257538, 'private': True, 'read_only': False, 'updated_at': '2024-03-20T20:39:46Z'}, {'id': 771257571, 'created_at': '2024-03-20T20:39:46Z', 'created_by': {'id': 3238394, 'company_name': \"Rogers-O'Brien Construction Company\", 'locale': 'en', 'login': 'nvargo@r-o.com', 'name': 'Nick Vargo'}, 'custom_fields': {}, 'document_type': 'folder', 'is_deleted': False, 'is_recycle_bin': False, 'name': 'K-Correspondence', 'name_with_path': 'Sandbox Test Project/K-Correspondence', 'parent_id': 771257538, 'private': True, 'read_only': False, 'updated_at': '2024-03-20T20:39:46Z'}, {'id': 771257569, 'created_at': '2024-03-20T20:39:46Z', 'created_by': {'id': 3238394, 'company_name': \"Rogers-O'Brien Construction Company\", 'locale': 'en', 'login': 'nvargo@r-o.com', 'name': 'Nick Vargo'}, 'custom_fields': {}, 'document_type': 'folder', 'is_deleted': False, 'is_recycle_bin': False, 'name': 'L-Close Out', 'name_with_path': 'Sandbox Test Project/L-Close Out', 'parent_id': 771257538, 'private': True, 'read_only': False, 'updated_at': '2024-03-20T20:39:46Z'}, {'id': 771257566, 'created_at': '2024-03-20T20:39:46Z', 'created_by': {'id': 3238394, 'company_name': \"Rogers-O'Brien Construction Company\", 'locale': 'en', 'login': 'nvargo@r-o.com', 'name': 'Nick Vargo'}, 'custom_fields': {}, 'document_type': 'folder', 'is_deleted': False, 'is_recycle_bin': False, 'name': 'M-Project Performance Plan', 'name_with_path': 'Sandbox Test Project/M-Project Performance Plan', 'parent_id': 771257538, 'private': True, 'read_only': False, 'updated_at': '2024-03-20T20:39:46Z'}, {'id': 771257567, 'created_at': '2024-03-20T20:39:46Z', 'created_by': {'id': 3238394, 'company_name': \"Rogers-O'Brien Construction Company\", 'locale': 'en', 'login': 'nvargo@r-o.com', 'name': 'Nick Vargo'}, 'custom_fields': {}, 'document_type': 'folder', 'is_deleted': False, 'is_recycle_bin': False, 'name': 'N-Project Status Summary', 'name_with_path': 'Sandbox Test Project/N-Project Status Summary', 'parent_id': 771257538, 'private': True, 'read_only': False, 'updated_at': '2024-03-20T20:39:46Z'}, {'id': 772736983, 'created_at': '2024-03-25T16:49:00Z', 'created_by': {'id': 3238394, 'company_name': \"Rogers-O'Brien Construction Company\", 'locale': 'en', 'login': 'nvargo@r-o.com', 'name': 'Nick Vargo'}, 'custom_fields': {}, 'document_type': 'folder', 'is_deleted': False, 'is_recycle_bin': False, 'name': 'Nick Vargo Test Files', 'name_with_path': 'Sandbox Test Project/Z-Temp Items/Nick Vargo Test Files', 'parent_id': 771257568, 'private': False, 'read_only': False, 'updated_at': '2024-03-25T16:49:00Z'}, {'id': 771257538, 'created_at': '2024-03-20T20:39:40Z', 'created_by': {'id': 1, 'company_name': None, 'locale': '', 'login': None, 'name': 'Customer Support'}, 'custom_fields': {}, 'document_type': 'folder', 'is_deleted': False, 'is_recycle_bin': False, 'name': 'Sandbox Test Project', 'name_with_path': 'Sandbox Test Project', 'parent_id': None, 'private': False, 'read_only': False, 'updated_at': '2024-03-20T20:39:40Z'}, {'id': 929510260, 'created_at': '2025-05-13T17:48:59Z', 'created_by': {'id': 9486187, 'company_name': \"Rogers-O'Brien Construction Company\", 'locale': None, 'login': 'ro-data-connection-0a813c91@procore.com', 'name': 'R&D Data Connection'}, 'custom_fields': {}, 'document_type': 'folder', 'is_deleted': False, 'is_recycle_bin': False, 'name': 'Z-Research and Development', 'name_with_path': 'Sandbox Test Project/Z-Research and Development', 'parent_id': 771257538, 'private': False, 'read_only': False, 'updated_at': '2025-05-13T17:48:59Z'}, {'id': 771257568, 'created_at': '2024-03-20T20:39:46Z', 'created_by': {'id': 3238394, 'company_name': \"Rogers-O'Brien Construction Company\", 'locale': 'en', 'login': 'nvargo@r-o.com', 'name': 'Nick Vargo'}, 'custom_fields': {}, 'document_type': 'folder', 'is_deleted': False, 'is_recycle_bin': False, 'name': 'Z-Temp Items', 'name_with_path': 'Sandbox Test Project/Z-Temp Items', 'parent_id': 771257538, 'private': True, 'read_only': False, 'updated_at': '2024-03-20T20:39:46Z'}]\n"
     ]
    }
   ],
   "source": [
    "# Example 1: Get all folders\n",
    "# ---------\n",
    "print(\"Example 1\")\n",
    "folders = connection.folders.get(\n",
    "    company_id=company[\"id\"],\n",
    "    project_id=project[\"id\"]\n",
    ")\n",
    "print(folders)"
   ]
  },
  {
   "cell_type": "code",
   "execution_count": 6,
   "metadata": {},
   "outputs": [
    {
     "name": "stdout",
     "output_type": "stream",
     "text": [
      "\n",
      "Example 3\n",
      "[{'id': 816142268, 'created_at': '2024-07-17T20:56:14Z', 'created_by': {'id': 6036589, 'company_name': \"Rogers-O'Brien Construction Company\", 'locale': 'en', 'login': 'sthompson@r-o.com', 'name': 'Scott Thompson'}, 'custom_fields': {}, 'document_type': 'folder', 'is_deleted': False, 'is_recycle_bin': False, 'name': '03-Concrete', 'name_with_path': 'Sandbox Test Project/C-Field Use Documents/03-Concrete', 'parent_id': 771257695, 'private': False, 'read_only': False, 'updated_at': '2024-07-17T20:56:14Z'}]\n"
     ]
    }
   ],
   "source": [
    "# Example 3: Get all children folders from parent\n",
    "# ---------\n",
    "print(\"\\nExample 3\")\n",
    "subfolders = connection.folders.get(\n",
    "    company_id=company[\"id\"],\n",
    "    project_id=project[\"id\"],\n",
    "    folder_id=816142268\n",
    ")\n",
    "print(subfolders)\n"
   ]
  },
  {
   "cell_type": "markdown",
   "metadata": {},
   "source": [
    "### Create Folder"
   ]
  },
  {
   "cell_type": "code",
   "execution_count": 7,
   "metadata": {},
   "outputs": [
    {
     "name": "stdout",
     "output_type": "stream",
     "text": [
      "Example 1\n",
      "'Error: 400'\n",
      "cannot access local variable 'doc_info' where it is not associated with a value\n"
     ]
    }
   ],
   "source": [
    "# Example 1: Create folder in Root (no parent_id provided)\n",
    "# ---------\n",
    "print(\"Example 1\")\n",
    "try:\n",
    "    root_folder = connection.folders.create(\n",
    "        company_id=company[\"id\"],\n",
    "        project_id=project[\"id\"],\n",
    "        folder_name=\"Z-Research and Development\"\n",
    "    )\n",
    "    print(f\"{root_folder['id']}: {root_folder['name']}\")\n",
    "except Exception as e:\n",
    "    print(e)\n",
    "# 607848046: Z-Research and Development"
   ]
  },
  {
   "cell_type": "code",
   "execution_count": 8,
   "metadata": {},
   "outputs": [
    {
     "name": "stdout",
     "output_type": "stream",
     "text": [
      "\n",
      "Example 2\n",
      "929510338: A-Team\n"
     ]
    }
   ],
   "source": [
    "# Example 2: Create folder in specified location\n",
    "# ---------\n",
    "print(\"\\nExample 2\")\n",
    "folder = connection.folders.find(\n",
    "    company_id=company[\"id\"],\n",
    "    project_id=project[\"id\"],\n",
    "    identifier=\"Z-Research and Development\" # this needs to be a path in your procore project\n",
    ")\n",
    "# 607848083: A-Team\n",
    "\n",
    "try:\n",
    "    subfolder = connection.folders.create(\n",
    "        company_id=company[\"id\"],\n",
    "        project_id=project[\"id\"],\n",
    "        folder_id=folder[\"id\"],\n",
    "        folder_name=\"A-Team\"\n",
    "    )\n",
    "    print(f\"{subfolder['id']}: {subfolder['name']}\")\n",
    "except Exception as e:\n",
    "    print(e)"
   ]
  },
  {
   "cell_type": "code",
   "execution_count": 9,
   "metadata": {},
   "outputs": [
    {
     "name": "stdout",
     "output_type": "stream",
     "text": [
      "\n",
      "Example 3\n",
      "929510340: I-Safety and Environmental\n"
     ]
    }
   ],
   "source": [
    "# Example 3: Folder already exists\n",
    "# ---------\n",
    "print(\"\\nExample 3\")\n",
    "try:\n",
    "    existing_folder_name = \"I-Safety and Environmental\"\n",
    "    existing_folder = connection.folders.create(\n",
    "        company_id=company[\"id\"],\n",
    "        project_id=project[\"id\"],\n",
    "        folder_name=existing_folder_name\n",
    "    )\n",
    "    print(f\"{existing_folder['id']}: {existing_folder['name']}\")\n",
    "except WrongParamsError as e:\n",
    "    print(e)\n",
    "# 'Folder I-Safety and Environmental already exists'"
   ]
  },
  {
   "cell_type": "markdown",
   "metadata": {},
   "source": [
    "### Find Folder"
   ]
  },
  {
   "cell_type": "code",
   "execution_count": 10,
   "metadata": {},
   "outputs": [
    {
     "name": "stdout",
     "output_type": "stream",
     "text": [
      "Example 1\n",
      "929510260: Z-Research and Development\n",
      "{\n",
      "    \"id\": 929510260,\n",
      "    \"custom_fields\": {},\n",
      "    \"name\": \"Z-Research and Development\",\n",
      "    \"name_with_path\": \"Sandbox Test Project/Z-Research and Development\",\n",
      "    \"parent_id\": 771257538,\n",
      "    \"updated_at\": \"2025-05-13T17:48:59Z\",\n",
      "    \"is_deleted\": false,\n",
      "    \"is_recycle_bin\": false,\n",
      "    \"is_tracked\": false,\n",
      "    \"tracked_folder\": null,\n",
      "    \"has_children\": true,\n",
      "    \"has_children_files\": false,\n",
      "    \"has_children_folders\": true,\n",
      "    \"folders\": [\n",
      "        {\n",
      "            \"id\": 929510338,\n",
      "            \"custom_fields\": {},\n",
      "            \"name\": \"A-Team\",\n",
      "            \"name_with_path\": \"Sandbox Test Project/Z-Research and Development/A-Team\",\n",
      "            \"parent_id\": 929510260,\n",
      "            \"updated_at\": \"2025-05-13T17:49:08Z\",\n",
      "            \"is_deleted\": false,\n",
      "            \"is_recycle_bin\": false,\n",
      "            \"is_tracked\": false,\n",
      "            \"tracked_folder\": null,\n",
      "            \"has_children\": false,\n",
      "            \"has_children_files\": false,\n",
      "            \"has_children_folders\": false,\n",
      "            \"folders\": [],\n",
      "            \"files\": [],\n",
      "            \"private\": false,\n",
      "            \"read_only\": false\n",
      "        }\n",
      "    ],\n",
      "    \"files\": [],\n",
      "    \"private\": false,\n",
      "    \"read_only\": false\n",
      "}\n"
     ]
    }
   ],
   "source": [
    "# Example 1: Find folder in root\n",
    "# ---------\n",
    "print(\"Example 1\")\n",
    "folder1 = connection.folders.find(\n",
    "    company_id=company[\"id\"],\n",
    "    project_id=project[\"id\"],\n",
    "    identifier=\"Z-Research and Development\"\n",
    ")\n",
    "print(f\"{folder1['id']}: {folder1['name']}\")\n",
    "# 607848046: Z-Research and Development\n",
    "print(json.dumps(folder1, indent=4))"
   ]
  },
  {
   "cell_type": "code",
   "execution_count": 11,
   "metadata": {},
   "outputs": [
    {
     "name": "stdout",
     "output_type": "stream",
     "text": [
      "\n",
      "Example 2\n"
     ]
    },
    {
     "ename": "NotFoundItemError",
     "evalue": "'Could not find document Subcontractors Orientation'",
     "output_type": "error",
     "traceback": [
      "\u001b[31m---------------------------------------------------------------------------\u001b[39m",
      "\u001b[31mNotFoundItemError\u001b[39m                         Traceback (most recent call last)",
      "\u001b[36mCell\u001b[39m\u001b[36m \u001b[39m\u001b[32mIn[11]\u001b[39m\u001b[32m, line 4\u001b[39m\n\u001b[32m      1\u001b[39m \u001b[38;5;66;03m# Example 2: Find subfolder\u001b[39;00m\n\u001b[32m      2\u001b[39m \u001b[38;5;66;03m# ----------\u001b[39;00m\n\u001b[32m      3\u001b[39m \u001b[38;5;28mprint\u001b[39m(\u001b[33m\"\u001b[39m\u001b[38;5;130;01m\\n\u001b[39;00m\u001b[33mExample 2\u001b[39m\u001b[33m\"\u001b[39m)\n\u001b[32m----> \u001b[39m\u001b[32m4\u001b[39m folder2 = \u001b[43mconnection\u001b[49m\u001b[43m.\u001b[49m\u001b[43mfolders\u001b[49m\u001b[43m.\u001b[49m\u001b[43mfind\u001b[49m\u001b[43m(\u001b[49m\n\u001b[32m      5\u001b[39m \u001b[43m    \u001b[49m\u001b[43mcompany_id\u001b[49m\u001b[43m=\u001b[49m\u001b[43mcompany\u001b[49m\u001b[43m[\u001b[49m\u001b[33;43m\"\u001b[39;49m\u001b[33;43mid\u001b[39;49m\u001b[33;43m\"\u001b[39;49m\u001b[43m]\u001b[49m\u001b[43m,\u001b[49m\n\u001b[32m      6\u001b[39m \u001b[43m    \u001b[49m\u001b[43mproject_id\u001b[49m\u001b[43m=\u001b[49m\u001b[43mproject\u001b[49m\u001b[43m[\u001b[49m\u001b[33;43m\"\u001b[39;49m\u001b[33;43mid\u001b[39;49m\u001b[33;43m\"\u001b[39;49m\u001b[43m]\u001b[49m\u001b[43m,\u001b[49m\n\u001b[32m      7\u001b[39m \u001b[43m    \u001b[49m\u001b[43midentifier\u001b[49m\u001b[43m=\u001b[49m\u001b[33;43m\"\u001b[39;49m\u001b[33;43mSubcontractors Orientation\u001b[39;49m\u001b[33;43m\"\u001b[39;49m\n\u001b[32m      8\u001b[39m \u001b[43m)\u001b[49m\n\u001b[32m      9\u001b[39m \u001b[38;5;28mprint\u001b[39m(\u001b[33mf\u001b[39m\u001b[33m\"\u001b[39m\u001b[38;5;132;01m{\u001b[39;00mfolder2[\u001b[33m'\u001b[39m\u001b[33mid\u001b[39m\u001b[33m'\u001b[39m]\u001b[38;5;132;01m}\u001b[39;00m\u001b[33m: \u001b[39m\u001b[38;5;132;01m{\u001b[39;00mfolder2[\u001b[33m'\u001b[39m\u001b[33mname\u001b[39m\u001b[33m'\u001b[39m]\u001b[38;5;132;01m}\u001b[39;00m\u001b[33m\"\u001b[39m)\n\u001b[32m     10\u001b[39m \u001b[38;5;66;03m# 607846791: Subcontractors Orientation\u001b[39;00m\n",
      "\u001b[36mFile \u001b[39m\u001b[32m~/Projects/ProPyCore/ProPyCore/access/documents/folders.py:377\u001b[39m, in \u001b[36mFolders.find\u001b[39m\u001b[34m(self, company_id, project_id, identifier, folder_id)\u001b[39m\n\u001b[32m    370\u001b[39m     \u001b[38;5;28;01mif\u001b[39;00m folder[\u001b[33m\"\u001b[39m\u001b[33mname\u001b[39m\u001b[33m\"\u001b[39m] == identifier:\n\u001b[32m    371\u001b[39m         \u001b[38;5;28;01mreturn\u001b[39;00m \u001b[38;5;28mself\u001b[39m.show(\n\u001b[32m    372\u001b[39m             company_id=company_id,\n\u001b[32m    373\u001b[39m             project_id=project_id,\n\u001b[32m    374\u001b[39m             doc_id=folder[\u001b[33m\"\u001b[39m\u001b[33mid\u001b[39m\u001b[33m\"\u001b[39m]\n\u001b[32m    375\u001b[39m         )\n\u001b[32m--> \u001b[39m\u001b[32m377\u001b[39m \u001b[38;5;28;01mraise\u001b[39;00m NotFoundItemError(\u001b[33mf\u001b[39m\u001b[33m\"\u001b[39m\u001b[33mCould not find document \u001b[39m\u001b[38;5;132;01m{\u001b[39;00midentifier\u001b[38;5;132;01m}\u001b[39;00m\u001b[33m\"\u001b[39m)\n",
      "\u001b[31mNotFoundItemError\u001b[39m: 'Could not find document Subcontractors Orientation'"
     ]
    }
   ],
   "source": [
    "# Example 2: Find subfolder\n",
    "# ----------\n",
    "print(\"\\nExample 2\")\n",
    "folder2 = connection.folders.find(\n",
    "    company_id=company[\"id\"],\n",
    "    project_id=project[\"id\"],\n",
    "    identifier=\"Subcontractors Orientation\"\n",
    ")\n",
    "print(f\"{folder2['id']}: {folder2['name']}\")\n",
    "# 607846791: Subcontractors Orientation"
   ]
  },
  {
   "cell_type": "code",
   "execution_count": null,
   "metadata": {},
   "outputs": [],
   "source": [
    "# Example 3: No such folder\n",
    "# ---------\n",
    "print(\"\\nExample 3\")\n",
    "try:\n",
    "    folder3 = connection.folders.find(\n",
    "        company_id=company[\"id\"],\n",
    "        project_id=project[\"id\"],\n",
    "        identifier=\"Not a folder\"\n",
    "    )\n",
    "    print(folder3)\n",
    "except NotFoundItemError as e:  \n",
    "    print(e)\n",
    "# 'Could not find document Not a folder'"
   ]
  },
  {
   "cell_type": "markdown",
   "metadata": {},
   "source": [
    "### Update Folder"
   ]
  },
  {
   "cell_type": "code",
   "execution_count": null,
   "metadata": {},
   "outputs": [
    {
     "ename": "AttributeError",
     "evalue": "'Procore' object has no attribute '__folders__'",
     "output_type": "error",
     "traceback": [
      "\u001b[1;31m---------------------------------------------------------------------------\u001b[0m",
      "\u001b[1;31mAttributeError\u001b[0m                            Traceback (most recent call last)",
      "Cell \u001b[1;32mIn[16], line 2\u001b[0m\n\u001b[0;32m      1\u001b[0m \u001b[38;5;66;03m# create a folder\u001b[39;00m\n\u001b[1;32m----> 2\u001b[0m \u001b[43mconnection\u001b[49m\u001b[38;5;241;43m.\u001b[39;49m\u001b[43m__folders__\u001b[49m\u001b[38;5;241m.\u001b[39mcreate(\n\u001b[0;32m      3\u001b[0m     company_id\u001b[38;5;241m=\u001b[39mcompany[\u001b[38;5;124m\"\u001b[39m\u001b[38;5;124mid\u001b[39m\u001b[38;5;124m\"\u001b[39m],\n\u001b[0;32m      4\u001b[0m     project_id\u001b[38;5;241m=\u001b[39mproject[\u001b[38;5;124m\"\u001b[39m\u001b[38;5;124mid\u001b[39m\u001b[38;5;124m\"\u001b[39m],\n\u001b[0;32m      5\u001b[0m     folder_name\u001b[38;5;241m=\u001b[39m\u001b[38;5;124mf\u001b[39m\u001b[38;5;124m\"\u001b[39m\u001b[38;5;124mFolder_in_Root\u001b[39m\u001b[38;5;124m\"\u001b[39m\n\u001b[0;32m      6\u001b[0m )\n\u001b[0;32m      8\u001b[0m folder \u001b[38;5;241m=\u001b[39m connection\u001b[38;5;241m.\u001b[39mfind_doc(\n\u001b[0;32m      9\u001b[0m     company_id\u001b[38;5;241m=\u001b[39mcompany[\u001b[38;5;124m\"\u001b[39m\u001b[38;5;124mid\u001b[39m\u001b[38;5;124m\"\u001b[39m],\n\u001b[0;32m     10\u001b[0m     project_id\u001b[38;5;241m=\u001b[39mproject[\u001b[38;5;124m\"\u001b[39m\u001b[38;5;124mid\u001b[39m\u001b[38;5;124m\"\u001b[39m],\n\u001b[0;32m     11\u001b[0m     name\u001b[38;5;241m=\u001b[39m\u001b[38;5;124m\"\u001b[39m\u001b[38;5;124mFolder_in_Root\u001b[39m\u001b[38;5;124m\"\u001b[39m\n\u001b[0;32m     12\u001b[0m )\n",
      "\u001b[1;31mAttributeError\u001b[0m: 'Procore' object has no attribute '__folders__'"
     ]
    }
   ],
   "source": [
    "# create a folder\n",
    "connection.folders.create(\n",
    "    company_id=company[\"id\"],\n",
    "    project_id=project[\"id\"],\n",
    "    folder_name=f\"Folder_in_Root\"\n",
    ")\n",
    "\n",
    "folder = connection.folders.find(\n",
    "    company_id=company[\"id\"],\n",
    "    project_id=project[\"id\"],\n",
    "    identifier=\"Folder_in_Root\"\n",
    ")"
   ]
  },
  {
   "cell_type": "code",
   "execution_count": null,
   "metadata": {},
   "outputs": [],
   "source": [
    "# Example 1: Move folder\n",
    "# ---------\n",
    "print(\"Example 1\")\n",
    "subfolder = connection.folders.find(\n",
    "    company_id=company[\"id\"],\n",
    "    project_id=project[\"id\"],\n",
    "    identifier=\"I-Safety and Environmental\"\n",
    ")\n",
    "\n",
    "connection.folders.update(\n",
    "    company_id=company[\"id\"],\n",
    "    project_id=project[\"id\"],\n",
    "    doc_id=folder[\"id\"],\n",
    "    parent_id=subfolder[\"id\"]\n",
    ")"
   ]
  },
  {
   "cell_type": "code",
   "execution_count": null,
   "metadata": {},
   "outputs": [],
   "source": [
    "# Example 2: Update folder name\n",
    "# ---------\n",
    "print(\"\\nExample 2\")\n",
    "connection.folders.update(\n",
    "    company_id=company[\"id\"],\n",
    "    project_id=project[\"id\"],\n",
    "    doc_id=folder[\"id\"],\n",
    "    folder_name=\"Now_a_Subfolder\"\n",
    ")"
   ]
  },
  {
   "cell_type": "code",
   "execution_count": null,
   "metadata": {},
   "outputs": [],
   "source": [
    "# Example 3: Change permissions\n",
    "# ---------\n",
    "print(\"\\nExample 2\")\n",
    "connection.folders.update(\n",
    "    company_id=company[\"id\"],\n",
    "    project_id=project[\"id\"],\n",
    "    doc_id=folder[\"id\"],\n",
    "    private=True\n",
    ")"
   ]
  },
  {
   "cell_type": "markdown",
   "metadata": {},
   "source": [
    "## Files"
   ]
  },
  {
   "cell_type": "markdown",
   "metadata": {},
   "source": [
    "### Get Files"
   ]
  },
  {
   "cell_type": "code",
   "execution_count": 12,
   "metadata": {},
   "outputs": [
    {
     "name": "stdout",
     "output_type": "stream",
     "text": [
      "\n",
      "Example 2\n",
      "Number of files: 7068\n"
     ]
    }
   ],
   "source": [
    "# Example 2: Get all files\n",
    "# ---------\n",
    "print(\"\\nExample 2\")\n",
    "files = connection.files.get(\n",
    "    company_id=company[\"id\"],\n",
    "    project_id=2289314,\n",
    "    view=\"extended\",\n",
    "    file_types=[\"pdf\"]\n",
    ")\n",
    "\n",
    "print(\"Number of files:\", len(files))"
   ]
  },
  {
   "cell_type": "code",
   "execution_count": null,
   "metadata": {},
   "outputs": [],
   "source": [
    "# Example 4: Get all children files from parent\n",
    "# ---------\n",
    "print(\"\\nExample 4\")\n",
    "subfiles = connection.files.get(\n",
    "    company_id=company[\"id\"],\n",
    "    project_id=project[\"id\"],\n",
    "    folder_id=607848046\n",
    ")\n",
    "print(subfiles)"
   ]
  },
  {
   "cell_type": "markdown",
   "metadata": {},
   "source": [
    "### Create Files"
   ]
  },
  {
   "cell_type": "code",
   "execution_count": null,
   "metadata": {},
   "outputs": [],
   "source": [
    "# Example 1: Create file in Root (no parent_id provided)\n",
    "# ---------\n",
    "print(\"Example 1\")\n",
    "try:\n",
    "    file_in_root = connection.files.create(\n",
    "        company_id=company[\"id\"],\n",
    "        project_id=project[\"id\"],\n",
    "        filepath=f\"{pathlib.Path(__file__).resolve().parent.parent}/data/test/test_pdf.pdf\"\n",
    "    )\n",
    "    print(f\"{file_in_root['id']}: {file_in_root['name']}\")\n",
    "except WrongParamsError as e:\n",
    "    print(e)\n",
    "# 607852186: test_pdf.pdf"
   ]
  },
  {
   "cell_type": "code",
   "execution_count": null,
   "metadata": {},
   "outputs": [],
   "source": [
    " # Example 2: Create file in specified location\n",
    "# ---------\n",
    "print(\"\\nExample 2\")\n",
    "try:\n",
    "    folder = connection.folders.find(\n",
    "        company_id=company[\"id\"],\n",
    "        project_id=project[\"id\"],\n",
    "        identifier=\"Subcontractors Orientation\" # this needs to be a folder in your procore project\n",
    "    )\n",
    "\n",
    "    file = connection.files.create(\n",
    "        company_id=company[\"id\"],\n",
    "        project_id=project[\"id\"],\n",
    "        folder_id=folder[\"id\"],\n",
    "        filepath=f\"{pathlib.Path(__file__).resolve().parent.parent}/data/test/another_test_pdf.pdf\"\n",
    "    )\n",
    "    print(f\"{file['id']}: {file['name']}\")\n",
    "except WrongParamsError as e:\n",
    "    print(e)\n",
    "# 607851830: another_test_pdf.pdf"
   ]
  },
  {
   "cell_type": "code",
   "execution_count": null,
   "metadata": {},
   "outputs": [],
   "source": [
    "# Example 3: File already exists\n",
    "# ---------\n",
    "try:\n",
    "    file = connection.files.create(\n",
    "        company_id=company[\"id\"],\n",
    "        project_id=project[\"id\"],\n",
    "        folder_id=folder[\"id\"],\n",
    "        filepath=f\"{pathlib.Path(__file__).resolve().parent.parent}/data/test/another_test_pdf.pdf\"\n",
    "    )\n",
    "    print(f\"{file['id']}: {file['name']}\")\n",
    "except WrongParamsError as e:\n",
    "    print(e)\n",
    "# 'File another_test_pdf.pdf already exists'"
   ]
  },
  {
   "cell_type": "markdown",
   "metadata": {},
   "source": [
    "### Find Files"
   ]
  },
  {
   "cell_type": "code",
   "execution_count": null,
   "metadata": {},
   "outputs": [],
   "source": [
    "# Example 1: Find file in root\n",
    "# ---------\n",
    "print(\"Example 1\")\n",
    "file1 = connection.files.find(\n",
    "    company_id=company[\"id\"],\n",
    "    project_id=project[\"id\"],\n",
    "    identifier=\"test_pdf.pdf\"\n",
    ")\n",
    "print(f\"{file1['id']}: {file1['name']}\")\n",
    "# 607852186: test_pdf.pdf\n",
    "print(json.dumps(file1, indent=4))\n",
    "# See example in /references/"
   ]
  },
  {
   "cell_type": "code",
   "execution_count": null,
   "metadata": {},
   "outputs": [],
   "source": [
    "# Example 2: Find file in subfolder\n",
    "# ----------\n",
    "print(\"\\nExample 2\")\n",
    "file2 = connection.files.find(\n",
    "    company_id=company[\"id\"],\n",
    "    project_id=project[\"id\"],\n",
    "    identifier=\"another_test_pdf.pdf\"\n",
    ")\n",
    "print(f\"{file2['id']}: {file2['name']}\")\n",
    "# 607851830: another_test_pdf.pdf"
   ]
  },
  {
   "cell_type": "code",
   "execution_count": null,
   "metadata": {},
   "outputs": [],
   "source": [
    "# Example 3: No such file\n",
    "# ---------\n",
    "print(\"\\nExample 3\")\n",
    "try:\n",
    "    file3 = connection.files.find(\n",
    "        company_id=company[\"id\"],\n",
    "        project_id=project[\"id\"],\n",
    "        identifier=\"Not a file.txt\"\n",
    "    )\n",
    "    print(file3)\n",
    "except NotFoundItemError as e:\n",
    "    print(e)\n",
    "# 'Could not find document Not a file.txt'"
   ]
  },
  {
   "cell_type": "code",
   "execution_count": null,
   "metadata": {},
   "outputs": [],
   "source": [
    "# Example 1: Search for file with multiple perfect matches\n",
    "# ---------\n",
    "print(\"Example 1\")\n",
    "doc1 = connection.files.search(\n",
    "    company_id=company[\"id\"],\n",
    "    project_id=project[\"id\"],\n",
    "    value=\"test\"    \n",
    ")\n",
    "print(f\"{doc1['id']}: {doc1['name']}\")\n",
    "# warn(\"Multiple 100% matches - try refining your search critera for better results\")\n",
    "# 607851830: test_pdf.pdf"
   ]
  },
  {
   "cell_type": "code",
   "execution_count": null,
   "metadata": {},
   "outputs": [],
   "source": [
    "# Example 1: Search for private file\n",
    "# ---------\n",
    "print(\"\\nExample 2\")\n",
    "doc2 = connection.files.search(\n",
    "    company_id=company[\"id\"],\n",
    "    project_id=project[\"id\"],\n",
    "    value=\"another\"\n",
    ")\n",
    "print(f\"{doc2['id']}: {doc2['name']}\")\n",
    "# 607851830: another_test_pdf.pdf"
   ]
  },
  {
   "cell_type": "code",
   "execution_count": null,
   "metadata": {},
   "outputs": [],
   "source": [
    "# Example 3: Find folder \n",
    "# ---------\n",
    "print(\"\\nExample 3\")\n",
    "doc3 = connection.folders.search(\n",
    "    company_id=company[\"id\"],\n",
    "    project_id=project[\"id\"],\n",
    "    value=\"training\"\n",
    ")\n",
    "print(f\"{doc3['id']}: {doc3['name']}\")\n",
    "# 607846718: 3-Orientations and Training"
   ]
  },
  {
   "cell_type": "code",
   "execution_count": null,
   "metadata": {},
   "outputs": [],
   "source": [
    "# Example 5: Find file in subfolder \n",
    "# ---------\n",
    "print(\"\\nExample 5\")\n",
    "folder = connection.folders.find(\n",
    "    company_id=company[\"id\"],\n",
    "    project_id=project[\"id\"],\n",
    "    identifier=\"I-Safety and Environmental\"\n",
    ")\n",
    "doc4 = connection.files.search(\n",
    "    company_id=company[\"id\"],\n",
    "    project_id=project[\"id\"],\n",
    "    folder_id=folder[\"id\"],\n",
    "    value=\"test\"\n",
    ")\n",
    "print(f\"{doc4['id']}: {doc4['name']}\")\n",
    "# 607851830: another_test_pdf.pdf"
   ]
  },
  {
   "cell_type": "code",
   "execution_count": null,
   "metadata": {},
   "outputs": [],
   "source": [
    "# Example 5: Find subfolder in specified folder \n",
    "# ---------\n",
    "print(\"\\nExample 5\")\n",
    "folder = connection.folders.find(\n",
    "    company_id=company[\"id\"],\n",
    "    project_id=project[\"id\"],\n",
    "    identifier=\"I-Safety and Environmental\"\n",
    ")\n",
    "doc5 = connection.folders.search(\n",
    "    company_id=company[\"id\"],\n",
    "    project_id=project[\"id\"],\n",
    "    folder_id=folder[\"id\"],\n",
    "    value=\"subcontractor\"\n",
    ")\n",
    "print(f\"{doc5['id']}: {doc5['name']}\")\n",
    "# 607846791: Subcontractors Orientation"
   ]
  },
  {
   "cell_type": "markdown",
   "metadata": {},
   "source": [
    "### Update Files"
   ]
  },
  {
   "cell_type": "code",
   "execution_count": null,
   "metadata": {},
   "outputs": [],
   "source": [
    "# Housekeeping\n",
    "# ------------\n",
    "# start by deleting the test files if they are present\n",
    "for old_file in [\"test_pdf.pdf\", \"renamed_test_pdf\", \"another_test_pdf.pdf\"]:\n",
    "    # look for the filename\n",
    "    try:\n",
    "        file_temp = connection.files.find(\n",
    "            company_id=company[\"id\"],\n",
    "            project_id=project[\"id\"],\n",
    "            identifier=old_file\n",
    "        )\n",
    "        \n",
    "        response = connection.files.remove(\n",
    "            company_id=company[\"id\"],\n",
    "            project_id=project[\"id\"],\n",
    "            doc_id=file_temp[\"id\"],\n",
    "        )\n",
    "        print(f\"Delete {old_file}:\", response[\"status_code\"])\n",
    "    except NotFoundItemError as e:\n",
    "        print(e)\n",
    "\n",
    "# create a file\n",
    "try:\n",
    "    connection.files.create(\n",
    "        company_id=company[\"id\"],\n",
    "        project_id=project[\"id\"],\n",
    "        filepath=f\"{pathlib.Path(__file__).resolve().parent.parent}/data/test/test_pdf.pdf\",\n",
    "        description=\"Nothing to see here\"\n",
    "    )\n",
    "except WrongParamsError as e:\n",
    "    print(e)\n",
    "\n",
    "file_original = connection.files.find(\n",
    "    company_id=company[\"id\"],\n",
    "    project_id=project[\"id\"],\n",
    "    identifier=\"test_pdf.pdf\"\n",
    ")"
   ]
  },
  {
   "cell_type": "code",
   "execution_count": null,
   "metadata": {},
   "outputs": [],
   "source": [
    "# Example 1: Move file\n",
    "# ---------\n",
    "print(\"Example 1\")\n",
    "subfolder = connection.folders.find(\n",
    "    company_id=company[\"id\"],\n",
    "    project_id=project[\"id\"],\n",
    "    identifier=\"I-Safety and Environmental\"\n",
    ")\n",
    "\n",
    "file_new_loc = connection.files.update(\n",
    "    company_id=company[\"id\"],\n",
    "    project_id=project[\"id\"],\n",
    "    doc_id=file_original[\"id\"],\n",
    "    folder_id=subfolder[\"id\"]\n",
    ")\n",
    "print(f\"Original parent ID:\", file_original[\"parent_id\"])\n",
    "print(f\"Updated parent ID:\", file_new_loc[\"parent_id\"])"
   ]
  },
  {
   "cell_type": "code",
   "execution_count": null,
   "metadata": {},
   "outputs": [],
   "source": [
    "# Example 2: Update file name\n",
    "# ---------\n",
    "print(\"\\nExample 2\")\n",
    "file_new_name = connection.files.update(\n",
    "    company_id=company[\"id\"],\n",
    "    project_id=project[\"id\"],\n",
    "    doc_id=file_original[\"id\"],\n",
    "    filename=\"renamed_test_pdf.pdf\"\n",
    ")\n",
    "print(f\"Original filename:\", file_original[\"name\"])\n",
    "print(f\"Updated filename:\", file_new_name[\"name\"])"
   ]
  },
  {
   "cell_type": "code",
   "execution_count": null,
   "metadata": {},
   "outputs": [],
   "source": [
    "# Example 3: Change Description\n",
    "# ---------\n",
    "print(\"\\nExample 3\")\n",
    "file_new_desc = connection.files.update(\n",
    "    company_id=company[\"id\"],\n",
    "    project_id=project[\"id\"],\n",
    "    doc_id=file_original[\"id\"],\n",
    "    description=\"This document now has a fancy description\"\n",
    ")\n",
    "print(f\"Original description:\", file_original[\"description\"])\n",
    "print(f\"Updated description:\", file_new_desc[\"description\"])"
   ]
  },
  {
   "cell_type": "code",
   "execution_count": null,
   "metadata": {},
   "outputs": [],
   "source": [
    "# Example 4: Change permissions\n",
    "# ---------\n",
    "print(\"\\nExample 4\")\n",
    "file_new_permissions = connection.files.update(\n",
    "    company_id=company[\"id\"],\n",
    "    project_id=project[\"id\"],\n",
    "    doc_id=file_original[\"id\"],\n",
    "    private=False\n",
    ")\n",
    "print(f\"Private? (Original):\", file_original[\"private\"])\n",
    "print(f\"Private? (Updated):\", file_new_permissions[\"private\"])"
   ]
  },
  {
   "cell_type": "code",
   "execution_count": null,
   "metadata": {},
   "outputs": [],
   "source": [
    "# Example 5: Update file content\n",
    "# ---------\n",
    "print(\"\\nExample 5\")\n",
    "file_new_content = connection.files.update(\n",
    "    company_id=company[\"id\"],\n",
    "    project_id=project[\"id\"],\n",
    "    doc_id=file_original[\"id\"],\n",
    "    filepath=f\"{pathlib.Path(__file__).resolve().parent.parent}/data/test/another_test_pdf.pdf\"\n",
    ")\n",
    "print(\"Original Number of Versions:\", len(file_original[\"file_versions\"]))\n",
    "print(\"Updated Number of Versions:\", len(file_new_content[\"file_versions\"]))"
   ]
  },
  {
   "cell_type": "markdown",
   "metadata": {},
   "source": [
    "---"
   ]
  }
 ],
 "metadata": {
  "kernelspec": {
   "display_name": ".venv",
   "language": "python",
   "name": "python3"
  },
  "language_info": {
   "codemirror_mode": {
    "name": "ipython",
    "version": 3
   },
   "file_extension": ".py",
   "mimetype": "text/x-python",
   "name": "python",
   "nbconvert_exporter": "python",
   "pygments_lexer": "ipython3",
   "version": "3.13.3"
  }
 },
 "nbformat": 4,
 "nbformat_minor": 2
}
