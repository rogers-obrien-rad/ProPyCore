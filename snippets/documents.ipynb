{
 "cells": [
  {
   "cell_type": "markdown",
   "metadata": {},
   "source": [
    "# ProPyCore SDK Examples: Documents\n",
    "\n",
    "This notebook contains snippets from the `documents` submodules: `folders.py` and `files.py`.\n",
    "\n",
    "Procore defines two main document types: folders and files. The `folders` submodule contains functions for working with folders and the `files` submodule contains functions for working with files."
   ]
  },
  {
   "cell_type": "code",
   "execution_count": 8,
   "metadata": {},
   "outputs": [],
   "source": [
    "import os\n",
    "import dotenv\n",
    "import json\n",
    "\n",
    "import ProPyCore"
   ]
  },
  {
   "cell_type": "markdown",
   "metadata": {},
   "source": [
    "## Setup\n",
    "You will need to create the connection to your Procore app and then get the details for your company and project.\n",
    "\n",
    "### Connection to Procore App\n",
    "Ensure you have a `.env` file with the following information included:\n",
    "* `CLIENT_ID`: your data connection app's client ID\n",
    "* `CLIENT_SECRET`: your data connection app's client secret"
   ]
  },
  {
   "cell_type": "code",
   "execution_count": 9,
   "metadata": {},
   "outputs": [],
   "source": [
    "dotenv.load_dotenv()\n",
    "connection = ProPyCore.procore.Procore(\n",
    "    client_id=os.getenv(\"CLIENT_ID\"),\n",
    "    client_secret=os.getenv(\"CLIENT_SECRET\"),\n",
    "    redirect_uri=\"urn:ietf:wg:oauth:2.0:oob\", # default for data connection apps\n",
    "    oauth_url=\"https://app.procore.com\", # default for data connection apps\n",
    "    base_url=\"https://app.procore.com\" # default for data connection apps\n",
    ")"
   ]
  },
  {
   "cell_type": "markdown",
   "metadata": {},
   "source": [
    "### Get Company Details\n",
    "Use the cell below to specify your company name"
   ]
  },
  {
   "cell_type": "code",
   "execution_count": 10,
   "metadata": {},
   "outputs": [],
   "source": [
    "company_name = \"Rogers-O`Brien Construction\""
   ]
  },
  {
   "cell_type": "markdown",
   "metadata": {},
   "source": [
    "Now get the company details and find a specific project, in this case \"Sandbox Test Project\"."
   ]
  },
  {
   "cell_type": "code",
   "execution_count": 11,
   "metadata": {},
   "outputs": [
    {
     "name": "stdout",
     "output_type": "stream",
     "text": [
      "Project: Sandbox Test Project (2783683)\n"
     ]
    }
   ],
   "source": [
    "company = connection.companies.find(identifier=company_name)\n",
    "project = connection.projects.find(\n",
    "    company_id=company[\"id\"],\n",
    "    identifier=\"Sandbox Test Project\"\n",
    ")\n",
    "print(f\"Project: {project['name']} ({project['id']})\")"
   ]
  },
  {
   "cell_type": "markdown",
   "metadata": {},
   "source": [
    "## Folders"
   ]
  },
  {
   "cell_type": "markdown",
   "metadata": {},
   "source": [
    "### Get Folders"
   ]
  },
  {
   "cell_type": "code",
   "execution_count": null,
   "metadata": {},
   "outputs": [],
   "source": [
    "# Example 1: Get all folders\n",
    "# ---------\n",
    "print(\"Example 1\")\n",
    "folders = connection.__folders__.get(\n",
    "    company_id=company[\"id\"],\n",
    "    project_id=project[\"id\"]\n",
    ")\n",
    "print(folders)"
   ]
  },
  {
   "cell_type": "code",
   "execution_count": null,
   "metadata": {},
   "outputs": [],
   "source": [
    "# Example 3: Get all children folders from parent\n",
    "# ---------\n",
    "print(\"\\nExample 3\")\n",
    "subfolders = connection.__folders__.get(\n",
    "    company_id=company[\"id\"],\n",
    "    project_id=project[\"id\"],\n",
    "    folder_id=607848046\n",
    ")\n",
    "print(subfolders)\n"
   ]
  },
  {
   "cell_type": "markdown",
   "metadata": {},
   "source": [
    "### Create Folder"
   ]
  },
  {
   "cell_type": "code",
   "execution_count": 12,
   "metadata": {},
   "outputs": [
    {
     "name": "stdout",
     "output_type": "stream",
     "text": [
      "Example 1\n"
     ]
    },
    {
     "ename": "NameError",
     "evalue": "name 'WrongParamsError' is not defined",
     "output_type": "error",
     "traceback": [
      "\u001b[1;31m---------------------------------------------------------------------------\u001b[0m",
      "\u001b[1;31mAttributeError\u001b[0m                            Traceback (most recent call last)",
      "Cell \u001b[1;32mIn[12], line 5\u001b[0m\n\u001b[0;32m      4\u001b[0m \u001b[38;5;28;01mtry\u001b[39;00m:\n\u001b[1;32m----> 5\u001b[0m     root_folder \u001b[38;5;241m=\u001b[39m \u001b[43mconnection\u001b[49m\u001b[38;5;241;43m.\u001b[39;49m\u001b[43mdocuments\u001b[49m\u001b[38;5;241m.\u001b[39mfolders\u001b[38;5;241m.\u001b[39mcreate(\n\u001b[0;32m      6\u001b[0m         company_id\u001b[38;5;241m=\u001b[39mcompany[\u001b[38;5;124m\"\u001b[39m\u001b[38;5;124mid\u001b[39m\u001b[38;5;124m\"\u001b[39m],\n\u001b[0;32m      7\u001b[0m         project_id\u001b[38;5;241m=\u001b[39mproject[\u001b[38;5;124m\"\u001b[39m\u001b[38;5;124mid\u001b[39m\u001b[38;5;124m\"\u001b[39m],\n\u001b[0;32m      8\u001b[0m         folder_name\u001b[38;5;241m=\u001b[39m\u001b[38;5;124m\"\u001b[39m\u001b[38;5;124mZ-Research and Development\u001b[39m\u001b[38;5;124m\"\u001b[39m\n\u001b[0;32m      9\u001b[0m     )\n\u001b[0;32m     10\u001b[0m     \u001b[38;5;28mprint\u001b[39m(\u001b[38;5;124mf\u001b[39m\u001b[38;5;124m\"\u001b[39m\u001b[38;5;132;01m{\u001b[39;00mroot_folder[\u001b[38;5;124m'\u001b[39m\u001b[38;5;124mid\u001b[39m\u001b[38;5;124m'\u001b[39m]\u001b[38;5;132;01m}\u001b[39;00m\u001b[38;5;124m: \u001b[39m\u001b[38;5;132;01m{\u001b[39;00mroot_folder[\u001b[38;5;124m'\u001b[39m\u001b[38;5;124mname\u001b[39m\u001b[38;5;124m'\u001b[39m]\u001b[38;5;132;01m}\u001b[39;00m\u001b[38;5;124m\"\u001b[39m)\n",
      "\u001b[1;31mAttributeError\u001b[0m: 'Procore' object has no attribute 'documents'",
      "\nDuring handling of the above exception, another exception occurred:\n",
      "\u001b[1;31mNameError\u001b[0m                                 Traceback (most recent call last)",
      "Cell \u001b[1;32mIn[12], line 11\u001b[0m\n\u001b[0;32m      5\u001b[0m     root_folder \u001b[38;5;241m=\u001b[39m connection\u001b[38;5;241m.\u001b[39mdocuments\u001b[38;5;241m.\u001b[39mfolders\u001b[38;5;241m.\u001b[39mcreate(\n\u001b[0;32m      6\u001b[0m         company_id\u001b[38;5;241m=\u001b[39mcompany[\u001b[38;5;124m\"\u001b[39m\u001b[38;5;124mid\u001b[39m\u001b[38;5;124m\"\u001b[39m],\n\u001b[0;32m      7\u001b[0m         project_id\u001b[38;5;241m=\u001b[39mproject[\u001b[38;5;124m\"\u001b[39m\u001b[38;5;124mid\u001b[39m\u001b[38;5;124m\"\u001b[39m],\n\u001b[0;32m      8\u001b[0m         folder_name\u001b[38;5;241m=\u001b[39m\u001b[38;5;124m\"\u001b[39m\u001b[38;5;124mZ-Research and Development\u001b[39m\u001b[38;5;124m\"\u001b[39m\n\u001b[0;32m      9\u001b[0m     )\n\u001b[0;32m     10\u001b[0m     \u001b[38;5;28mprint\u001b[39m(\u001b[38;5;124mf\u001b[39m\u001b[38;5;124m\"\u001b[39m\u001b[38;5;132;01m{\u001b[39;00mroot_folder[\u001b[38;5;124m'\u001b[39m\u001b[38;5;124mid\u001b[39m\u001b[38;5;124m'\u001b[39m]\u001b[38;5;132;01m}\u001b[39;00m\u001b[38;5;124m: \u001b[39m\u001b[38;5;132;01m{\u001b[39;00mroot_folder[\u001b[38;5;124m'\u001b[39m\u001b[38;5;124mname\u001b[39m\u001b[38;5;124m'\u001b[39m]\u001b[38;5;132;01m}\u001b[39;00m\u001b[38;5;124m\"\u001b[39m)\n\u001b[1;32m---> 11\u001b[0m \u001b[38;5;28;01mexcept\u001b[39;00m \u001b[43mWrongParamsError\u001b[49m \u001b[38;5;28;01mas\u001b[39;00m e:\n\u001b[0;32m     12\u001b[0m     \u001b[38;5;28mprint\u001b[39m(e)\n\u001b[0;32m     13\u001b[0m \u001b[38;5;66;03m# 607848046: Z-Research and Development\u001b[39;00m\n",
      "\u001b[1;31mNameError\u001b[0m: name 'WrongParamsError' is not defined"
     ]
    }
   ],
   "source": [
    "# Example 1: Create folder in Root (no parent_id provided)\n",
    "# ---------\n",
    "print(\"Example 1\")\n",
    "try:\n",
    "    root_folder = connection.documents.folders.create(\n",
    "        company_id=company[\"id\"],\n",
    "        project_id=project[\"id\"],\n",
    "        folder_name=\"Z-Research and Development\"\n",
    "    )\n",
    "    print(f\"{root_folder['id']}: {root_folder['name']}\")\n",
    "except Exception as e:\n",
    "    print(e)\n",
    "# 607848046: Z-Research and Development"
   ]
  },
  {
   "cell_type": "code",
   "execution_count": 15,
   "metadata": {},
   "outputs": [
    {
     "name": "stdout",
     "output_type": "stream",
     "text": [
      "\n",
      "Example 2\n"
     ]
    },
    {
     "ename": "NotFoundItemError",
     "evalue": "'Could not find document Z-Research and Development'",
     "output_type": "error",
     "traceback": [
      "\u001b[1;31m---------------------------------------------------------------------------\u001b[0m",
      "\u001b[1;31mNotFoundItemError\u001b[0m                         Traceback (most recent call last)",
      "Cell \u001b[1;32mIn[15], line 4\u001b[0m\n\u001b[0;32m      1\u001b[0m \u001b[38;5;66;03m# Example 2: Create folder in specified location\u001b[39;00m\n\u001b[0;32m      2\u001b[0m \u001b[38;5;66;03m# ---------\u001b[39;00m\n\u001b[0;32m      3\u001b[0m \u001b[38;5;28mprint\u001b[39m(\u001b[38;5;124m\"\u001b[39m\u001b[38;5;130;01m\\n\u001b[39;00m\u001b[38;5;124mExample 2\u001b[39m\u001b[38;5;124m\"\u001b[39m)\n\u001b[1;32m----> 4\u001b[0m folder \u001b[38;5;241m=\u001b[39m \u001b[43mconnection\u001b[49m\u001b[38;5;241;43m.\u001b[39;49m\u001b[43mfolders\u001b[49m\u001b[38;5;241;43m.\u001b[39;49m\u001b[43mfind\u001b[49m\u001b[43m(\u001b[49m\n\u001b[0;32m      5\u001b[0m \u001b[43m    \u001b[49m\u001b[43mcompany_id\u001b[49m\u001b[38;5;241;43m=\u001b[39;49m\u001b[43mcompany\u001b[49m\u001b[43m[\u001b[49m\u001b[38;5;124;43m\"\u001b[39;49m\u001b[38;5;124;43mid\u001b[39;49m\u001b[38;5;124;43m\"\u001b[39;49m\u001b[43m]\u001b[49m\u001b[43m,\u001b[49m\n\u001b[0;32m      6\u001b[0m \u001b[43m    \u001b[49m\u001b[43mproject_id\u001b[49m\u001b[38;5;241;43m=\u001b[39;49m\u001b[43mproject\u001b[49m\u001b[43m[\u001b[49m\u001b[38;5;124;43m\"\u001b[39;49m\u001b[38;5;124;43mid\u001b[39;49m\u001b[38;5;124;43m\"\u001b[39;49m\u001b[43m]\u001b[49m\u001b[43m,\u001b[49m\n\u001b[0;32m      7\u001b[0m \u001b[43m    \u001b[49m\u001b[43midentifier\u001b[49m\u001b[38;5;241;43m=\u001b[39;49m\u001b[38;5;124;43m\"\u001b[39;49m\u001b[38;5;124;43mZ-Research and Development\u001b[39;49m\u001b[38;5;124;43m\"\u001b[39;49m\u001b[43m \u001b[49m\u001b[38;5;66;43;03m# this needs to be a path in your procore project\u001b[39;49;00m\n\u001b[0;32m      8\u001b[0m \u001b[43m)\u001b[49m\n\u001b[0;32m      9\u001b[0m \u001b[38;5;66;03m# 607848083: A-Team\u001b[39;00m\n\u001b[0;32m     11\u001b[0m \u001b[38;5;28;01mtry\u001b[39;00m:\n",
      "File \u001b[1;32mc:\\Users\\hfritz\\OneDrive - RO\\Documents\\packages\\ProPyCore\\snippets\\.venv_doc\\Lib\\site-packages\\ProPyCore\\access\\documents\\folders.py:377\u001b[0m, in \u001b[0;36mFolders.find\u001b[1;34m(self, company_id, project_id, identifier, folder_id)\u001b[0m\n\u001b[0;32m    370\u001b[0m     \u001b[38;5;28;01mif\u001b[39;00m folder[\u001b[38;5;124m\"\u001b[39m\u001b[38;5;124mname\u001b[39m\u001b[38;5;124m\"\u001b[39m] \u001b[38;5;241m==\u001b[39m identifier:\n\u001b[0;32m    371\u001b[0m         \u001b[38;5;28;01mreturn\u001b[39;00m \u001b[38;5;28mself\u001b[39m\u001b[38;5;241m.\u001b[39mshow(\n\u001b[0;32m    372\u001b[0m             company_id\u001b[38;5;241m=\u001b[39mcompany_id,\n\u001b[0;32m    373\u001b[0m             project_id\u001b[38;5;241m=\u001b[39mproject_id,\n\u001b[0;32m    374\u001b[0m             doc_id\u001b[38;5;241m=\u001b[39mfolder[\u001b[38;5;124m\"\u001b[39m\u001b[38;5;124mid\u001b[39m\u001b[38;5;124m\"\u001b[39m]\n\u001b[0;32m    375\u001b[0m         )\n\u001b[1;32m--> 377\u001b[0m \u001b[38;5;28;01mraise\u001b[39;00m NotFoundItemError(\u001b[38;5;124mf\u001b[39m\u001b[38;5;124m\"\u001b[39m\u001b[38;5;124mCould not find document \u001b[39m\u001b[38;5;132;01m{\u001b[39;00midentifier\u001b[38;5;132;01m}\u001b[39;00m\u001b[38;5;124m\"\u001b[39m)\n",
      "\u001b[1;31mNotFoundItemError\u001b[0m: 'Could not find document Z-Research and Development'"
     ]
    }
   ],
   "source": [
    "# Example 2: Create folder in specified location\n",
    "# ---------\n",
    "print(\"\\nExample 2\")\n",
    "folder = connection.folders.find(\n",
    "    company_id=company[\"id\"],\n",
    "    project_id=project[\"id\"],\n",
    "    identifier=\"Z-Research and Development\" # this needs to be a path in your procore project\n",
    ")\n",
    "# 607848083: A-Team\n",
    "\n",
    "try:\n",
    "    subfolder = connection.folders.create(\n",
    "        company_id=company[\"id\"],\n",
    "        project_id=project[\"id\"],\n",
    "        folder_id=folder[\"id\"],\n",
    "        folder_name=\"A-Team\"\n",
    "    )\n",
    "    print(f\"{subfolder['id']}: {subfolder['name']}\")\n",
    "except Exception as e:\n",
    "    print(e)"
   ]
  },
  {
   "cell_type": "code",
   "execution_count": null,
   "metadata": {},
   "outputs": [],
   "source": [
    "# Example 3: Folder already exists\n",
    "# ---------\n",
    "print(\"\\nExample 3\")\n",
    "try:\n",
    "    existing_folder_name = \"I-Safety and Environmental\"\n",
    "    existing_folder = connection.folders.create(\n",
    "        company_id=company[\"id\"],\n",
    "        project_id=project[\"id\"],\n",
    "        folder_name=existing_folder_name\n",
    "    )\n",
    "    print(f\"{existing_folder['id']}: {existing_folder['name']}\")\n",
    "except WrongParamsError as e:\n",
    "    print(e)\n",
    "# 'Folder I-Safety and Environmental already exists'"
   ]
  },
  {
   "cell_type": "markdown",
   "metadata": {},
   "source": [
    "### Find Folder"
   ]
  },
  {
   "cell_type": "code",
   "execution_count": null,
   "metadata": {},
   "outputs": [],
   "source": [
    "# Example 1: Find folder in root\n",
    "# ---------\n",
    "print(\"Example 1\")\n",
    "folder1 = connection.__folders__.find(\n",
    "    company_id=company[\"id\"],\n",
    "    project_id=project[\"id\"],\n",
    "    identifier=\"Z-Research and Development\"\n",
    ")\n",
    "print(f\"{folder1['id']}: {folder1['name']}\")\n",
    "# 607848046: Z-Research and Development\n",
    "print(json.dumps(folder1, indent=4))"
   ]
  },
  {
   "cell_type": "code",
   "execution_count": null,
   "metadata": {},
   "outputs": [],
   "source": [
    "# Example 2: Find subfolder\n",
    "# ----------\n",
    "print(\"\\nExample 2\")\n",
    "folder2 = connection.__folders__.find(\n",
    "    company_id=company[\"id\"],\n",
    "    project_id=project[\"id\"],\n",
    "    identifier=\"Subcontractors Orientation\"\n",
    ")\n",
    "print(f\"{folder2['id']}: {folder2['name']}\")\n",
    "# 607846791: Subcontractors Orientation"
   ]
  },
  {
   "cell_type": "code",
   "execution_count": null,
   "metadata": {},
   "outputs": [],
   "source": [
    "# Example 3: No such folder\n",
    "# ---------\n",
    "print(\"\\nExample 3\")\n",
    "try:\n",
    "    folder3 = connection.__folders__.find(\n",
    "        company_id=company[\"id\"],\n",
    "        project_id=project[\"id\"],\n",
    "        identifier=\"Not a folder\"\n",
    "    )\n",
    "    print(folder3)\n",
    "except NotFoundItemError as e:\n",
    "    print(e)\n",
    "# 'Could not find document Not a folder'"
   ]
  },
  {
   "cell_type": "markdown",
   "metadata": {},
   "source": [
    "### Update Folder"
   ]
  },
  {
   "cell_type": "code",
   "execution_count": 16,
   "metadata": {},
   "outputs": [
    {
     "ename": "AttributeError",
     "evalue": "'Procore' object has no attribute '__folders__'",
     "output_type": "error",
     "traceback": [
      "\u001b[1;31m---------------------------------------------------------------------------\u001b[0m",
      "\u001b[1;31mAttributeError\u001b[0m                            Traceback (most recent call last)",
      "Cell \u001b[1;32mIn[16], line 2\u001b[0m\n\u001b[0;32m      1\u001b[0m \u001b[38;5;66;03m# create a folder\u001b[39;00m\n\u001b[1;32m----> 2\u001b[0m \u001b[43mconnection\u001b[49m\u001b[38;5;241;43m.\u001b[39;49m\u001b[43m__folders__\u001b[49m\u001b[38;5;241m.\u001b[39mcreate(\n\u001b[0;32m      3\u001b[0m     company_id\u001b[38;5;241m=\u001b[39mcompany[\u001b[38;5;124m\"\u001b[39m\u001b[38;5;124mid\u001b[39m\u001b[38;5;124m\"\u001b[39m],\n\u001b[0;32m      4\u001b[0m     project_id\u001b[38;5;241m=\u001b[39mproject[\u001b[38;5;124m\"\u001b[39m\u001b[38;5;124mid\u001b[39m\u001b[38;5;124m\"\u001b[39m],\n\u001b[0;32m      5\u001b[0m     folder_name\u001b[38;5;241m=\u001b[39m\u001b[38;5;124mf\u001b[39m\u001b[38;5;124m\"\u001b[39m\u001b[38;5;124mFolder_in_Root\u001b[39m\u001b[38;5;124m\"\u001b[39m\n\u001b[0;32m      6\u001b[0m )\n\u001b[0;32m      8\u001b[0m folder \u001b[38;5;241m=\u001b[39m connection\u001b[38;5;241m.\u001b[39mfind_doc(\n\u001b[0;32m      9\u001b[0m     company_id\u001b[38;5;241m=\u001b[39mcompany[\u001b[38;5;124m\"\u001b[39m\u001b[38;5;124mid\u001b[39m\u001b[38;5;124m\"\u001b[39m],\n\u001b[0;32m     10\u001b[0m     project_id\u001b[38;5;241m=\u001b[39mproject[\u001b[38;5;124m\"\u001b[39m\u001b[38;5;124mid\u001b[39m\u001b[38;5;124m\"\u001b[39m],\n\u001b[0;32m     11\u001b[0m     name\u001b[38;5;241m=\u001b[39m\u001b[38;5;124m\"\u001b[39m\u001b[38;5;124mFolder_in_Root\u001b[39m\u001b[38;5;124m\"\u001b[39m\n\u001b[0;32m     12\u001b[0m )\n",
      "\u001b[1;31mAttributeError\u001b[0m: 'Procore' object has no attribute '__folders__'"
     ]
    }
   ],
   "source": [
    "# create a folder\n",
    "connection.__folders__.create(\n",
    "    company_id=company[\"id\"],\n",
    "    project_id=project[\"id\"],\n",
    "    folder_name=f\"Folder_in_Root\"\n",
    ")\n",
    "\n",
    "folder = connection.find_doc(\n",
    "    company_id=company[\"id\"],\n",
    "    project_id=project[\"id\"],\n",
    "    name=\"Folder_in_Root\"\n",
    ")"
   ]
  },
  {
   "cell_type": "code",
   "execution_count": null,
   "metadata": {},
   "outputs": [],
   "source": [
    "# Example 1: Move folder\n",
    "# ---------\n",
    "print(\"Example 1\")\n",
    "subfolder = connection.find_doc(\n",
    "    company_id=company[\"id\"],\n",
    "    project_id=project[\"id\"],\n",
    "    name=\"I-Safety and Environmental\"\n",
    ")\n",
    "\n",
    "connection.__folders__.update(\n",
    "    company_id=company[\"id\"],\n",
    "    project_id=project[\"id\"],\n",
    "    doc_id=folder[\"id\"],\n",
    "    parent_id=subfolder[\"id\"]\n",
    ")"
   ]
  },
  {
   "cell_type": "code",
   "execution_count": null,
   "metadata": {},
   "outputs": [],
   "source": [
    "# Example 2: Update folder name\n",
    "# ---------\n",
    "print(\"\\nExample 2\")\n",
    "connection.__folders__.update(\n",
    "    company_id=company[\"id\"],\n",
    "    project_id=project[\"id\"],\n",
    "    doc_id=folder[\"id\"],\n",
    "    folder_name=\"Now_a_Subfolder\"\n",
    ")"
   ]
  },
  {
   "cell_type": "code",
   "execution_count": null,
   "metadata": {},
   "outputs": [],
   "source": [
    "# Example 3: Change permissions\n",
    "# ---------\n",
    "print(\"\\nExample 2\")\n",
    "connection.__folders__.update(\n",
    "    company_id=company[\"id\"],\n",
    "    project_id=project[\"id\"],\n",
    "    doc_id=folder[\"id\"],\n",
    "    private=True\n",
    ")"
   ]
  },
  {
   "cell_type": "markdown",
   "metadata": {},
   "source": [
    "## Files"
   ]
  },
  {
   "cell_type": "markdown",
   "metadata": {},
   "source": [
    "### Get Files"
   ]
  },
  {
   "cell_type": "code",
   "execution_count": null,
   "metadata": {},
   "outputs": [],
   "source": [
    "# Example 2: Get all files\n",
    "# ---------\n",
    "print(\"\\nExample 2\")\n",
    "files = connection.__files__.get(\n",
    "    company_id=company[\"id\"],\n",
    "    project_id=project[\"id\"]\n",
    ")\n",
    "print(files)\n",
    "\n",
    "print(\"Number of folders:\", len(folders))\n",
    "print(\"Number of files:\", len(files))"
   ]
  },
  {
   "cell_type": "code",
   "execution_count": null,
   "metadata": {},
   "outputs": [],
   "source": [
    "# Example 4: Get all children files from parent\n",
    "# ---------\n",
    "print(\"\\nExample 4\")\n",
    "subfiles = connection.__files__.get(\n",
    "    company_id=company[\"id\"],\n",
    "    project_id=project[\"id\"],\n",
    "    folder_id=607848046\n",
    ")\n",
    "print(subfiles)"
   ]
  },
  {
   "cell_type": "markdown",
   "metadata": {},
   "source": [
    "### Create Files"
   ]
  },
  {
   "cell_type": "code",
   "execution_count": null,
   "metadata": {},
   "outputs": [],
   "source": [
    "# Example 1: Create file in Root (no parent_id provided)\n",
    "# ---------\n",
    "print(\"Example 1\")\n",
    "try:\n",
    "    file_in_root = connection.__files__.create(\n",
    "        company_id=company[\"id\"],\n",
    "        project_id=project[\"id\"],\n",
    "        filepath=f\"{pathlib.Path(__file__).resolve().parent.parent}/data/test/test_pdf.pdf\"\n",
    "    )\n",
    "    print(f\"{file_in_root['id']}: {file_in_root['name']}\")\n",
    "except WrongParamsError as e:\n",
    "    print(e)\n",
    "# 607852186: test_pdf.pdf"
   ]
  },
  {
   "cell_type": "code",
   "execution_count": null,
   "metadata": {},
   "outputs": [],
   "source": [
    " # Example 2: Create file in specified location\n",
    "# ---------\n",
    "print(\"\\nExample 2\")\n",
    "try:\n",
    "    folder = connection.__folders__.find(\n",
    "        company_id=company[\"id\"],\n",
    "        project_id=project[\"id\"],\n",
    "        identifier=\"Subcontractors Orientation\" # this needs to be a folder in your procore project\n",
    "    )\n",
    "\n",
    "    file = connection.__files__.create(\n",
    "        company_id=company[\"id\"],\n",
    "        project_id=project[\"id\"],\n",
    "        folder_id=folder[\"id\"],\n",
    "        filepath=f\"{pathlib.Path(__file__).resolve().parent.parent}/data/test/another_test_pdf.pdf\"\n",
    "    )\n",
    "    print(f\"{file['id']}: {file['name']}\")\n",
    "except WrongParamsError as e:\n",
    "    print(e)\n",
    "# 607851830: another_test_pdf.pdf"
   ]
  },
  {
   "cell_type": "code",
   "execution_count": null,
   "metadata": {},
   "outputs": [],
   "source": [
    "# Example 3: File already exists\n",
    "# ---------\n",
    "try:\n",
    "    file = connection.__files__.create(\n",
    "        company_id=company[\"id\"],\n",
    "        project_id=project[\"id\"],\n",
    "        folder_id=folder[\"id\"],\n",
    "        filepath=f\"{pathlib.Path(__file__).resolve().parent.parent}/data/test/another_test_pdf.pdf\"\n",
    "    )\n",
    "    print(f\"{file['id']}: {file['name']}\")\n",
    "except WrongParamsError as e:\n",
    "    print(e)\n",
    "# 'File another_test_pdf.pdf already exists'"
   ]
  },
  {
   "cell_type": "markdown",
   "metadata": {},
   "source": [
    "### Find Files"
   ]
  },
  {
   "cell_type": "code",
   "execution_count": null,
   "metadata": {},
   "outputs": [],
   "source": [
    "# Example 1: Find file in root\n",
    "# ---------\n",
    "print(\"Example 1\")\n",
    "file1 = connection.__files__.find(\n",
    "    company_id=company[\"id\"],\n",
    "    project_id=project[\"id\"],\n",
    "    identifier=\"test_pdf.pdf\"\n",
    ")\n",
    "print(f\"{file1['id']}: {file1['name']}\")\n",
    "# 607852186: test_pdf.pdf\n",
    "print(json.dumps(file1, indent=4))\n",
    "# See example in /references/"
   ]
  },
  {
   "cell_type": "code",
   "execution_count": null,
   "metadata": {},
   "outputs": [],
   "source": [
    "# Example 2: Find file in subfolder\n",
    "# ----------\n",
    "print(\"\\nExample 2\")\n",
    "file2 = connection.__files__.find(\n",
    "    company_id=company[\"id\"],\n",
    "    project_id=project[\"id\"],\n",
    "    identifier=\"another_test_pdf.pdf\"\n",
    ")\n",
    "print(f\"{file2['id']}: {file2['name']}\")\n",
    "# 607851830: another_test_pdf.pdf"
   ]
  },
  {
   "cell_type": "code",
   "execution_count": null,
   "metadata": {},
   "outputs": [],
   "source": [
    "# Example 3: No such file\n",
    "# ---------\n",
    "print(\"\\nExample 3\")\n",
    "try:\n",
    "    file3 = connection.__files__.find(\n",
    "        company_id=company[\"id\"],\n",
    "        project_id=project[\"id\"],\n",
    "        identifier=\"Not a file.txt\"\n",
    "    )\n",
    "    print(file3)\n",
    "except NotFoundItemError as e:\n",
    "    print(e)\n",
    "# 'Could not find document Not a file.txt'"
   ]
  },
  {
   "cell_type": "code",
   "execution_count": null,
   "metadata": {},
   "outputs": [],
   "source": [
    "# Example 1: Search for file with multiple perfect matches\n",
    "# ---------\n",
    "print(\"Example 1\")\n",
    "doc1 = connection.__files__.search(\n",
    "    company_id=company[\"id\"],\n",
    "    project_id=project[\"id\"],\n",
    "    value=\"test\"\n",
    ")\n",
    "print(f\"{doc1['id']}: {doc1['name']}\")\n",
    "# warn(\"Multiple 100% matches - try refining your search critera for better results\")\n",
    "# 607851830: test_pdf.pdf"
   ]
  },
  {
   "cell_type": "code",
   "execution_count": null,
   "metadata": {},
   "outputs": [],
   "source": [
    "# Example 1: Search for private file\n",
    "# ---------\n",
    "print(\"\\nExample 2\")\n",
    "doc2 = connection.__files__.search(\n",
    "    company_id=company[\"id\"],\n",
    "    project_id=project[\"id\"],\n",
    "    value=\"another\"\n",
    ")\n",
    "print(f\"{doc2['id']}: {doc2['name']}\")\n",
    "# 607851830: another_test_pdf.pdf"
   ]
  },
  {
   "cell_type": "code",
   "execution_count": null,
   "metadata": {},
   "outputs": [],
   "source": [
    "# Example 3: Find folder \n",
    "    # ---------\n",
    "    print(\"\\nExample 3\")\n",
    "    doc3 = connection.__folders__.search(\n",
    "        company_id=company[\"id\"],\n",
    "        project_id=project[\"id\"],\n",
    "        value=\"training\"\n",
    "    )\n",
    "    print(f\"{doc3['id']}: {doc3['name']}\")\n",
    "    # 607846718: 3-Orientations and Training"
   ]
  },
  {
   "cell_type": "code",
   "execution_count": null,
   "metadata": {},
   "outputs": [],
   "source": [
    "# Example 4: Find file in subfolder \n",
    "    # ---------\n",
    "    print(\"\\nExample 4\")\n",
    "    folder = connection.__folders__.find(\n",
    "        company_id=company[\"id\"],\n",
    "        project_id=project[\"id\"],\n",
    "        identifier=\"I-Safety and Environmental\"\n",
    "    )\n",
    "    doc4 = connection.__files__.search(\n",
    "        company_id=company[\"id\"],\n",
    "        project_id=project[\"id\"],\n",
    "        folder_id=folder[\"id\"],\n",
    "        value=\"test\"\n",
    "    )\n",
    "    print(f\"{doc4['id']}: {doc4['name']}\")\n",
    "    # 607851830: another_test_pdf.pdf"
   ]
  },
  {
   "cell_type": "code",
   "execution_count": null,
   "metadata": {},
   "outputs": [],
   "source": [
    "# Example 5: Find subfolder in specified folder \n",
    "# ---------\n",
    "print(\"\\nExample 5\")\n",
    "folder = connection.__folders__.find(\n",
    "    company_id=company[\"id\"],\n",
    "    project_id=project[\"id\"],\n",
    "    identifier=\"I-Safety and Environmental\"\n",
    ")\n",
    "doc5 = connection.__folders__.search(\n",
    "    company_id=company[\"id\"],\n",
    "    project_id=project[\"id\"],\n",
    "    folder_id=folder[\"id\"],\n",
    "    value=\"subcontractor\"\n",
    ")\n",
    "print(f\"{doc5['id']}: {doc5['name']}\")\n",
    "# 607846791: Subcontractors Orientation"
   ]
  },
  {
   "cell_type": "markdown",
   "metadata": {},
   "source": [
    "### Update Files"
   ]
  },
  {
   "cell_type": "code",
   "execution_count": null,
   "metadata": {},
   "outputs": [],
   "source": [
    "# Housekeeping\n",
    "# ------------\n",
    "# start by deleting the test files if they are present\n",
    "for old_file in [\"test_pdf.pdf\", \"renamed_test_pdf\", \"another_test_pdf.pdf\"]:\n",
    "    # look for the filename\n",
    "    try:\n",
    "        file_temp = connection.__files__.find(\n",
    "            company_id=company[\"id\"],\n",
    "            project_id=project[\"id\"],\n",
    "            identifier=old_file\n",
    "        )\n",
    "        \n",
    "        response = connection.__files__.remove(\n",
    "            company_id=company[\"id\"],\n",
    "            project_id=project[\"id\"],\n",
    "            doc_id=file_temp[\"id\"],\n",
    "        )\n",
    "        print(f\"Delete {old_file}:\", response[\"status_code\"])\n",
    "    except NotFoundItemError as e:\n",
    "        print(e)\n",
    "\n",
    "# create a file\n",
    "try:\n",
    "    connection.__files__.create(\n",
    "        company_id=company[\"id\"],\n",
    "        project_id=project[\"id\"],\n",
    "        filepath=f\"{pathlib.Path(__file__).resolve().parent.parent}/data/test/test_pdf.pdf\",\n",
    "        description=\"Nothing to see here\"\n",
    "    )\n",
    "except WrongParamsError as e:\n",
    "    print(e)\n",
    "\n",
    "file_original = connection.__files__.find(\n",
    "    company_id=company[\"id\"],\n",
    "    project_id=project[\"id\"],\n",
    "    identifier=\"test_pdf.pdf\"\n",
    ")"
   ]
  },
  {
   "cell_type": "code",
   "execution_count": null,
   "metadata": {},
   "outputs": [],
   "source": [
    "# Example 1: Move file\n",
    "# ---------\n",
    "print(\"Example 1\")\n",
    "subfolder = connection.__folders__.find(\n",
    "    company_id=company[\"id\"],\n",
    "    project_id=project[\"id\"],\n",
    "    identifier=\"I-Safety and Environmental\"\n",
    ")\n",
    "\n",
    "file_new_loc = connection.__files__.update(\n",
    "    company_id=company[\"id\"],\n",
    "    project_id=project[\"id\"],\n",
    "    doc_id=file_original[\"id\"],\n",
    "    folder_id=subfolder[\"id\"]\n",
    ")\n",
    "print(f\"Original parent ID:\", file_original[\"parent_id\"])\n",
    "print(f\"Updated parent ID:\", file_new_loc[\"parent_id\"])"
   ]
  },
  {
   "cell_type": "code",
   "execution_count": null,
   "metadata": {},
   "outputs": [],
   "source": [
    "# Example 2: Update file name\n",
    "# ---------\n",
    "print(\"\\nExample 2\")\n",
    "file_new_name = connection.__files__.update(\n",
    "    company_id=company[\"id\"],\n",
    "    project_id=project[\"id\"],\n",
    "    doc_id=file_original[\"id\"],\n",
    "    filename=\"renamed_test_pdf.pdf\"\n",
    ")\n",
    "print(f\"Original filename:\", file_original[\"name\"])\n",
    "print(f\"Updated filename:\", file_new_name[\"name\"])"
   ]
  },
  {
   "cell_type": "code",
   "execution_count": null,
   "metadata": {},
   "outputs": [],
   "source": [
    "# Example 3: Change Description\n",
    "# ---------\n",
    "print(\"\\nExample 3\")\n",
    "file_new_desc = connection.__files__.update(\n",
    "    company_id=company[\"id\"],\n",
    "    project_id=project[\"id\"],\n",
    "    doc_id=file_original[\"id\"],\n",
    "    description=\"This document now has a fancy description\"\n",
    ")\n",
    "print(f\"Original description:\", file_original[\"description\"])\n",
    "print(f\"Updated description:\", file_new_desc[\"description\"])"
   ]
  },
  {
   "cell_type": "code",
   "execution_count": null,
   "metadata": {},
   "outputs": [],
   "source": [
    "# Example 4: Change permissions\n",
    "# ---------\n",
    "print(\"\\nExample 4\")\n",
    "file_new_permissions = connection.__files__.update(\n",
    "    company_id=company[\"id\"],\n",
    "    project_id=project[\"id\"],\n",
    "    doc_id=file_original[\"id\"],\n",
    "    private=False\n",
    ")\n",
    "print(f\"Private? (Original):\", file_original[\"private\"])\n",
    "print(f\"Private? (Updated):\", file_new_permissions[\"private\"])"
   ]
  },
  {
   "cell_type": "code",
   "execution_count": null,
   "metadata": {},
   "outputs": [],
   "source": [
    "# Example 5: Update file content\n",
    "# ---------\n",
    "print(\"\\nExample 5\")\n",
    "file_new_content = connection.__files__.update(\n",
    "    company_id=company[\"id\"],\n",
    "    project_id=project[\"id\"],\n",
    "    doc_id=file_original[\"id\"],\n",
    "    filepath=f\"{pathlib.Path(__file__).resolve().parent.parent}/data/test/another_test_pdf.pdf\"\n",
    ")\n",
    "print(\"Original Number of Versions:\", len(file_original[\"file_versions\"]))\n",
    "print(\"Updated Number of Versions:\", len(file_new_content[\"file_versions\"]))"
   ]
  },
  {
   "cell_type": "markdown",
   "metadata": {},
   "source": [
    "---"
   ]
  }
 ],
 "metadata": {
  "kernelspec": {
   "display_name": ".venv_doc",
   "language": "python",
   "name": "python3"
  },
  "language_info": {
   "codemirror_mode": {
    "name": "ipython",
    "version": 3
   },
   "file_extension": ".py",
   "mimetype": "text/x-python",
   "name": "python",
   "nbconvert_exporter": "python",
   "pygments_lexer": "ipython3",
   "version": "3.11.9"
  }
 },
 "nbformat": 4,
 "nbformat_minor": 2
}
