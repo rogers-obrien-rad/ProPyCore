{
 "cells": [
  {
   "cell_type": "markdown",
   "metadata": {},
   "source": [
    "# ProPyCore SDK Examples: Projects\n",
    "\n",
    "This notebook contains snippets from the `projects.py` module."
   ]
  },
  {
   "cell_type": "code",
   "execution_count": 1,
   "metadata": {},
   "outputs": [],
   "source": [
    "import os\n",
    "import dotenv\n",
    "import json\n",
    "\n",
    "import ProPyCore"
   ]
  },
  {
   "cell_type": "markdown",
   "metadata": {},
   "source": [
    "## Setup\n",
    "You will need to create the connection to your Procore app and then get the details for your company and project.\n",
    "\n",
    "### Connection to Procore App\n",
    "Ensure you have a `.env` file with the following information included:\n",
    "* `CLIENT_ID`: your data connection app's client ID\n",
    "* `CLIENT_SECRET`: your data connection app's client secret"
   ]
  },
  {
   "cell_type": "code",
   "execution_count": 2,
   "metadata": {},
   "outputs": [],
   "source": [
    "dotenv.load_dotenv()\n",
    "connection = ProPyCore.procore.Procore(\n",
    "    client_id=os.getenv(\"CLIENT_ID\"),\n",
    "    client_secret=os.getenv(\"CLIENT_SECRET\"),\n",
    "    redirect_uri=\"urn:ietf:wg:oauth:2.0:oob\", # default for data connection apps\n",
    "    oauth_url=\"https://app.procore.com\", # default for data connection apps\n",
    "    base_url=\"https://app.procore.com\" # default for data connection apps\n",
    ")"
   ]
  },
  {
   "cell_type": "markdown",
   "metadata": {},
   "source": [
    "### Company Details\n",
    "Use the cell below to specify your company name"
   ]
  },
  {
   "cell_type": "code",
   "execution_count": 3,
   "metadata": {},
   "outputs": [],
   "source": [
    "company_name = \"Rogers-O`Brien Construction\""
   ]
  },
  {
   "cell_type": "markdown",
   "metadata": {},
   "source": [
    "Now get the company details"
   ]
  },
  {
   "cell_type": "code",
   "execution_count": 4,
   "metadata": {},
   "outputs": [],
   "source": [
    "company = connection.companies.find(identifier=company_name)"
   ]
  },
  {
   "cell_type": "markdown",
   "metadata": {},
   "source": [
    "---"
   ]
  },
  {
   "cell_type": "markdown",
   "metadata": {},
   "source": [
    "### `projects.get()`\n",
    "Get a list of all projects where the app has been installed from the []() endpoint.\n",
    "\n",
    "```python\n",
    "\"\"\"\n",
    "Parameters\n",
    "----------\n",
    "company_id : int\n",
    "    unique identifier for the company\n",
    "per_page : int, default 100\n",
    "    number of companies to include\n",
    "\n",
    "Returns\n",
    "-------\n",
    "projects : list of dict\n",
    "    list where each value is a dict with the project's id, active status (is_active), and name\n",
    "\"\"\"\n",
    "```"
   ]
  },
  {
   "cell_type": "markdown",
   "metadata": {},
   "source": [
    "Now use the ProPyCore `connection` variable to get the company and project details."
   ]
  },
  {
   "cell_type": "code",
   "execution_count": 5,
   "metadata": {},
   "outputs": [
    {
     "name": "stdout",
     "output_type": "stream",
     "text": [
      "Help on method get in module ProPyCore.access.projects:\n",
      "\n",
      "get(company_id, status='All', per_page=300) method of ProPyCore.access.projects.Projects instance\n",
      "    Gets a list of all the projects from a certain company\n",
      "    https://developers.procore.com/reference/rest/projects?version=latest#list-projects\n",
      "\n",
      "    Parameters\n",
      "    ----------\n",
      "    company_id : int\n",
      "        unique identifier for the company\n",
      "    per_page : int, default 300\n",
      "        number of companies to include. Max is 300 per v1.1 API.\n",
      "    status : str enum, default \"All\"\n",
      "        status of the projects to get must be one of: [\"Active\", \"Inactive\", \"All\"]\n",
      "\n",
      "    Returns\n",
      "    -------\n",
      "    projects : list of dict\n",
      "        list where each value is a dict with the project's id, active status (is_active), and name\n",
      "\n"
     ]
    }
   ],
   "source": [
    "help(connection.projects.get)"
   ]
  },
  {
   "cell_type": "code",
   "execution_count": 7,
   "metadata": {},
   "outputs": [
    {
     "name": "stdout",
     "output_type": "stream",
     "text": [
      "Project: 1301 South Lamar (1668030)\n",
      "Project: 24th & Rio Grande Student Housing (2289314)\n",
      "Project: 315 College Main Apartments (1642207)\n",
      "Project: 400 W.15th Elevator Mods (2023731)\n",
      "Project: 717 East Parmer (2319467)\n",
      "Project: BSW CS ED Expansion (2555161)\n",
      "Project: Cambria Hotel (1756058)\n",
      "Project: Integrations & Connector Test Project (2512856)\n",
      "Project: Intern Training Project (2121003)\n",
      "Project: Mexican American Cultural Center, Phase 2 (1494731)\n",
      "Project: OpX Test Project (2261578)\n",
      "Project: Precon Test Project (2507742)\n",
      "Project: Sandbox Test Project (2783683)\n",
      "Project: South Laredo Multifamily (2430207)\n",
      "Project: The Fundamentals Test Project (2861990)\n",
      "Project: TSTC Waco CCAP (2602910)\n",
      "Project: Uptown Dual Brand Hotel (2412567)\n",
      "Project: VDC Department (3133196)\n"
     ]
    }
   ],
   "source": [
    "company = connection.companies.find(identifier=company_name)\n",
    "projects = connection.projects.get(\n",
    "    company_id=company[\"id\"],\n",
    "    #status=\"Inactive\"\n",
    ")\n",
    "for project in projects:\n",
    "    print(f\"Project: {project['name']} ({project['id']})\")"
   ]
  },
  {
   "cell_type": "markdown",
   "metadata": {},
   "source": [
    "You can see which fields are available by viewing the API documentation on this [endpoint]"
   ]
  },
  {
   "cell_type": "markdown",
   "metadata": {},
   "source": [
    "---"
   ]
  },
  {
   "cell_type": "markdown",
   "metadata": {},
   "source": [
    "### `projects.find()`\n",
    "Finds a specific project by looking for the project ID or the project name. The function will determine which to search for based on the data types.\n",
    "\n",
    "```python\n",
    "\"\"\"\n",
    "Parameters\n",
    "----------\n",
    "company_id : int\n",
    "    company id that the project is under\n",
    "identifier : int or str\n",
    "    project id number or company name\n",
    "\n",
    "Returns\n",
    "-------\n",
    "project : dict\n",
    "    project-specific dictionary\n",
    "\"\"\"\n",
    "```"
   ]
  },
  {
   "cell_type": "code",
   "execution_count": 9,
   "metadata": {},
   "outputs": [
    {
     "name": "stdout",
     "output_type": "stream",
     "text": [
      "{\n",
      "    \"id\": 2783683,\n",
      "    \"accounting_project_number\": null,\n",
      "    \"active\": true,\n",
      "    \"actual_start_date\": \"2024-03-20\",\n",
      "    \"address\": \"6309 Carpinteria Avenue\",\n",
      "    \"city\": \"Carpinteria\",\n",
      "    \"code\": \"\",\n",
      "    \"company\": {\n",
      "        \"id\": 8089,\n",
      "        \"name\": \"Rogers-O`Brien Construction\"\n",
      "    },\n",
      "    \"completion_date\": \"2027-03-31\",\n",
      "    \"country_code\": \"US\",\n",
      "    \"county\": \"Santa Barbara County\",\n",
      "    \"created_at\": \"2024-03-20T20:39:39Z\",\n",
      "    \"created_by\": {\n",
      "        \"id\": 3238394,\n",
      "        \"login\": \"nvargo@r-o.com\",\n",
      "        \"name\": \" \"\n",
      "    },\n",
      "    \"custom_fields\": {\n",
      "        \"custom_field_168115\": {\n",
      "            \"data_type\": \"lov_entry\",\n",
      "            \"value\": {\n",
      "                \"id\": 137972,\n",
      "                \"label\": \"Standard\"\n",
      "            }\n",
      "        },\n",
      "        \"custom_field_218239\": {\n",
      "            \"data_type\": \"boolean\",\n",
      "            \"value\": true\n",
      "        },\n",
      "        \"custom_field_218240\": {\n",
      "            \"data_type\": \"boolean\",\n",
      "            \"value\": true\n",
      "        },\n",
      "        \"custom_field_218241\": {\n",
      "            \"data_type\": \"boolean\",\n",
      "            \"value\": true\n",
      "        },\n",
      "        \"custom_field_218242\": {\n",
      "            \"data_type\": \"boolean\",\n",
      "            \"value\": true\n",
      "        },\n",
      "        \"custom_field_218243\": {\n",
      "            \"data_type\": \"boolean\",\n",
      "            \"value\": true\n",
      "        },\n",
      "        \"custom_field_218244\": {\n",
      "            \"data_type\": \"boolean\",\n",
      "            \"value\": true\n",
      "        },\n",
      "        \"custom_field_274577\": {\n",
      "            \"data_type\": \"decimal\",\n",
      "            \"value\": null\n",
      "        },\n",
      "        \"custom_field_289151\": {\n",
      "            \"data_type\": \"rich_text\",\n",
      "            \"value\": \"<p>XX - Test for Project Admin Exhibit</p>\"\n",
      "        },\n",
      "        \"custom_field_289198\": {\n",
      "            \"data_type\": \"boolean\",\n",
      "            \"value\": true\n",
      "        },\n",
      "        \"custom_field_289287\": {\n",
      "            \"data_type\": \"rich_text\",\n",
      "            \"value\": null\n",
      "        },\n",
      "        \"custom_field_294366\": {\n",
      "            \"data_type\": \"lov_entry\",\n",
      "            \"value\": {\n",
      "                \"id\": 254970,\n",
      "                \"label\": \"Lump Sum\"\n",
      "            }\n",
      "        },\n",
      "        \"custom_field_440059\": {\n",
      "            \"data_type\": \"lov_entry\",\n",
      "            \"value\": null\n",
      "        },\n",
      "        \"custom_field_468442\": {\n",
      "            \"data_type\": \"lov_entries\",\n",
      "            \"value\": [\n",
      "                {\n",
      "                    \"id\": 537534,\n",
      "                    \"label\": \"Exhibit A.1 - Insurance Requirements\"\n",
      "                },\n",
      "                {\n",
      "                    \"id\": 537533,\n",
      "                    \"label\": \"Exhibit A.2 - Safe Work Practices\"\n",
      "                },\n",
      "                {\n",
      "                    \"id\": 537535,\n",
      "                    \"label\": \"Exhibit A.3 - Minimum Head Protection Requirements\"\n",
      "                },\n",
      "                {\n",
      "                    \"id\": 537537,\n",
      "                    \"label\": \"Exhibit B - Scope of Work\"\n",
      "                },\n",
      "                {\n",
      "                    \"id\": 537538,\n",
      "                    \"label\": \"Exhibit C - Contract Documents\"\n",
      "                },\n",
      "                {\n",
      "                    \"id\": 537539,\n",
      "                    \"label\": \"Exhibit D - Construction Schedule\"\n",
      "                },\n",
      "                {\n",
      "                    \"id\": 537540,\n",
      "                    \"label\": \"Exhibit E - Virtual Design & Construction Requirements\"\n",
      "                },\n",
      "                {\n",
      "                    \"id\": 537541,\n",
      "                    \"label\": \"Exhibit F - BIM Execution Plan\"\n",
      "                }\n",
      "            ]\n",
      "        },\n",
      "        \"custom_field_468705\": {\n",
      "            \"data_type\": \"boolean\",\n",
      "            \"value\": false\n",
      "        },\n",
      "        \"custom_field_468706\": {\n",
      "            \"data_type\": \"boolean\",\n",
      "            \"value\": false\n",
      "        }\n",
      "    },\n",
      "    \"delivery_method\": null,\n",
      "    \"description\": \"Sandbox Test Project to get familiar with Procore's tools and features.\",\n",
      "    \"designated_market_area\": null,\n",
      "    \"display_name\": \"000000.1 - Sandbox Test Project\",\n",
      "    \"erp_integrated\": true,\n",
      "    \"estimated_value\": \"1.0\",\n",
      "    \"fax\": null,\n",
      "    \"is_demo\": true,\n",
      "    \"latitude\": 34.3853409,\n",
      "    \"longitude\": -119.4899436,\n",
      "    \"name\": \"Sandbox Test Project\",\n",
      "    \"origin_code\": null,\n",
      "    \"origin_data\": null,\n",
      "    \"origin_id\": null,\n",
      "    \"owners_project_id\": null,\n",
      "    \"parent_job_id\": null,\n",
      "    \"phone\": null,\n",
      "    \"photo_id\": 800419122,\n",
      "    \"project_bid_type_id\": null,\n",
      "    \"project_number\": \"000000.1\",\n",
      "    \"project_owner_type_id\": null,\n",
      "    \"project_region_id\": 72498,\n",
      "    \"project_stage\": {\n",
      "        \"id\": 139797,\n",
      "        \"name\": \"VOID/TEST\"\n",
      "    },\n",
      "    \"project_type\": null,\n",
      "    \"projected_finish_date\": \"2027-03-31\",\n",
      "    \"sector\": null,\n",
      "    \"square_feet\": null,\n",
      "    \"start_date\": \"2024-03-20\",\n",
      "    \"state_code\": \"CA\",\n",
      "    \"store_number\": null,\n",
      "    \"time_zone\": \"Central Time (US & Canada)\",\n",
      "    \"total_value\": \"1.0\",\n",
      "    \"updated_at\": \"2025-02-21T17:28:35Z\",\n",
      "    \"work_scope\": null,\n",
      "    \"zip\": \"93013\"\n",
      "}\n",
      "dict_keys(['id', 'accounting_project_number', 'active', 'actual_start_date', 'address', 'city', 'code', 'company', 'completion_date', 'country_code', 'county', 'created_at', 'created_by', 'custom_fields', 'delivery_method', 'description', 'designated_market_area', 'display_name', 'erp_integrated', 'estimated_value', 'fax', 'is_demo', 'latitude', 'longitude', 'name', 'origin_code', 'origin_data', 'origin_id', 'owners_project_id', 'parent_job_id', 'phone', 'photo_id', 'project_bid_type_id', 'project_number', 'project_owner_type_id', 'project_region_id', 'project_stage', 'project_type', 'projected_finish_date', 'sector', 'square_feet', 'start_date', 'state_code', 'store_number', 'time_zone', 'total_value', 'updated_at', 'work_scope', 'zip'])\n"
     ]
    }
   ],
   "source": [
    "found_project = connection.projects.find(\n",
    "    company_id=company[\"id\"],\n",
    "    identifier=\"Sandbox Test Project\"\n",
    ")\n",
    "print(json.dumps(found_project, indent=4))\n",
    "print(found_project.keys())"
   ]
  },
  {
   "cell_type": "code",
   "execution_count": 8,
   "metadata": {},
   "outputs": [
    {
     "ename": "NotFoundItemError",
     "evalue": "'Could not find project 1668030'",
     "output_type": "error",
     "traceback": [
      "\u001b[1;31m---------------------------------------------------------------------------\u001b[0m",
      "\u001b[1;31mNotFoundItemError\u001b[0m                         Traceback (most recent call last)",
      "Cell \u001b[1;32mIn[8], line 1\u001b[0m\n\u001b[1;32m----> 1\u001b[0m found_project \u001b[38;5;241m=\u001b[39m \u001b[43mconnection\u001b[49m\u001b[38;5;241;43m.\u001b[39;49m\u001b[43mprojects\u001b[49m\u001b[38;5;241;43m.\u001b[39;49m\u001b[43mfind\u001b[49m\u001b[43m(\u001b[49m\n\u001b[0;32m      2\u001b[0m \u001b[43m    \u001b[49m\u001b[43mcompany_id\u001b[49m\u001b[38;5;241;43m=\u001b[39;49m\u001b[43mcompany\u001b[49m\u001b[43m[\u001b[49m\u001b[38;5;124;43m\"\u001b[39;49m\u001b[38;5;124;43mid\u001b[39;49m\u001b[38;5;124;43m\"\u001b[39;49m\u001b[43m]\u001b[49m\u001b[43m,\u001b[49m\n\u001b[0;32m      3\u001b[0m \u001b[43m    \u001b[49m\u001b[43midentifier\u001b[49m\u001b[38;5;241;43m=\u001b[39;49m\u001b[38;5;124;43m\"\u001b[39;49m\u001b[38;5;124;43m1668030\u001b[39;49m\u001b[38;5;124;43m\"\u001b[39;49m\n\u001b[0;32m      4\u001b[0m \u001b[43m)\u001b[49m\n\u001b[0;32m      5\u001b[0m \u001b[38;5;28mprint\u001b[39m(json\u001b[38;5;241m.\u001b[39mdumps(found_project, indent\u001b[38;5;241m=\u001b[39m\u001b[38;5;241m4\u001b[39m))\n\u001b[0;32m      6\u001b[0m \u001b[38;5;28mprint\u001b[39m(found_project\u001b[38;5;241m.\u001b[39mkeys())\n",
      "File \u001b[1;32mc:\\users\\hfritz\\onedrive - ro\\documents\\packages\\propycore\\ProPyCore\\access\\projects.py:81\u001b[0m, in \u001b[0;36mProjects.find\u001b[1;34m(self, company_id, identifier)\u001b[0m\n\u001b[0;32m     78\u001b[0m     \u001b[38;5;28;01mif\u001b[39;00m project[key] \u001b[38;5;241m==\u001b[39m identifier:\n\u001b[0;32m     79\u001b[0m         \u001b[38;5;28;01mreturn\u001b[39;00m project\n\u001b[1;32m---> 81\u001b[0m \u001b[38;5;28;01mraise\u001b[39;00m NotFoundItemError(\u001b[38;5;124mf\u001b[39m\u001b[38;5;124m\"\u001b[39m\u001b[38;5;124mCould not find project \u001b[39m\u001b[38;5;132;01m{\u001b[39;00midentifier\u001b[38;5;132;01m}\u001b[39;00m\u001b[38;5;124m\"\u001b[39m)\n",
      "\u001b[1;31mNotFoundItemError\u001b[0m: 'Could not find project 1668030'"
     ]
    }
   ],
   "source": [
    "found_project = connection.projects.find(\n",
    "    company_id=company[\"id\"],\n",
    "    identifier=\"1668030\"\n",
    ")\n",
    "print(json.dumps(found_project, indent=4))\n",
    "print(found_project.keys())"
   ]
  },
  {
   "cell_type": "markdown",
   "metadata": {},
   "source": [
    "---"
   ]
  },
  {
   "cell_type": "markdown",
   "metadata": {},
   "source": [
    "### `projects.get_type()`\n",
    "Gets the project type for the given project.\n",
    "\n",
    "```python\n",
    "\"\"\"\n",
    "Parameters\n",
    "----------\n",
    "company_id : int\n",
    "    The identifier for the company\n",
    "project_id : int\n",
    "    The identifier for the project\n",
    "\n",
    "Returns\n",
    "-------\n",
    "project_type : dict\n",
    "    Type id and name\n",
    "\"\"\"\n",
    "```"
   ]
  },
  {
   "cell_type": "code",
   "execution_count": 8,
   "metadata": {},
   "outputs": [
    {
     "name": "stdout",
     "output_type": "stream",
     "text": [
      "Project: 1301 South Lamar (1668030): Office\n",
      "Project: 24th & Rio Grande Student Housing (2289314): Multifamily\n",
      "Project: 315 College Main Apartments (1642207): Multifamily\n",
      "Project: 400 W.15th Elevator Mods (2023731): Interiors\n",
      "Project: 717 East Parmer (2319467): Interiors\n",
      "Project: BSW CS ED Expansion (2555161): Healthcare\n",
      "Project: Cambria Hotel (1756058): Hospitality\n",
      "Project: Integrations & Connector Test Project (2512856): None\n",
      "Project: Intern Training Project (2121003): None\n",
      "Project: Mexican American Cultural Center, Phase 2 (1494731): Public\n",
      "Project: OpX Test Project (2261578): None\n",
      "Project: Precon Test Project (2507742): None\n",
      "Project: Sandbox Test Project (2783683): None\n",
      "Project: South Laredo Multifamily (2430207): Multifamily\n",
      "Project: The Fundamentals Test Project (2861990): None\n",
      "Project: TSTC Waco CCAP (2602910): Higher Education\n",
      "Project: Uptown Dual Brand Hotel (2412567): Hospitality\n"
     ]
    }
   ],
   "source": [
    "company = connection.companies.find(identifier=company_name)\n",
    "# Get the list of projects\n",
    "projects = connection.projects.get(\n",
    "    company_id=company[\"id\"]\n",
    ")\n",
    "# Output the type for each project\n",
    "for project in projects:\n",
    "    project_type = connection.projects.get_type(\n",
    "        company_id=company[\"id\"],\n",
    "        project_id=project[\"id\"]\n",
    "    )\n",
    "    print(f\"Project: {project['name']} ({project['id']}): {project_type}\")"
   ]
  },
  {
   "cell_type": "markdown",
   "metadata": {},
   "source": [
    "---"
   ]
  }
 ],
 "metadata": {
  "kernelspec": {
   "display_name": "Python (ProPyCore)",
   "language": "python",
   "name": "propycore-env"
  },
  "language_info": {
   "codemirror_mode": {
    "name": "ipython",
    "version": 3
   },
   "file_extension": ".py",
   "mimetype": "text/x-python",
   "name": "python",
   "nbconvert_exporter": "python",
   "pygments_lexer": "ipython3",
   "version": "3.13.0"
  }
 },
 "nbformat": 4,
 "nbformat_minor": 2
}
