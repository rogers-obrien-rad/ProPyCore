{
 "cells": [
  {
   "cell_type": "markdown",
   "metadata": {},
   "source": [
    "# ProPyCore SDK Examples: Projects\n",
    "\n",
    "This notebook contains snippets from the `projects.py` module."
   ]
  },
  {
   "cell_type": "code",
   "execution_count": 1,
   "metadata": {},
   "outputs": [],
   "source": [
    "import os\n",
    "import dotenv\n",
    "import json\n",
    "\n",
    "import ProPyCore"
   ]
  },
  {
   "cell_type": "markdown",
   "metadata": {},
   "source": [
    "## Setup\n",
    "You will need to create the connection to your Procore app and then get the details for your company and project.\n",
    "\n",
    "### Connection to Procore App\n",
    "Ensure you have a `.env` file with the following information included:\n",
    "* `CLIENT_ID`: your data connection app's client ID\n",
    "* `CLIENT_SECRET`: your data connection app's client secret"
   ]
  },
  {
   "cell_type": "code",
   "execution_count": 2,
   "metadata": {},
   "outputs": [],
   "source": [
    "dotenv.load_dotenv()\n",
    "connection = ProPyCore.procore.Procore(\n",
    "    client_id=os.getenv(\"CLIENT_ID\"),\n",
    "    client_secret=os.getenv(\"CLIENT_SECRET\"),\n",
    "    redirect_uri=\"urn:ietf:wg:oauth:2.0:oob\", # default for data connection apps\n",
    "    oauth_url=\"https://app.procore.com\", # default for data connection apps\n",
    "    base_url=\"https://app.procore.com\" # default for data connection apps\n",
    ")"
   ]
  },
  {
   "cell_type": "markdown",
   "metadata": {},
   "source": [
    "### Company Details\n",
    "Use the cell below to specify your company name"
   ]
  },
  {
   "cell_type": "code",
   "execution_count": 3,
   "metadata": {},
   "outputs": [],
   "source": [
    "company_name = \"Rogers-O`Brien Construction\""
   ]
  },
  {
   "cell_type": "markdown",
   "metadata": {},
   "source": [
    "Now get the company details"
   ]
  },
  {
   "cell_type": "code",
   "execution_count": 4,
   "metadata": {},
   "outputs": [],
   "source": [
    "company = connection.companies.find(identifier=company_name)"
   ]
  },
  {
   "cell_type": "markdown",
   "metadata": {},
   "source": [
    "---"
   ]
  },
  {
   "cell_type": "markdown",
   "metadata": {},
   "source": [
    "### `projects.get()`\n",
    "Get a list of all projects where the app has been installed from the []() endpoint.\n",
    "\n",
    "```python\n",
    "\"\"\"\n",
    "Parameters\n",
    "----------\n",
    "company_id : int\n",
    "    unique identifier for the company\n",
    "per_page : int, default 100\n",
    "    number of companies to include\n",
    "\n",
    "Returns\n",
    "-------\n",
    "projects : list of dict\n",
    "    list where each value is a dict with the project's id, active status (is_active), and name\n",
    "\"\"\"\n",
    "```"
   ]
  },
  {
   "cell_type": "markdown",
   "metadata": {},
   "source": [
    "Now use the ProPyCore `connection` variable to get the company and project details."
   ]
  },
  {
   "cell_type": "code",
   "execution_count": 5,
   "metadata": {},
   "outputs": [
    {
     "name": "stdout",
     "output_type": "stream",
     "text": [
      "Help on method get in module ProPyCore.access.projects:\n",
      "\n",
      "get(company_id, status='All', per_page=300) method of ProPyCore.access.projects.Projects instance\n",
      "    Gets a list of all the projects from a certain company\n",
      "    https://developers.procore.com/reference/rest/projects?version=latest#list-projects\n",
      "    \n",
      "    Parameters\n",
      "    ----------\n",
      "    company_id : int\n",
      "        unique identifier for the company\n",
      "    per_page : int, default 300\n",
      "        number of companies to include. Max is 300 per v1.1 API.\n",
      "    status : str enum, default \"All\"\n",
      "        status of the projects to get must be one of: [\"Active\", \"Inactive\", \"All\"]\n",
      "    \n",
      "    Returns\n",
      "    -------\n",
      "    projects : list of dict\n",
      "        list where each value is a dict with the project's id, active status (is_active), and name\n",
      "\n"
     ]
    }
   ],
   "source": [
    "help(connection.projects.get)"
   ]
  },
  {
   "cell_type": "code",
   "execution_count": 6,
   "metadata": {},
   "outputs": [
    {
     "name": "stdout",
     "output_type": "stream",
     "text": [
      "Project: 315 College Main Apartments (1642207)\n",
      "Project: 400 W.15th Elevator Mods (2023731)\n",
      "Project: 717 East Parmer (2319467)\n",
      "Project: Cambria Hotel (1756058)\n",
      "Project: Uptown Dual Brand Hotel (2412567)\n"
     ]
    }
   ],
   "source": [
    "company = connection.companies.find(identifier=company_name)\n",
    "projects = connection.projects.get(\n",
    "    company_id=company[\"id\"],\n",
    "    status=\"Inactive\"\n",
    ")\n",
    "for project in projects:\n",
    "    print(f\"Project: {project['name']} ({project['id']})\")"
   ]
  },
  {
   "cell_type": "markdown",
   "metadata": {},
   "source": [
    "You can see which fields are available by viewing the API documentation on this [endpoint]"
   ]
  },
  {
   "cell_type": "markdown",
   "metadata": {},
   "source": [
    "---"
   ]
  },
  {
   "cell_type": "markdown",
   "metadata": {},
   "source": [
    "### `projects.find()`\n",
    "Finds a specific project by looking for the project ID or the project name. The function will determine which to search for based on the data types.\n",
    "\n",
    "```python\n",
    "\"\"\"\n",
    "Parameters\n",
    "----------\n",
    "company_id : int\n",
    "    company id that the project is under\n",
    "identifier : int or str\n",
    "    project id number or company name\n",
    "\n",
    "Returns\n",
    "-------\n",
    "project : dict\n",
    "    project-specific dictionary\n",
    "\"\"\"\n",
    "```"
   ]
  },
  {
   "cell_type": "code",
   "execution_count": 7,
   "metadata": {},
   "outputs": [],
   "source": [
    "found_project = connection.projects.find(\n",
    "    company_id=company[\"id\"],\n",
    "    identifier=\"Sandbox Test Project\"\n",
    ")\n",
    "#print(json.dumps(found_project, indent=4))\n",
    "#print(found_project.keys())"
   ]
  },
  {
   "cell_type": "markdown",
   "metadata": {},
   "source": [
    "---"
   ]
  },
  {
   "cell_type": "markdown",
   "metadata": {},
   "source": [
    "### `projects.get_type()`\n",
    "Gets the project type for the given project.\n",
    "\n",
    "```python\n",
    "\"\"\"\n",
    "Parameters\n",
    "----------\n",
    "company_id : int\n",
    "    The identifier for the company\n",
    "project_id : int\n",
    "    The identifier for the project\n",
    "\n",
    "Returns\n",
    "-------\n",
    "project_type : dict\n",
    "    Type id and name\n",
    "\"\"\"\n",
    "```"
   ]
  },
  {
   "cell_type": "code",
   "execution_count": 8,
   "metadata": {},
   "outputs": [
    {
     "name": "stdout",
     "output_type": "stream",
     "text": [
      "Project: 1301 South Lamar (1668030): Office\n",
      "Project: 24th & Rio Grande Student Housing (2289314): Multifamily\n",
      "Project: 315 College Main Apartments (1642207): Multifamily\n",
      "Project: 400 W.15th Elevator Mods (2023731): Interiors\n",
      "Project: 717 East Parmer (2319467): Interiors\n",
      "Project: Cambria Hotel (1756058): Hospitality\n",
      "Project: Integrations & Connector Test Project (2512856): None\n",
      "Project: Intern Training Project (2121003): None\n",
      "Project: Mexican American Cultural Center, Phase 2 (1494731): Public\n",
      "Project: OpX Test Project (2261578): None\n",
      "Project: Precon Test Project (2507742): None\n",
      "Project: Sandbox Test Project (2783683): None\n",
      "Project: South Laredo Multifamily (2430207): Multifamily\n",
      "Project: The Fundamentals Test Project (2861990): None\n",
      "Project: TSTC Waco CCAP (2602910): Higher Education\n",
      "Project: Uptown Dual Brand Hotel (2412567): Hospitality\n"
     ]
    }
   ],
   "source": [
    "company = connection.companies.find(identifier=company_name)\n",
    "# Get the list of projects\n",
    "projects = connection.projects.get(\n",
    "    company_id=company[\"id\"]\n",
    ")\n",
    "# Output the type for each project\n",
    "for project in projects:\n",
    "    project_type = connection.projects.get_type(\n",
    "        company_id=company[\"id\"],\n",
    "        project_id=project[\"id\"]\n",
    "    )\n",
    "    print(f\"Project: {project['name']} ({project['id']}): {project_type}\")"
   ]
  },
  {
   "cell_type": "markdown",
   "metadata": {},
   "source": [
    "---"
   ]
  }
 ],
 "metadata": {
  "kernelspec": {
   "display_name": ".venv",
   "language": "python",
   "name": "python3"
  },
  "language_info": {
   "codemirror_mode": {
    "name": "ipython",
    "version": 3
   },
   "file_extension": ".py",
   "mimetype": "text/x-python",
   "name": "python",
   "nbconvert_exporter": "python",
   "pygments_lexer": "ipython3",
   "version": "3.11.9"
  }
 },
 "nbformat": 4,
 "nbformat_minor": 2
}
