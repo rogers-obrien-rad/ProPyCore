{
 "cells": [
  {
   "cell_type": "markdown",
   "metadata": {},
   "source": [
    "# ProPyCore SDK Examples: Projects\n",
    "\n",
    "This notebook contains snippets from the `projects.py` module."
   ]
  },
  {
   "cell_type": "code",
   "execution_count": 1,
   "metadata": {},
   "outputs": [],
   "source": [
    "import os\n",
    "import dotenv\n",
    "import json\n",
    "\n",
    "import ProPyCore"
   ]
  },
  {
   "cell_type": "markdown",
   "metadata": {},
   "source": [
    "## Setup\n",
    "You will need to create the connection to your Procore app and then get the details for your company and project.\n",
    "\n",
    "### Connection to Procore App\n",
    "Ensure you have a `.env` file with the following information included:\n",
    "* `CLIENT_ID`: your data connection app's client ID\n",
    "* `CLIENT_SECRET`: your data connection app's client secret"
   ]
  },
  {
   "cell_type": "code",
   "execution_count": 2,
   "metadata": {},
   "outputs": [],
   "source": [
    "dotenv.load_dotenv()\n",
    "connection = ProPyCore.procore.Procore(\n",
    "    client_id=os.getenv(\"CLIENT_ID\"),\n",
    "    client_secret=os.getenv(\"CLIENT_SECRET\"),\n",
    "    redirect_uri=\"urn:ietf:wg:oauth:2.0:oob\", # default for data connection apps\n",
    "    oauth_url=\"https://app.procore.com\", # default for data connection apps\n",
    "    base_url=\"https://app.procore.com\" # default for data connection apps\n",
    ")"
   ]
  },
  {
   "cell_type": "markdown",
   "metadata": {},
   "source": [
    "### Company Details\n",
    "Use the cell below to specify your company name"
   ]
  },
  {
   "cell_type": "code",
   "execution_count": 3,
   "metadata": {},
   "outputs": [],
   "source": [
    "company_name = \"Rogers-O`Brien Construction\""
   ]
  },
  {
   "cell_type": "markdown",
   "metadata": {},
   "source": [
    "Now get the company details"
   ]
  },
  {
   "cell_type": "code",
   "execution_count": 4,
   "metadata": {},
   "outputs": [],
   "source": [
    "company = connection.companies.find(identifier=company_name)"
   ]
  },
  {
   "cell_type": "markdown",
   "metadata": {},
   "source": [
    "---"
   ]
  },
  {
   "cell_type": "markdown",
   "metadata": {},
   "source": [
    "### `projects.get()`\n",
    "Get a list of all projects where the app has been installed from the []() endpoint.\n",
    "\n",
    "```python\n",
    "\"\"\"\n",
    "Parameters\n",
    "----------\n",
    "company_id : int\n",
    "    unique identifier for the company\n",
    "per_page : int, default 100\n",
    "    number of companies to include\n",
    "\n",
    "Returns\n",
    "-------\n",
    "projects : list of dict\n",
    "    list where each value is a dict with the project's id, active status (is_active), and name\n",
    "\"\"\"\n",
    "```"
   ]
  },
  {
   "cell_type": "markdown",
   "metadata": {},
   "source": [
    "Now use the ProPyCore `connection` variable to get the company and project details."
   ]
  },
  {
   "cell_type": "code",
   "execution_count": 5,
   "metadata": {},
   "outputs": [
    {
     "name": "stdout",
     "output_type": "stream",
     "text": [
      "Project: 1301 South Lamar (1668030)\n",
      "Project: 24th & Rio Grande Student Housing (2289314)\n",
      "Project: 315 College Main Apartments (1642207)\n",
      "Project: Mexican American Cultural Center, Phase 2 (1494731)\n",
      "Project: Sandbox Test Project (2783683)\n",
      "Project: South Laredo Multifamily (2430207)\n",
      "Project: TSTC Waco CCAP (2602910)\n"
     ]
    }
   ],
   "source": [
    "company = connection.companies.find(identifier=company_name)\n",
    "projects = connection.projects.get(\n",
    "    company_id=company[\"id\"]\n",
    ")\n",
    "for project in projects:\n",
    "    print(f\"Project: {project['name']} ({project['id']})\")"
   ]
  },
  {
   "cell_type": "markdown",
   "metadata": {},
   "source": [
    "You can see which fields are available by viewing the API documentation on this [endpoint]"
   ]
  },
  {
   "cell_type": "markdown",
   "metadata": {},
   "source": [
    "---"
   ]
  },
  {
   "cell_type": "markdown",
   "metadata": {},
   "source": [
    "### `projects.find()`\n",
    "Finds a specific project by looking for the project ID or the project name. The function will determine which to search for based on the data types.\n",
    "\n",
    "```python\n",
    "\"\"\"\n",
    "Parameters\n",
    "----------\n",
    "company_id : int\n",
    "    company id that the project is under\n",
    "identifier : int or str\n",
    "    project id number or company name\n",
    "\n",
    "Returns\n",
    "-------\n",
    "project : dict\n",
    "    project-specific dictionary\n",
    "\"\"\"\n",
    "```"
   ]
  },
  {
   "cell_type": "markdown",
   "metadata": {},
   "source": []
  },
  {
   "cell_type": "markdown",
   "metadata": {},
   "source": [
    "---"
   ]
  },
  {
   "cell_type": "markdown",
   "metadata": {},
   "source": [
    "### `projects.get_type()`\n",
    "Gets the project type for the given project.\n",
    "\n",
    "```python\n",
    "\"\"\"\n",
    "Parameters\n",
    "----------\n",
    "company_id : int\n",
    "    The identifier for the company\n",
    "project_id : int\n",
    "    The identifier for the project\n",
    "\n",
    "Returns\n",
    "-------\n",
    "project_type : dict\n",
    "    Type id and name\n",
    "\"\"\"\n",
    "```"
   ]
  },
  {
   "cell_type": "code",
   "execution_count": 6,
   "metadata": {},
   "outputs": [
    {
     "name": "stdout",
     "output_type": "stream",
     "text": [
      "Project: 1301 South Lamar (1668030): Office\n",
      "Project: 24th & Rio Grande Student Housing (2289314): Multifamily\n",
      "Project: 315 College Main Apartments (1642207): Multifamily\n",
      "Project: Mexican American Cultural Center, Phase 2 (1494731): Public\n",
      "Project: Sandbox Test Project (2783683): None\n",
      "Project: South Laredo Multifamily (2430207): Multifamily\n",
      "Project: TSTC Waco CCAP (2602910): Higher Education\n"
     ]
    }
   ],
   "source": [
    "company = connection.companies.find(identifier=company_name)\n",
    "# Get the list of projects\n",
    "projects = connection.projects.get(\n",
    "    company_id=company[\"id\"]\n",
    ")\n",
    "# Output the type for each project\n",
    "for project in projects:\n",
    "    project_type = connection.projects.get_type(\n",
    "        company_id=company[\"id\"],\n",
    "        project_id=project[\"id\"]\n",
    "    )\n",
    "    print(f\"Project: {project['name']} ({project['id']}): {project_type}\")"
   ]
  },
  {
   "cell_type": "markdown",
   "metadata": {},
   "source": [
    "---"
   ]
  }
 ],
 "metadata": {
  "kernelspec": {
   "display_name": ".venv_doc",
   "language": "python",
   "name": "python3"
  },
  "language_info": {
   "codemirror_mode": {
    "name": "ipython",
    "version": 3
   },
   "file_extension": ".py",
   "mimetype": "text/x-python",
   "name": "python",
   "nbconvert_exporter": "python",
   "pygments_lexer": "ipython3",
   "version": "3.11.9"
  }
 },
 "nbformat": 4,
 "nbformat_minor": 2
}
