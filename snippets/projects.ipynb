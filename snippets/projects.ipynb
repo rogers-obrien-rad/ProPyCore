{
 "cells": [
  {
   "cell_type": "markdown",
   "metadata": {},
   "source": [
    "# ProPyCore SDK Examples: Projects\n",
    "\n",
    "This notebook contains snippets from the `projects.py` module."
   ]
  },
  {
   "cell_type": "code",
   "execution_count": 1,
   "metadata": {},
   "outputs": [],
   "source": [
    "import os\n",
    "import dotenv\n",
    "import json\n",
    "\n",
    "import ProPyCore"
   ]
  },
  {
   "cell_type": "markdown",
   "metadata": {},
   "source": [
    "## Setup\n",
    "You will need to create the connection to your Procore app and then get the details for your company and project.\n",
    "\n",
    "### Connection to Procore App\n",
    "Ensure you have a `.env` file with the following information included:\n",
    "* `CLIENT_ID`: your data connection app's client ID\n",
    "* `CLIENT_SECRET`: your data connection app's client secret"
   ]
  },
  {
   "cell_type": "code",
   "execution_count": 2,
   "metadata": {},
   "outputs": [],
   "source": [
    "dotenv.load_dotenv()\n",
    "connection = ProPyCore.procore.Procore(\n",
    "    client_id=os.getenv(\"CLIENT_ID\"),\n",
    "    client_secret=os.getenv(\"CLIENT_SECRET\"),\n",
    "    redirect_uri=\"urn:ietf:wg:oauth:2.0:oob\", # default for data connection apps\n",
    "    oauth_url=\"https://app.procore.com\", # default for data connection apps\n",
    "    base_url=\"https://app.procore.com\" # default for data connection apps\n",
    ")"
   ]
  },
  {
   "cell_type": "markdown",
   "metadata": {},
   "source": [
    "### Company Details\n",
    "Use the cell below to specify your company name"
   ]
  },
  {
   "cell_type": "code",
   "execution_count": 3,
   "metadata": {},
   "outputs": [],
   "source": [
    "company_name = \"Rogers-O`Brien Construction\""
   ]
  },
  {
   "cell_type": "markdown",
   "metadata": {},
   "source": [
    "Now get the company details"
   ]
  },
  {
   "cell_type": "code",
   "execution_count": 4,
   "metadata": {},
   "outputs": [],
   "source": [
    "company = connection.companies.find(identifier=company_name)"
   ]
  },
  {
   "cell_type": "markdown",
   "metadata": {},
   "source": [
    "---"
   ]
  },
  {
   "cell_type": "markdown",
   "metadata": {},
   "source": [
    "### `projects.get()`\n",
    "Get a list of all projects where the app has been installed from the []() endpoint.\n",
    "\n",
    "```python\n",
    "\"\"\"\n",
    "Parameters\n",
    "----------\n",
    "company_id : int\n",
    "    unique identifier for the company\n",
    "per_page : int, default 100\n",
    "    number of companies to include\n",
    "\n",
    "Returns\n",
    "-------\n",
    "projects : list of dict\n",
    "    list where each value is a dict with the project's id, active status (is_active), and name\n",
    "\"\"\"\n",
    "```"
   ]
  },
  {
   "cell_type": "markdown",
   "metadata": {},
   "source": [
    "Now use the ProPyCore `connection` variable to get the company and project details."
   ]
  },
  {
   "cell_type": "code",
   "execution_count": 5,
   "metadata": {},
   "outputs": [
    {
     "ename": "ProcoreException",
     "evalue": "'Error: 400'",
     "output_type": "error",
     "traceback": [
      "\u001b[1;31m---------------------------------------------------------------------------\u001b[0m",
      "\u001b[1;31mProcoreException\u001b[0m                          Traceback (most recent call last)",
      "Cell \u001b[1;32mIn[5], line 2\u001b[0m\n\u001b[0;32m      1\u001b[0m company \u001b[38;5;241m=\u001b[39m connection\u001b[38;5;241m.\u001b[39mcompanies\u001b[38;5;241m.\u001b[39mfind(identifier\u001b[38;5;241m=\u001b[39mcompany_name)\n\u001b[1;32m----> 2\u001b[0m projects \u001b[38;5;241m=\u001b[39m \u001b[43mconnection\u001b[49m\u001b[38;5;241;43m.\u001b[39;49m\u001b[43mprojects\u001b[49m\u001b[38;5;241;43m.\u001b[39;49m\u001b[43mget\u001b[49m\u001b[43m(\u001b[49m\n\u001b[0;32m      3\u001b[0m \u001b[43m    \u001b[49m\u001b[43mcompany_id\u001b[49m\u001b[38;5;241;43m=\u001b[39;49m\u001b[43mcompany\u001b[49m\u001b[43m[\u001b[49m\u001b[38;5;124;43m\"\u001b[39;49m\u001b[38;5;124;43mid\u001b[39;49m\u001b[38;5;124;43m\"\u001b[39;49m\u001b[43m]\u001b[49m\n\u001b[0;32m      4\u001b[0m \u001b[43m)\u001b[49m\n\u001b[0;32m      5\u001b[0m \u001b[38;5;28;01mfor\u001b[39;00m project \u001b[38;5;129;01min\u001b[39;00m projects:\n\u001b[0;32m      6\u001b[0m     \u001b[38;5;28mprint\u001b[39m(\u001b[38;5;124mf\u001b[39m\u001b[38;5;124m\"\u001b[39m\u001b[38;5;124mProject: \u001b[39m\u001b[38;5;132;01m{\u001b[39;00mproject[\u001b[38;5;124m'\u001b[39m\u001b[38;5;124mname\u001b[39m\u001b[38;5;124m'\u001b[39m]\u001b[38;5;132;01m}\u001b[39;00m\u001b[38;5;124m (\u001b[39m\u001b[38;5;132;01m{\u001b[39;00mproject[\u001b[38;5;124m'\u001b[39m\u001b[38;5;124mid\u001b[39m\u001b[38;5;124m'\u001b[39m]\u001b[38;5;132;01m}\u001b[39;00m\u001b[38;5;124m)\u001b[39m\u001b[38;5;124m\"\u001b[39m)\n",
      "File \u001b[1;32mc:\\Users\\hfritz\\OneDrive - RO\\Documents\\packages\\ProPyCore\\snippets\\.venv_doc\\Lib\\site-packages\\ProPyCore\\access\\projects.py:40\u001b[0m, in \u001b[0;36mProjects.get\u001b[1;34m(self, company_id, per_page)\u001b[0m\n\u001b[0;32m     33\u001b[0m \u001b[38;5;28;01mwhile\u001b[39;00m n_projects \u001b[38;5;241m>\u001b[39m \u001b[38;5;241m0\u001b[39m:\n\u001b[0;32m     34\u001b[0m     params \u001b[38;5;241m=\u001b[39m {\n\u001b[0;32m     35\u001b[0m         \u001b[38;5;124m\"\u001b[39m\u001b[38;5;124mcompany_id\u001b[39m\u001b[38;5;124m\"\u001b[39m: company_id,\n\u001b[0;32m     36\u001b[0m         \u001b[38;5;124m\"\u001b[39m\u001b[38;5;124mpage\u001b[39m\u001b[38;5;124m\"\u001b[39m: page,\n\u001b[0;32m     37\u001b[0m         \u001b[38;5;124m\"\u001b[39m\u001b[38;5;124mper_page\u001b[39m\u001b[38;5;124m\"\u001b[39m: per_page\n\u001b[0;32m     38\u001b[0m     }\n\u001b[1;32m---> 40\u001b[0m     projects_per_page \u001b[38;5;241m=\u001b[39m \u001b[38;5;28;43mself\u001b[39;49m\u001b[38;5;241;43m.\u001b[39;49m\u001b[43mget_request\u001b[49m\u001b[43m(\u001b[49m\n\u001b[0;32m     41\u001b[0m \u001b[43m        \u001b[49m\u001b[43mapi_url\u001b[49m\u001b[38;5;241;43m=\u001b[39;49m\u001b[38;5;28;43mself\u001b[39;49m\u001b[38;5;241;43m.\u001b[39;49m\u001b[43mendpoint\u001b[49m\u001b[43m,\u001b[49m\n\u001b[0;32m     42\u001b[0m \u001b[43m        \u001b[49m\u001b[43mparams\u001b[49m\u001b[38;5;241;43m=\u001b[39;49m\u001b[43mparams\u001b[49m\n\u001b[0;32m     43\u001b[0m \u001b[43m    \u001b[49m\u001b[43m)\u001b[49m\n\u001b[0;32m     44\u001b[0m     n_projects \u001b[38;5;241m=\u001b[39m \u001b[38;5;28mlen\u001b[39m(projects_per_page)\n\u001b[0;32m     46\u001b[0m     projects \u001b[38;5;241m+\u001b[39m\u001b[38;5;241m=\u001b[39m projects_per_page\n",
      "File \u001b[1;32mc:\\Users\\hfritz\\OneDrive - RO\\Documents\\packages\\ProPyCore\\snippets\\.venv_doc\\Lib\\site-packages\\ProPyCore\\access\\base.py:60\u001b[0m, in \u001b[0;36mBase.get_request\u001b[1;34m(self, api_url, additional_headers, params)\u001b[0m\n\u001b[0;32m     58\u001b[0m     \u001b[38;5;28;01mreturn\u001b[39;00m response\u001b[38;5;241m.\u001b[39mjson()\n\u001b[0;32m     59\u001b[0m \u001b[38;5;28;01melse\u001b[39;00m:\n\u001b[1;32m---> 60\u001b[0m     \u001b[43mraise_exception\u001b[49m\u001b[43m(\u001b[49m\u001b[43mresponse\u001b[49m\u001b[43m)\u001b[49m\n",
      "File \u001b[1;32mc:\\Users\\hfritz\\OneDrive - RO\\Documents\\packages\\ProPyCore\\snippets\\.venv_doc\\Lib\\site-packages\\ProPyCore\\exceptions.py:86\u001b[0m, in \u001b[0;36mraise_exception\u001b[1;34m(response)\u001b[0m\n\u001b[0;32m     83\u001b[0m     \u001b[38;5;28;01mraise\u001b[39;00m InternalServerError(\u001b[38;5;124m'\u001b[39m\u001b[38;5;124m500: Internal server error\u001b[39m\u001b[38;5;124m'\u001b[39m, response\u001b[38;5;241m.\u001b[39mtext)\n\u001b[0;32m     85\u001b[0m \u001b[38;5;28;01melse\u001b[39;00m:\n\u001b[1;32m---> 86\u001b[0m     \u001b[38;5;28;01mraise\u001b[39;00m ProcoreException(\u001b[38;5;124m'\u001b[39m\u001b[38;5;124mError: \u001b[39m\u001b[38;5;132;01m{0}\u001b[39;00m\u001b[38;5;124m'\u001b[39m\u001b[38;5;241m.\u001b[39mformat(response\u001b[38;5;241m.\u001b[39mstatus_code), response\u001b[38;5;241m.\u001b[39mtext)\n",
      "\u001b[1;31mProcoreException\u001b[0m: 'Error: 400'"
     ]
    }
   ],
   "source": [
    "company = connection.companies.find(identifier=company_name)\n",
    "projects = connection.projects.get(\n",
    "    company_id=company[\"id\"]\n",
    ")\n",
    "for project in projects:\n",
    "    print(f\"Project: {project['name']} ({project['id']})\")"
   ]
  },
  {
   "cell_type": "markdown",
   "metadata": {},
   "source": [
    "You can see which fields are available by viewing the API documentation on this [endpoint]"
   ]
  },
  {
   "cell_type": "markdown",
   "metadata": {},
   "source": [
    "---"
   ]
  },
  {
   "cell_type": "markdown",
   "metadata": {},
   "source": [
    "### `projects.find()`\n",
    "Finds a specific project by looking for the project ID or the project name. The function will determine which to search for based on the data types.\n",
    "\n",
    "```python\n",
    "\"\"\"\n",
    "Parameters\n",
    "----------\n",
    "company_id : int\n",
    "    company id that the project is under\n",
    "identifier : int or str\n",
    "    project id number or company name\n",
    "\n",
    "Returns\n",
    "-------\n",
    "project : dict\n",
    "    project-specific dictionary\n",
    "\"\"\"\n",
    "```"
   ]
  },
  {
   "cell_type": "markdown",
   "metadata": {},
   "source": []
  },
  {
   "cell_type": "markdown",
   "metadata": {},
   "source": [
    "---"
   ]
  },
  {
   "cell_type": "markdown",
   "metadata": {},
   "source": [
    "### `projects.get_type()`\n",
    "Gets the project type for the given project.\n",
    "\n",
    "```python\n",
    "\"\"\"\n",
    "Parameters\n",
    "----------\n",
    "company_id : int\n",
    "    The identifier for the company\n",
    "project_id : int\n",
    "    The identifier for the project\n",
    "\n",
    "Returns\n",
    "-------\n",
    "project_type : dict\n",
    "    Type id and name\n",
    "\"\"\"\n",
    "```"
   ]
  },
  {
   "cell_type": "code",
   "execution_count": 10,
   "metadata": {},
   "outputs": [
    {
     "ename": "AttributeError",
     "evalue": "'Projects' object has no attribute 'get_type'",
     "output_type": "error",
     "traceback": [
      "\u001b[1;31m---------------------------------------------------------------------------\u001b[0m",
      "\u001b[1;31mAttributeError\u001b[0m                            Traceback (most recent call last)",
      "Cell \u001b[1;32mIn[10], line 8\u001b[0m\n\u001b[0;32m      6\u001b[0m \u001b[38;5;66;03m# Output the type for each project\u001b[39;00m\n\u001b[0;32m      7\u001b[0m \u001b[38;5;28;01mfor\u001b[39;00m project \u001b[38;5;129;01min\u001b[39;00m projects:\n\u001b[1;32m----> 8\u001b[0m     project_type \u001b[38;5;241m=\u001b[39m \u001b[43mconnection\u001b[49m\u001b[38;5;241;43m.\u001b[39;49m\u001b[43mprojects\u001b[49m\u001b[38;5;241;43m.\u001b[39;49m\u001b[43mget_type\u001b[49m(\n\u001b[0;32m      9\u001b[0m         company_id\u001b[38;5;241m=\u001b[39mcompany[\u001b[38;5;124m\"\u001b[39m\u001b[38;5;124mid\u001b[39m\u001b[38;5;124m\"\u001b[39m],\n\u001b[0;32m     10\u001b[0m         project_id\u001b[38;5;241m=\u001b[39mproject[\u001b[38;5;124m\"\u001b[39m\u001b[38;5;124mid\u001b[39m\u001b[38;5;124m\"\u001b[39m]\n\u001b[0;32m     11\u001b[0m     )\n\u001b[0;32m     12\u001b[0m     \u001b[38;5;28mprint\u001b[39m(\u001b[38;5;124mf\u001b[39m\u001b[38;5;124m\"\u001b[39m\u001b[38;5;124mProject: \u001b[39m\u001b[38;5;132;01m{\u001b[39;00mproject[\u001b[38;5;124m'\u001b[39m\u001b[38;5;124mname\u001b[39m\u001b[38;5;124m'\u001b[39m]\u001b[38;5;132;01m}\u001b[39;00m\u001b[38;5;124m (\u001b[39m\u001b[38;5;132;01m{\u001b[39;00mproject[\u001b[38;5;124m'\u001b[39m\u001b[38;5;124mid\u001b[39m\u001b[38;5;124m'\u001b[39m]\u001b[38;5;132;01m}\u001b[39;00m\u001b[38;5;124m): \u001b[39m\u001b[38;5;132;01m{\u001b[39;00mproject_type\u001b[38;5;132;01m}\u001b[39;00m\u001b[38;5;124m\"\u001b[39m)\n",
      "\u001b[1;31mAttributeError\u001b[0m: 'Projects' object has no attribute 'get_type'"
     ]
    }
   ],
   "source": [
    "company = connection.companies.find(identifier=company_name)\n",
    "# Get the list of projects\n",
    "projects = connection.projects.get(\n",
    "    company_id=company[\"id\"]\n",
    ")\n",
    "# Output the type for each project\n",
    "for project in projects:\n",
    "    project_type = connection.projects.get_type(\n",
    "        company_id=company[\"id\"],\n",
    "        project_id=project[\"id\"]\n",
    "    )\n",
    "    print(f\"Project: {project['name']} ({project['id']}): {project_type}\")"
   ]
  },
  {
   "cell_type": "markdown",
   "metadata": {},
   "source": [
    "---"
   ]
  }
 ],
 "metadata": {
  "kernelspec": {
   "display_name": ".venv_doc",
   "language": "python",
   "name": "python3"
  },
  "language_info": {
   "codemirror_mode": {
    "name": "ipython",
    "version": 3
   },
   "file_extension": ".py",
   "mimetype": "text/x-python",
   "name": "python",
   "nbconvert_exporter": "python",
   "pygments_lexer": "ipython3",
   "version": "3.11.9"
  }
 },
 "nbformat": 4,
 "nbformat_minor": 2
}
