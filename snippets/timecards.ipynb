{
 "cells": [
  {
   "cell_type": "markdown",
   "metadata": {},
   "source": [
    "# ProPyCore SDK Examples: Timecards\n",
    "\n",
    "This notebook contains snippets from the `timecard` submodule"
   ]
  },
  {
   "cell_type": "code",
   "execution_count": 1,
   "metadata": {},
   "outputs": [],
   "source": [
    "import os\n",
    "import dotenv\n",
    "import json\n",
    "import ProPyCore\n",
    "\n",
    "from datetime import datetime"
   ]
  },
  {
   "cell_type": "markdown",
   "metadata": {},
   "source": [
    "## Setup\n",
    "You will need to create the connection to your Procore app and then get the details for your company and project.\n",
    "\n",
    "### Connection to Procore App\n",
    "Ensure you have a `.env` file with the following information included:\n",
    "* `CLIENT_ID`: your data connection app's client ID\n",
    "* `CLIENT_SECRET`: your data connection app's client secret"
   ]
  },
  {
   "cell_type": "code",
   "execution_count": 2,
   "metadata": {},
   "outputs": [],
   "source": [
    "dotenv.load_dotenv()\n",
    "connection = ProPyCore.procore.Procore(\n",
    "    client_id=os.getenv(\"CLIENT_ID\"),\n",
    "    client_secret=os.getenv(\"CLIENT_SECRET\"),\n",
    "    redirect_uri=\"urn:ietf:wg:oauth:2.0:oob\", # default for data connection apps\n",
    "    oauth_url=\"https://app.procore.com\", # default for data connection apps\n",
    "    base_url=\"https://app.procore.com\" # default for data connection apps\n",
    ")"
   ]
  },
  {
   "cell_type": "markdown",
   "metadata": {},
   "source": [
    "### Get Company Details\n",
    "Use the cell below to specify your company name"
   ]
  },
  {
   "cell_type": "code",
   "execution_count": 3,
   "metadata": {},
   "outputs": [
    {
     "name": "stdout",
     "output_type": "stream",
     "text": [
      "Rogers-O`Brien Construction\n"
     ]
    }
   ],
   "source": [
    "companies = connection.companies.get()\n",
    "for company in companies:\n",
    "    print(company[\"name\"])\n",
    "\n",
    "company_name = companies[0][\"name\"]"
   ]
  },
  {
   "cell_type": "markdown",
   "metadata": {},
   "source": [
    "Now get the company details"
   ]
  },
  {
   "cell_type": "code",
   "execution_count": 4,
   "metadata": {},
   "outputs": [
    {
     "name": "stdout",
     "output_type": "stream",
     "text": [
      "Sandbox Test Project\n"
     ]
    }
   ],
   "source": [
    "company = connection.companies.find(identifier=company_name)\n",
    "projects = connection.projects.get(company_id=company[\"id\"])\n",
    "project = connection.projects.find(\n",
    "    company_id=company[\"id\"],\n",
    "    identifier=\"Sandbox Test Project\"\n",
    ")\n",
    "print(project[\"name\"])"
   ]
  },
  {
   "cell_type": "markdown",
   "metadata": {},
   "source": [
    "### `time.timecards.get_time_types()`\n",
    "\n",
    "```python\n",
    "\"\"\"\n",
    "Gets the time types at the company level\n",
    "\n",
    "Parameters\n",
    "----------\n",
    "company_id : int\n",
    "    unique identifier for the company\n",
    "\n",
    "Returns\n",
    "-------\n",
    "<time_types> : list of dict\n",
    "    list where each value is a dict with a time type's information\n",
    "\"\"\"\n",
    "```"
   ]
  },
  {
   "cell_type": "code",
   "execution_count": 5,
   "metadata": {},
   "outputs": [
    {
     "name": "stdout",
     "output_type": "stream",
     "text": [
      "[\n",
      "    {\n",
      "        \"id\": 980727,\n",
      "        \"name\": \"Bereavement\",\n",
      "        \"abbreviated_time_type\": \"BER\",\n",
      "        \"available\": true,\n",
      "        \"default\": false,\n",
      "        \"pay_rate\": null\n",
      "    },\n",
      "    {\n",
      "        \"id\": 980729,\n",
      "        \"name\": \"FMLA\",\n",
      "        \"abbreviated_time_type\": \"FMLA\",\n",
      "        \"available\": true,\n",
      "        \"default\": false,\n",
      "        \"pay_rate\": null\n",
      "    },\n",
      "    {\n",
      "        \"id\": 980894,\n",
      "        \"name\": \"Hourly\",\n",
      "        \"abbreviated_time_type\": \"REG\",\n",
      "        \"available\": true,\n",
      "        \"default\": false,\n",
      "        \"pay_rate\": null\n",
      "    },\n",
      "    {\n",
      "        \"id\": 89458,\n",
      "        \"name\": \"Salary\",\n",
      "        \"abbreviated_time_type\": \"SAL\",\n",
      "        \"available\": true,\n",
      "        \"default\": true,\n",
      "        \"pay_rate\": null\n",
      "    },\n",
      "    {\n",
      "        \"id\": 980728,\n",
      "        \"name\": \"Sick/Personal\",\n",
      "        \"abbreviated_time_type\": \"SICK/PER\",\n",
      "        \"available\": true,\n",
      "        \"default\": false,\n",
      "        \"pay_rate\": null\n",
      "    },\n",
      "    {\n",
      "        \"id\": 44298,\n",
      "        \"name\": \"Vacation\",\n",
      "        \"abbreviated_time_type\": \"VAC\",\n",
      "        \"available\": true,\n",
      "        \"default\": true,\n",
      "        \"pay_rate\": null\n",
      "    }\n",
      "]\n"
     ]
    }
   ],
   "source": [
    "time_types = connection.time.timecards.get_time_types(\n",
    "    company_id=company[\"id\"]\n",
    ")\n",
    "print(json.dumps(time_types, indent=4))"
   ]
  },
  {
   "cell_type": "markdown",
   "metadata": {},
   "source": [
    "### `time.timecards.get_for_day()`\n",
    "\n",
    "```python\n",
    "\"\"\"\n",
    "Returns a list of all daily timecard data for a given project\n",
    "https://developers.procore.com/reference/rest/timecard-entries?version=latest\n",
    "\n",
    "Parameters\n",
    "----------\n",
    "company_id : int\n",
    "    unique identifier for the company\n",
    "project_id : int\n",
    "    unique identifier for the project\n",
    "entry_date : datetime, default None\n",
    "    date to pull timecards\n",
    "    None specifies current day\n",
    "page : int, default 1\n",
    "    page number\n",
    "per_page : int, default 100\n",
    "    number of timecards to include per page\n",
    "\n",
    "Returns\n",
    "-------\n",
    "timecards : list of dict\n",
    "    available timecard data\n",
    "\"\"\"\n",
    "```"
   ]
  },
  {
   "cell_type": "code",
   "execution_count": 6,
   "metadata": {},
   "outputs": [
    {
     "name": "stdout",
     "output_type": "stream",
     "text": [
      "Number of Timecards: 1\n"
     ]
    }
   ],
   "source": [
    "timecards_by_day = connection.time.timecards.get_for_day(\n",
    "    company_id=company[\"id\"],\n",
    "    project_id=project[\"id\"],\n",
    "    entry_date=datetime(2025, 2, 5)\n",
    ")\n",
    "\n",
    "print(f\"Number of Timecards: {len(timecards_by_day)}\")\n",
    "# Uncomment to save timecards\n",
    "with open(\"timecards_by_day.json\", \"w\") as f:\n",
    "    json.dump(timecards_by_day, f, indent=4)"
   ]
  },
  {
   "cell_type": "markdown",
   "metadata": {},
   "source": [
    "### `get_for_specified_period()`\n",
    "```python\n",
    "\"\"\"\n",
    "Return a list of all timecard data for the given date range (inclusive on both ends)\n",
    "https://developers.procore.com/reference/rest/timesheets?version=latest#list-timecard-data\n",
    "\n",
    "Parameters\n",
    "----------\n",
    "company_id : int\n",
    "    unique identifier for the company\n",
    "start_date : datetime\n",
    "    start date of pay period (inclusive)\n",
    "end_date : datetime\n",
    "    end date of pay period (inclusive)\n",
    "page : int, default 1\n",
    "    page number\n",
    "per_page : int, default 100\n",
    "    number of timecards to include per page\n",
    "party_id : int, default None\n",
    "    procore People ID to filter by if included\n",
    "\n",
    "Returns\n",
    "-------\n",
    "timecards : list of dict\n",
    "    available timecard data\n",
    "\"\"\"\n",
    "```"
   ]
  },
  {
   "cell_type": "code",
   "execution_count": 7,
   "metadata": {},
   "outputs": [
    {
     "name": "stdout",
     "output_type": "stream",
     "text": [
      "Number of Timecards: 4\n"
     ]
    }
   ],
   "source": [
    "timecards_by_period = connection.time.timecards.get_for_specified_period(\n",
    "    company_id=company[\"id\"],\n",
    "    start_date=datetime(2025, 2, 1),\n",
    "    end_date=datetime(2025, 2, 5),\n",
    "    party_id=25138567\n",
    ")\n",
    "print(f\"Number of Timecards: {len(timecards_by_period)}\")\n",
    "# Uncomment to save timecards\n",
    "# with open(\"timecards_by_pay_period.json\", \"w\") as f:\n",
    "#    json.dump(timecards_by_period, f, indent=4)"
   ]
  },
  {
   "cell_type": "markdown",
   "metadata": {},
   "source": [
    "### `time.timecards.create_in_project()`\n",
    "```python\n",
    "\"\"\"\n",
    "Create a new timecard\n",
    "https://developers.procore.com/reference/rest/timecard-entries?version=latest#create-timecard-entry-project\n",
    "\n",
    "Parameters\n",
    "----------\n",
    "company_id : int\n",
    "    unique identifier for the company\n",
    "project_id : int\n",
    "    Procore's unique identifier for the project\n",
    "data : dict\n",
    "    timecard data to create\n",
    "\"\"\"\n",
    "```"
   ]
  },
  {
   "cell_type": "code",
   "execution_count": 9,
   "metadata": {},
   "outputs": [
    {
     "name": "stdout",
     "output_type": "stream",
     "text": [
      "{\n",
      "    \"timecard_entry\": {\n",
      "        \"hours\": \"8\",\n",
      "        \"party_id\": 25138567,\n",
      "        \"date\": \"2025-02-06\",\n",
      "        \"cost_code_id\": 971232406,\n",
      "        \"billable\": true,\n",
      "        \"description\": \"Test timecard from API\",\n",
      "        \"timecard_time_type_id\": 89458,\n",
      "        \"line_item_type_id\": 832349,\n",
      "        \"datetime\": \"2025-02-06T12:00:00Z\"\n",
      "    }\n",
      "}\n"
     ]
    }
   ],
   "source": [
    "sandbox_project = connection.projects.find(\n",
    "    company_id=company[\"id\"],\n",
    "    identifier=\"Sandbox Test Project\"\n",
    ")\n",
    "data = {\n",
    "    \"hours\": 8,                                 # required\n",
    "    \"party_id\": \"hfritz@r-o.com\",               # required: people ID or email (finds the ID for you)\n",
    "    \"date\": \"2025-02-06\",                       # optional: defaults to current day\n",
    "    \"cost_code_id\": \"Quality Manager\",          # required: integer ID or title of cost code (finds ID for you)\n",
    "    \"billable\": True,                           # optional: defaults to True\n",
    "    \"description\": \"Test timecard from API\"     # optional\n",
    "}\n",
    "\n",
    "_ = connection.time.timecards.create_in_project(\n",
    "    company_id=company[\"id\"],\n",
    "    project_id=sandbox_project[\"id\"],\n",
    "    data=data\n",
    ")"
   ]
  },
  {
   "cell_type": "markdown",
   "metadata": {},
   "source": [
    "---"
   ]
  }
 ],
 "metadata": {
  "kernelspec": {
   "display_name": ".venv",
   "language": "python",
   "name": "python3"
  },
  "language_info": {
   "codemirror_mode": {
    "name": "ipython",
    "version": 3
   },
   "file_extension": ".py",
   "mimetype": "text/x-python",
   "name": "python",
   "nbconvert_exporter": "python",
   "pygments_lexer": "ipython3",
   "version": "3.11.9"
  }
 },
 "nbformat": 4,
 "nbformat_minor": 2
}
