{
 "cells": [
  {
   "cell_type": "markdown",
   "metadata": {},
   "source": [
    "# ProPyCore SDK Examples: Photos\n",
    "\n",
    "This notebook contains snippets from the `photos.py` module."
   ]
  },
  {
   "cell_type": "code",
   "execution_count": 11,
   "metadata": {},
   "outputs": [],
   "source": [
    "import os\n",
    "import dotenv\n",
    "import json\n",
    "\n",
    "import ProPyCore"
   ]
  },
  {
   "cell_type": "markdown",
   "metadata": {},
   "source": [
    "## Setup\n",
    "You will need to create the connection to your Procore app and then get the details for your company and project.\n",
    "\n",
    "### Connection to Procore App\n",
    "Ensure you have a `.env` file with the following information included:\n",
    "* `CLIENT_ID`: your data connection app's client ID\n",
    "* `CLIENT_SECRET`: your data connection app's client secret"
   ]
  },
  {
   "cell_type": "code",
   "execution_count": null,
   "metadata": {},
   "outputs": [],
   "source": [
    "dotenv.load_dotenv()\n",
    "client = ProPyCore.procore.Procore(\n",
    "    client_id=os.getenv(\"CLIENT_ID\"),\n",
    "    client_secret=os.getenv(\"CLIENT_SECRET\"),\n",
    "    redirect_uri=\"urn:ietf:wg:oauth:2.0:oob\", # default for data connection apps\n",
    "    oauth_url=\"https://app.procore.com\", # default for data connection apps\n",
    "    base_url=\"https://app.procore.com\" # default for data connection apps\n",
    ")\n",
    "\n",
    "# Get company and test project for use throughout notebook\n",
    "company = client.companies.get()[0]\n",
    "print(company[\"id\"])\n",
    "project = client.projects.find(\n",
    "    company_id=company[\"id\"],\n",
    "    identifier=\"Sandbox Test Project\"\n",
    ")\n",
    "print(project[\"id\"])"
   ]
  },
  {
   "cell_type": "markdown",
   "metadata": {
    "vscode": {
     "languageId": "plaintext"
    }
   },
   "source": [
    "### `photos.categories.create()`\n",
    "```python\n",
    "\"\"\"\n",
    "Creates a photo folder \n",
    "\n",
    "Parameters\n",
    "----------\n",
    "company_id : int\n",
    "    unique identifier for the company\n",
    "project_id : int\n",
    "    unique identifier for the project\n",
    "folder_name : str\n",
    "    name of the folder to create\n",
    "\n",
    "Returns\n",
    "-------\n",
    "cat_info : dict\n",
    "    request body\n",
    "\"\"\"\n",
    "```"
   ]
  },
  {
   "cell_type": "code",
   "execution_count": null,
   "metadata": {},
   "outputs": [],
   "source": [
    "crated_cat_info = client.photos.categories.create(\n",
    "    company_id=company[\"id\"],\n",
    "    project_id=project[\"id\"],\n",
    "    folder_name=\"Test\"\n",
    ")\n",
    "print(crated_cat_info)"
   ]
  },
  {
   "cell_type": "markdown",
   "metadata": {},
   "source": [
    "### `photos.categories.get()`\n",
    "```python\n",
    "\"\"\"\n",
    "Returns a list of photo folders for a project.\n",
    "\n",
    "Parameters\n",
    "----------\n",
    "company_id : int\n",
    "    unique identifier for the company\n",
    "project_id : int\n",
    "    unique identifier for the project\n",
    "\n",
    "Returns\n",
    "-------\n",
    "cats : list of dict\n",
    "    photo category details\n",
    "\"\"\"\n",
    "```"
   ]
  },
  {
   "cell_type": "code",
   "execution_count": null,
   "metadata": {},
   "outputs": [],
   "source": [
    "photo_cats = client.photos.categories.get(\n",
    "    company_id=company[\"id\"],\n",
    "    project_id=project[\"id\"]\n",
    ")\n",
    "print(photo_cats)\n",
    "\n",
    "cat_names = [cat[\"name\"] for cat in photo_cats]\n",
    "print(cat_names)"
   ]
  },
  {
   "cell_type": "markdown",
   "metadata": {},
   "source": [
    "### `photos.categories.show()`\n",
    "```python\n",
    "\"\"\"\n",
    "Returns a photo folder by ID.\n",
    "\n",
    "Parameters\n",
    "----------\n",
    "company_id : int\n",
    "    unique identifier for the company\n",
    "project_id : int\n",
    "    unique identifier for the project\n",
    "category_id : int\n",
    "    unique identifier for the photo folder\n",
    "\n",
    "Returns\n",
    "-------\n",
    "cat_info : dict\n",
    "    photo folder details\n",
    "\"\"\"\n",
    "```"
   ]
  },
  {
   "cell_type": "code",
   "execution_count": null,
   "metadata": {},
   "outputs": [],
   "source": [
    "cat_details = client.photos.categories.show(\n",
    "    company_id=company[\"id\"],\n",
    "    project_id=project[\"id\"],\n",
    "    category_id=14948323\n",
    ")\n",
    "print(cat_details[\"name\"])"
   ]
  },
  {
   "cell_type": "markdown",
   "metadata": {},
   "source": [
    "---"
   ]
  }
 ],
 "metadata": {
  "kernelspec": {
   "display_name": ".venv",
   "language": "python",
   "name": "python3"
  },
  "language_info": {
   "codemirror_mode": {
    "name": "ipython",
    "version": 3
   },
   "file_extension": ".py",
   "mimetype": "text/x-python",
   "name": "python",
   "nbconvert_exporter": "python",
   "pygments_lexer": "ipython3",
   "version": "3.11.9"
  }
 },
 "nbformat": 4,
 "nbformat_minor": 2
}
