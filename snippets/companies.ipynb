{
 "cells": [
  {
   "cell_type": "markdown",
   "metadata": {},
   "source": [
    "# ProPyCore SDK Examples: Companies\n",
    "\n",
    "This notebook contains snippets from the `companies.py` module."
   ]
  },
  {
   "cell_type": "code",
   "execution_count": 1,
   "metadata": {},
   "outputs": [],
   "source": [
    "import os\n",
    "import dotenv\n",
    "import json\n",
    "\n",
    "import ProPyCore"
   ]
  },
  {
   "cell_type": "markdown",
   "metadata": {},
   "source": [
    "## Setup\n",
    "You will need to create the connection to your Procore app and then get the details for your company and project.\n",
    "\n",
    "### Connection to Procore App\n",
    "Ensure you have a `.env` file with the following information included:\n",
    "* `CLIENT_ID`: your data connection app's client ID\n",
    "* `CLIENT_SECRET`: your data connection app's client secret"
   ]
  },
  {
   "cell_type": "code",
   "execution_count": 2,
   "metadata": {},
   "outputs": [],
   "source": [
    "dotenv.load_dotenv()\n",
    "connection = ProPyCore.procore.Procore(\n",
    "    client_id=os.getenv(\"CLIENT_ID\"),\n",
    "    client_secret=os.getenv(\"CLIENT_SECRET\"),\n",
    "    redirect_uri=\"urn:ietf:wg:oauth:2.0:oob\", # default for data connection apps\n",
    "    oauth_url=\"https://app.procore.com\", # default for data connection apps\n",
    "    base_url=\"https://app.procore.com\" # default for data connection apps\n",
    ")"
   ]
  },
  {
   "cell_type": "markdown",
   "metadata": {},
   "source": [
    "---"
   ]
  },
  {
   "cell_type": "markdown",
   "metadata": {},
   "source": [
    "### `companies.get()`\n",
    "Gets all companies where the data connection app is installed from the [List Companies](https://developers.procore.com/reference/rest/v1/companies?version=1.0) endpoint.\n",
    "\n",
    "```python\n",
    "\"\"\"\n",
    "Parameters\n",
    "----------\n",
    "company_id : int\n",
    "    unique identifier for the company\n",
    "per_page : int, default 100\n",
    "    number of companies to include\n",
    "\n",
    "Returns\n",
    "-------\n",
    "projects : list of dict\n",
    "    list where each value is a dict with the project's id, active status (is_active), and name\n",
    "\"\"\"\n",
    "```"
   ]
  },
  {
   "cell_type": "code",
   "execution_count": 3,
   "metadata": {},
   "outputs": [
    {
     "name": "stdout",
     "output_type": "stream",
     "text": [
      "Project: Rogers-O`Brien Construction (8089)\n"
     ]
    }
   ],
   "source": [
    "companies = connection.companies.get()\n",
    "for company in companies:\n",
    "    print(f\"Project: {company['name']} ({company['id']})\")"
   ]
  },
  {
   "cell_type": "markdown",
   "metadata": {},
   "source": [
    "You can see which fields are available by viewing the API documentation on this [endpoint]"
   ]
  },
  {
   "cell_type": "markdown",
   "metadata": {},
   "source": [
    "---"
   ]
  },
  {
   "cell_type": "markdown",
   "metadata": {},
   "source": [
    "### `companies.find()`\n",
    "Finds a company based on the identifier. If an integer is supplied, the function will search for the company `id` field. If a string is supplied, then it will search based on the `name`.\n",
    "\n",
    "```python\n",
    "\"\"\"\n",
    "Parameters\n",
    "----------\n",
    "company_id : int\n",
    "    company id that the project is under\n",
    "identifier : int or str\n",
    "    project id number or company name\n",
    "\n",
    "Returns\n",
    "-------\n",
    "project : dict\n",
    "    project-specific dictionary\n",
    "\"\"\"\n",
    "```"
   ]
  },
  {
   "cell_type": "code",
   "execution_count": 4,
   "metadata": {},
   "outputs": [
    {
     "name": "stdout",
     "output_type": "stream",
     "text": [
      "Company by ID (int): Rogers-O`Brien Construction (8089)\n"
     ]
    }
   ],
   "source": [
    "# Find based on integer\n",
    "company_by_int = connection.companies.find(identifier=8089)\n",
    "print(f\"Company by ID (int): {company_by_int['name']} ({company_by_int['id']})\")"
   ]
  },
  {
   "cell_type": "code",
   "execution_count": 5,
   "metadata": {},
   "outputs": [
    {
     "name": "stdout",
     "output_type": "stream",
     "text": [
      "Company by Name (str): Rogers-O`Brien Construction (8089)\n"
     ]
    }
   ],
   "source": [
    "# Find based on name\n",
    "company_by_int = connection.companies.find(identifier=\"Rogers-O`Brien Construction\")\n",
    "print(f\"Company by Name (str): {company_by_int['name']} ({company_by_int['id']})\")"
   ]
  },
  {
   "cell_type": "markdown",
   "metadata": {},
   "source": [
    "A `NotFoundItemError` will be returned if the function cannot find your specified project:"
   ]
  },
  {
   "cell_type": "code",
   "execution_count": 6,
   "metadata": {},
   "outputs": [
    {
     "name": "stdout",
     "output_type": "stream",
     "text": [
      "'Could not find company Unknown Company'\n"
     ]
    }
   ],
   "source": [
    "try:\n",
    "    company_unknown = connection.companies.find(identifier=\"Unknown Company\")\n",
    "except Exception as e:\n",
    "    print(e)"
   ]
  },
  {
   "cell_type": "markdown",
   "metadata": {},
   "source": [
    "---"
   ]
  },
  {
   "cell_type": "markdown",
   "metadata": {},
   "source": [
    "### `companies.get_projects()`\n",
    "Retrieves the projects at the company-level which provides summarized details on the project compared to the project-level access. See the [List Company's Projects](https://developers.procore.com/reference/rest/v1/company-projects?version=1.0) endpoint.\n",
    "\n",
    "```python\n",
    "\"\"\"\n",
    "Parameters\n",
    "----------\n",
    "company_id : int\n",
    "    The identifier for the company\n",
    "\n",
    "Returns\n",
    "-------\n",
    "projects : list of dict\n",
    "    list where each value is a project within the company\n",
    "\"\"\"\n",
    "```"
   ]
  },
  {
   "cell_type": "code",
   "execution_count": 7,
   "metadata": {},
   "outputs": [
    {
     "name": "stdout",
     "output_type": "stream",
     "text": [
      "Mexican American Cultural Center, Phase 2 - Course of Construction - Public\n",
      "315 College Main Apartments - Post-Construction - Multifamily\n",
      "1301 South Lamar - Post-Construction - Office\n",
      "Cambria Hotel - Post-Construction - Hospitality\n",
      "300 Main - Post-Construction - Multifamily\n",
      "400 W.15th Elevator Mods - Post-Construction - Interiors\n",
      "401 First Street SH - Post-Construction - Multifamily\n",
      "Intern Training Project - VOID/TEST - None\n",
      "OpX Test Project - VOID/TEST - None\n",
      "24th & Rio Grande Student Housing - Course of Construction - Multifamily\n",
      "717 East Parmer - Post-Construction - Interiors\n",
      "BSW College Station MOB II - Course of Construction - Healthcare\n",
      "Uptown Dual Brand Hotel - Bidding - Hospitality\n",
      "South Laredo Multifamily - Course of Construction - Multifamily\n",
      "Precon Test Project - VOID/TEST - None\n",
      "Integrations & Connector Test Project - VOID/TEST - None\n",
      "BSW CS ED Expansion - Post-Construction - Healthcare\n",
      "Lifepath Systems - Course of Construction - Office\n",
      "TSTC Waco CCAP - Course of Construction - Higher Education\n",
      "Sandbox Test Project - VOID/TEST - None\n",
      "The Fundamentals Test Project - VOID/TEST - None\n",
      "VDC Department - None - None\n"
     ]
    }
   ],
   "source": [
    "projects = connection.companies.get_projects(\n",
    "    company_id=8089\n",
    ")\n",
    "# Output\n",
    "for project in projects:\n",
    "    print(f\"{project['name']} - {project['stage_name']} - {project['type_name']}\")"
   ]
  },
  {
   "cell_type": "markdown",
   "metadata": {},
   "source": [
    "This endpoint is useful because it contains fields like `type_name` and `open_items` that are _not_ returned from accessing project data via the projects endpoint."
   ]
  },
  {
   "cell_type": "markdown",
   "metadata": {},
   "source": [
    "---"
   ]
  },
  {
   "cell_type": "markdown",
   "metadata": {},
   "source": [
    "### `companies.list_regions()`\n",
    "Retrieves the regions that your company has defined on Procore from the [List Project Regions](https://developers.procore.com/reference/rest/v1/project-regions?version=1.0#list-project-regions) endpoint.\n",
    "\n",
    "```python\n",
    "\"\"\"\n",
    "Parameters\n",
    "----------\n",
    "company_id : int\n",
    "    The identifier for the company\n",
    "per_page : int, default 100\n",
    "    Number of regions to include per page\n",
    "\n",
    "Returns\n",
    "-------\n",
    "regions : list of dict\n",
    "    List where each value is a dict with the region's details\n",
    "\"\"\"\n",
    "```"
   ]
  },
  {
   "cell_type": "code",
   "execution_count": 11,
   "metadata": {},
   "outputs": [
    {
     "name": "stdout",
     "output_type": "stream",
     "text": [
      "Austin - 72498\n",
      "Dallas - 72499\n",
      "Houston - 72500\n",
      "San Antonio - 72501\n",
      "Waco - 93764\n",
      "[{'id': 72498, 'name': 'Austin'}, {'id': 72499, 'name': 'Dallas'}, {'id': 72500, 'name': 'Houston'}, {'id': 72501, 'name': 'San Antonio'}, {'id': 93764, 'name': 'Waco'}]\n"
     ]
    }
   ],
   "source": [
    "regions = connection.companies.list_regions(company_id=8089)\n",
    "for region in regions:\n",
    "    print(f\"{region['name']} - {region['id']}\")\n",
    "\n",
    "print(regions)"
   ]
  },
  {
   "cell_type": "markdown",
   "metadata": {},
   "source": [
    "---"
   ]
  },
  {
   "cell_type": "markdown",
   "metadata": {},
   "source": [
    "### `companies.list_project_types()`\n",
    "Retrieves the project types that your company has defined on Procore from the [List Project Regions](https://developers.procore.com/reference/rest/v1/project-types?version=1.0#list-project-types) endpoint.\n",
    "\n",
    "```python\n",
    "\"\"\"\n",
    "Parameters\n",
    "----------\n",
    "company_id : int\n",
    "    The identifier for the company\n",
    "per_page : int, default 100\n",
    "    Number of project types to include per page\n",
    "\n",
    "Returns\n",
    "-------\n",
    "project_types : list of dict\n",
    "    List where each value is a dict with the project type's details\n",
    "\"\"\"\n",
    "```"
   ]
  },
  {
   "cell_type": "code",
   "execution_count": 9,
   "metadata": {},
   "outputs": [
    {
     "name": "stdout",
     "output_type": "stream",
     "text": [
      "Advanced Manufacturing - 599478\n",
      "Concrete - Self Performed - 722878\n",
      "Healthcare - 600560\n",
      "Higher Education - 599476\n",
      "Hospitality - 600572\n",
      "Interiors - 600569\n",
      "K-12 Education - 599472\n",
      "Mission Critical - 599475\n",
      "Multifamily - 600562\n",
      "Office - 600576\n",
      "Public - 600573\n",
      "Retail - 600561\n",
      "Senior Living - 599474\n",
      "Worship - 599473\n"
     ]
    }
   ],
   "source": [
    "ptypes = connection.companies.list_project_types(company_id=8089)\n",
    "for ptype in ptypes:\n",
    "    print(f\"{ptype['name']} - {ptype['id']}\")"
   ]
  },
  {
   "cell_type": "markdown",
   "metadata": {},
   "source": [
    "---"
   ]
  },
  {
   "cell_type": "markdown",
   "metadata": {},
   "source": [
    "### `companies.list_project_stages()`\n",
    "Retrieves the project types that your company has defined on Procore from the [List Project Stages](https://developers.procore.com/reference/rest/v1/project-stages?version=1.0#list-project-stages) endpoint.\n",
    "\n",
    "```python\n",
    "\"\"\"\n",
    "Parameters\n",
    "----------\n",
    "company_id : int\n",
    "    The identifier for the company\n",
    "per_page : int, default 100\n",
    "    Number of project types to include per page\n",
    "\n",
    "Returns\n",
    "-------\n",
    "stages : list of dict\n",
    "    List where each value is a dict with the project type's details\n",
    "\"\"\"\n",
    "```"
   ]
  },
  {
   "cell_type": "code",
   "execution_count": 10,
   "metadata": {},
   "outputs": [
    {
     "name": "stdout",
     "output_type": "stream",
     "text": [
      "Bidding - 1 - None\n",
      "Pre-Construction - 2 - None\n",
      "Course of Construction - 3 - None\n",
      "Post-Construction - 5 - None\n",
      "Cancelled/Not Won - 138491 - None\n",
      "VOID/TEST - 139797 - None\n"
     ]
    }
   ],
   "source": [
    "stages = connection.companies.list_project_stages(company_id=8089)\n",
    "for stage in stages:\n",
    "    print(f\"{stage['name']} - {stage['id']} - {stage['category']}\")"
   ]
  },
  {
   "cell_type": "markdown",
   "metadata": {},
   "source": [
    "---"
   ]
  }
 ],
 "metadata": {
  "kernelspec": {
   "display_name": ".venv",
   "language": "python",
   "name": "python3"
  },
  "language_info": {
   "codemirror_mode": {
    "name": "ipython",
    "version": 3
   },
   "file_extension": ".py",
   "mimetype": "text/x-python",
   "name": "python",
   "nbconvert_exporter": "python",
   "pygments_lexer": "ipython3",
   "version": "3.13.3"
  }
 },
 "nbformat": 4,
 "nbformat_minor": 2
}
