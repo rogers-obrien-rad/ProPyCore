{
 "cells": [
  {
   "cell_type": "markdown",
   "metadata": {},
   "source": [
    "# ProPyCore SDK Examples: Projects\n",
    "\n",
    "This notebook contains snippets from the `projects.py` module."
   ]
  },
  {
   "cell_type": "code",
   "execution_count": 1,
   "metadata": {},
   "outputs": [],
   "source": [
    "import os\n",
    "import dotenv\n",
    "import json\n",
    "\n",
    "import ProPyCore"
   ]
  },
  {
   "cell_type": "markdown",
   "metadata": {},
   "source": [
    "## Setup\n",
    "You will need to create the connection to your Procore app and then get the details for your company and project.\n",
    "\n",
    "### Connection to Procore App\n",
    "Ensure you have a `.env` file with the following information included:\n",
    "* `CLIENT_ID`: your data connection app's client ID\n",
    "* `CLIENT_SECRET`: your data connection app's client secret"
   ]
  },
  {
   "cell_type": "code",
   "execution_count": 2,
   "metadata": {},
   "outputs": [],
   "source": [
    "dotenv.load_dotenv()\n",
    "connection = ProPyCore.procore.Procore(\n",
    "    client_id=os.getenv(\"CLIENT_ID\"),\n",
    "    client_secret=os.getenv(\"CLIENT_SECRET\"),\n",
    "    redirect_uri=\"urn:ietf:wg:oauth:2.0:oob\", # default for data connection apps\n",
    "    oauth_url=\"https://app.procore.com\", # default for data connection apps\n",
    "    base_url=\"https://app.procore.com\" # default for data connection apps\n",
    ")"
   ]
  },
  {
   "cell_type": "markdown",
   "metadata": {},
   "source": [
    "### Company Details\n",
    "Use the cell below to specify your company name"
   ]
  },
  {
   "cell_type": "code",
   "execution_count": 3,
   "metadata": {},
   "outputs": [],
   "source": [
    "company_name = \"Rogers-O`Brien Construction\""
   ]
  },
  {
   "cell_type": "markdown",
   "metadata": {},
   "source": [
    "Now get the company details"
   ]
  },
  {
   "cell_type": "code",
   "execution_count": 4,
   "metadata": {},
   "outputs": [],
   "source": [
    "company = connection.companies.find(identifier=company_name)"
   ]
  },
  {
   "cell_type": "markdown",
   "metadata": {},
   "source": [
    "---"
   ]
  },
  {
   "cell_type": "markdown",
   "metadata": {},
   "source": [
    "### `cost_codes.get()`\n",
    "Gets a list of all the cost codes from a certain project\n",
    "\n",
    "```python\n",
    "\"\"\"\n",
    "Parameters\n",
    "----------\n",
    "company_id : int\n",
    "    unique identifier for the company\n",
    "project_id : int\n",
    "    unique identifier for the project\n",
    "per_page : int, default 100\n",
    "    number of companies to include\n",
    "\n",
    "Returns\n",
    "-------\n",
    "codes : list of dict\n",
    "    list where each value is a dict with the codes's id and data\n",
    "\"\"\"\n",
    "```"
   ]
  },
  {
   "cell_type": "markdown",
   "metadata": {},
   "source": [
    "Now use the ProPyCore `connection` variable to get the company and project to list the cost codes."
   ]
  },
  {
   "cell_type": "code",
   "execution_count": 5,
   "metadata": {},
   "outputs": [
    {
     "name": "stdout",
     "output_type": "stream",
     "text": [
      "Sandbox Test Project (2783683): 183 cost codes\n"
     ]
    }
   ],
   "source": [
    "company = connection.companies.find(identifier=company_name)\n",
    "projects = connection.projects.get(\n",
    "    company_id=company[\"id\"]\n",
    ")\n",
    "for project in projects:\n",
    "    if project[\"name\"] == \"Sandbox Test Project\":\n",
    "        cost_codes = connection.cost_codes.get(\n",
    "            company_id=company[\"id\"],\n",
    "            project_id=project[\"id\"],\n",
    "        )\n",
    "        print(f\"{project['name']} ({project['id']}): {len(cost_codes)} cost codes\")"
   ]
  },
  {
   "cell_type": "code",
   "execution_count": 6,
   "metadata": {},
   "outputs": [
    {
     "data": {
      "text/plain": [
       "{'id': 971232362,\n",
       " 'name': 'General Conditions',\n",
       " 'full_code': '00',\n",
       " 'origin_id': None,\n",
       " 'origin_data': None,\n",
       " 'standard_cost_code_id': 11793951,\n",
       " 'biller': 'Sandbox Test Project',\n",
       " 'biller_id': 2783683,\n",
       " 'biller_type': 'Project',\n",
       " 'biller_origin_id': None,\n",
       " 'budgeted': False,\n",
       " 'code': '00',\n",
       " 'parent': {'id': None},\n",
       " 'sortable_code': '00',\n",
       " 'created_at': '2024-07-02T16:08:14Z',\n",
       " 'deleted_at': None,\n",
       " 'line_item_types': [],\n",
       " 'position': None,\n",
       " 'updated_at': '2024-07-02T16:08:14Z'}"
      ]
     },
     "execution_count": 6,
     "metadata": {},
     "output_type": "execute_result"
    }
   ],
   "source": [
    "cost_codes[0]"
   ]
  },
  {
   "cell_type": "markdown",
   "metadata": {},
   "source": [
    "You can see which fields are available by viewing the API documentation on this [endpoint]"
   ]
  },
  {
   "cell_type": "markdown",
   "metadata": {},
   "source": [
    "---"
   ]
  },
  {
   "cell_type": "markdown",
   "metadata": {},
   "source": [
    "### `cost_codes.show()`\n",
    "Shows detilas regarding a specified cost code and returns data\n",
    "\n",
    "```python\n",
    "\"\"\"\n",
    "Shows the cost code info\n",
    "\n",
    "Parameters\n",
    "----------\n",
    "company_id : int\n",
    "    unique identifier for the company\n",
    "project_id : int\n",
    "    unique identifier for the project\n",
    "cost_code_id : int\n",
    "    unique identifier for the cost code\n",
    "\n",
    "Returns\n",
    "-------\n",
    "cost_code_info : dict\n",
    "    specific cost code information\n",
    "\"\"\"\n",
    "```"
   ]
  },
  {
   "cell_type": "code",
   "execution_count": 8,
   "metadata": {},
   "outputs": [
    {
     "name": "stdout",
     "output_type": "stream",
     "text": [
      "{\n",
      "    \"id\": 971232362,\n",
      "    \"name\": \"General Conditions\",\n",
      "    \"full_code\": \"00\",\n",
      "    \"origin_id\": null,\n",
      "    \"origin_data\": null,\n",
      "    \"standard_cost_code_id\": 11793951,\n",
      "    \"biller\": \"Sandbox Test Project\",\n",
      "    \"biller_id\": 2783683,\n",
      "    \"biller_type\": \"Project\",\n",
      "    \"biller_origin_id\": null,\n",
      "    \"budgeted\": false,\n",
      "    \"code\": \"00\",\n",
      "    \"parent\": {\n",
      "        \"id\": null\n",
      "    },\n",
      "    \"sortable_code\": \"00\",\n",
      "    \"created_at\": \"2024-07-02T16:08:14Z\",\n",
      "    \"deleted_at\": null,\n",
      "    \"line_item_types\": [],\n",
      "    \"position\": null,\n",
      "    \"updated_at\": \"2024-07-02T16:08:14Z\",\n",
      "    \"standard_cost_code_list_id\": 184747\n",
      "}\n"
     ]
    }
   ],
   "source": [
    "# Find the company by name\n",
    "company = connection.companies.find(identifier=company_name)\n",
    "\n",
    "# Retrieve all projects for the company\n",
    "projects = connection.projects.get(\n",
    "    company_id=company[\"id\"]\n",
    ")\n",
    "\n",
    "project = next((p for p in projects if p[\"name\"] == \"Sandbox Test Project\"), None)\n",
    "\n",
    "try:\n",
    "    # Example of finding a cost code by id\n",
    "    cost_code = connection.cost_codes.show(\n",
    "        company_id=company[\"id\"],\n",
    "        project_id=project[\"id\"],\n",
    "        cost_code_id=971232362 \n",
    "    )\n",
    "    print(json.dumps(cost_code, indent=4))\n",
    "except ProPyCore.NotFoundItemError:\n",
    "    print(f\"Cost code not found in project {project['name']}\")"
   ]
  },
  {
   "cell_type": "markdown",
   "metadata": {},
   "source": [
    "### `cost_codes.find()`\n",
    "Finds specified cost code and returns data\n",
    "\n",
    "```python\n",
    "\"\"\"\n",
    "Finds specified cost code and returns data\n",
    "\n",
    "Parameters\n",
    "----------\n",
    "company_id : int\n",
    "    unique identifier for the company\n",
    "project_id : int\n",
    "    unique identifier for the project\n",
    "cost_code_id : int\n",
    "    identifier for cost code\n",
    "\n",
    "Returns\n",
    "-------\n",
    "cost_code_info : dict\n",
    "    cost code data\n",
    "\"\"\"\n",
    "```"
   ]
  },
  {
   "cell_type": "markdown",
   "metadata": {},
   "source": [
    "By cost code ID (integer)"
   ]
  },
  {
   "cell_type": "code",
   "execution_count": 10,
   "metadata": {},
   "outputs": [
    {
     "name": "stdout",
     "output_type": "stream",
     "text": [
      "Found Cost Code: General Conditions in Project: Sandbox Test Project\n",
      "Found Cost Code: Project Manager in Project: Sandbox Test Project\n"
     ]
    }
   ],
   "source": [
    "# Find the company by name\n",
    "company = connection.companies.find(identifier=company_name)\n",
    "\n",
    "# Retrieve all projects for the company\n",
    "projects = connection.projects.get(\n",
    "    company_id=company[\"id\"]\n",
    ")\n",
    "\n",
    "project = next((p for p in projects if p[\"name\"] == \"Sandbox Test Project\"), None)\n",
    "\n",
    "# Get all cost codes for the project\n",
    "cost_codes = connection.cost_codes.get(\n",
    "    company_id=company[\"id\"],\n",
    "    project_id=project[\"id\"],\n",
    ")\n",
    "\n",
    "# Example: Find a specific cost code by id\n",
    "try:\n",
    "    # Example of finding a cost code by id\n",
    "    cost_code = connection.cost_codes.find(\n",
    "        company_id=company[\"id\"],\n",
    "        project_id=project[\"id\"],\n",
    "        identifier=971232362 \n",
    "    )\n",
    "    print(f\"Found Cost Code: {cost_code['name']} in Project: {project['name']}\")\n",
    "except ProPyCore.NotFoundItemError:\n",
    "    print(f\"Cost code not found in project {project['name']}\")\n",
    "\n",
    "# Example: Find a specific cost code by name\n",
    "try:\n",
    "    # Example of finding a cost code by id\n",
    "    cost_code = connection.cost_codes.find(\n",
    "        company_id=company[\"id\"],\n",
    "        project_id=project[\"id\"],\n",
    "        identifier=\"Project Manager\" \n",
    "    )\n",
    "    print(f\"Found Cost Code: {cost_code['name']} in Project: {project['name']}\")\n",
    "except ProPyCore.NotFoundItemError:\n",
    "    print(f\"Cost code not found in project {project['name']}\")"
   ]
  },
  {
   "cell_type": "markdown",
   "metadata": {},
   "source": [
    "By cost code name (str)"
   ]
  },
  {
   "cell_type": "code",
   "execution_count": 12,
   "metadata": {},
   "outputs": [
    {
     "ename": "NotFoundClientError",
     "evalue": "\"404: Client ID doesn't exist\"",
     "output_type": "error",
     "traceback": [
      "\u001b[1;31m---------------------------------------------------------------------------\u001b[0m",
      "\u001b[1;31mNotFoundClientError\u001b[0m                       Traceback (most recent call last)",
      "Cell \u001b[1;32mIn[12], line 19\u001b[0m\n\u001b[0;32m     16\u001b[0m \u001b[38;5;66;03m# Example: Find a specific cost code by id\u001b[39;00m\n\u001b[0;32m     17\u001b[0m \u001b[38;5;28;01mtry\u001b[39;00m:\n\u001b[0;32m     18\u001b[0m     \u001b[38;5;66;03m# Example of finding a cost code by id\u001b[39;00m\n\u001b[1;32m---> 19\u001b[0m     cost_code \u001b[38;5;241m=\u001b[39m \u001b[43mconnection\u001b[49m\u001b[38;5;241;43m.\u001b[39;49m\u001b[43mcost_codes\u001b[49m\u001b[38;5;241;43m.\u001b[39;49m\u001b[43mfind\u001b[49m\u001b[43m(\u001b[49m\n\u001b[0;32m     20\u001b[0m \u001b[43m        \u001b[49m\u001b[43mcompany_id\u001b[49m\u001b[38;5;241;43m=\u001b[39;49m\u001b[43mcompany\u001b[49m\u001b[43m[\u001b[49m\u001b[38;5;124;43m\"\u001b[39;49m\u001b[38;5;124;43mid\u001b[39;49m\u001b[38;5;124;43m\"\u001b[39;49m\u001b[43m]\u001b[49m\u001b[43m,\u001b[49m\n\u001b[0;32m     21\u001b[0m \u001b[43m        \u001b[49m\u001b[43mproject_id\u001b[49m\u001b[38;5;241;43m=\u001b[39;49m\u001b[43mproject\u001b[49m\u001b[43m[\u001b[49m\u001b[38;5;124;43m\"\u001b[39;49m\u001b[38;5;124;43mid\u001b[39;49m\u001b[38;5;124;43m\"\u001b[39;49m\u001b[43m]\u001b[49m\u001b[43m,\u001b[49m\n\u001b[0;32m     22\u001b[0m \u001b[43m        \u001b[49m\u001b[43midentifier\u001b[49m\u001b[38;5;241;43m=\u001b[39;49m\u001b[38;5;124;43m\"\u001b[39;49m\u001b[38;5;124;43mGeneral Conditions\u001b[39;49m\u001b[38;5;124;43m\"\u001b[39;49m\u001b[43m \u001b[49m\n\u001b[0;32m     23\u001b[0m \u001b[43m    \u001b[49m\u001b[43m)\u001b[49m\n\u001b[0;32m     24\u001b[0m     \u001b[38;5;28mprint\u001b[39m(\u001b[38;5;124mf\u001b[39m\u001b[38;5;124m\"\u001b[39m\u001b[38;5;124mFound Cost Code: \u001b[39m\u001b[38;5;132;01m{\u001b[39;00mcost_code[\u001b[38;5;124m'\u001b[39m\u001b[38;5;124mname\u001b[39m\u001b[38;5;124m'\u001b[39m]\u001b[38;5;132;01m}\u001b[39;00m\u001b[38;5;124m in Project: \u001b[39m\u001b[38;5;132;01m{\u001b[39;00mproject[\u001b[38;5;124m'\u001b[39m\u001b[38;5;124mname\u001b[39m\u001b[38;5;124m'\u001b[39m]\u001b[38;5;132;01m}\u001b[39;00m\u001b[38;5;124m\"\u001b[39m)\n\u001b[0;32m     25\u001b[0m \u001b[38;5;28;01mexcept\u001b[39;00m ProPyCore\u001b[38;5;241m.\u001b[39mNotFoundItemError:\n",
      "File \u001b[1;32mc:\\users\\hfritz\\onedrive - ro\\documents\\packages\\propycore\\ProPyCore\\access\\cost_codes.py:119\u001b[0m, in \u001b[0;36mCostCodes.find\u001b[1;34m(self, company_id, project_id, identifier)\u001b[0m\n\u001b[0;32m    117\u001b[0m \u001b[38;5;28;01mfor\u001b[39;00m cost_code \u001b[38;5;129;01min\u001b[39;00m \u001b[38;5;28mself\u001b[39m\u001b[38;5;241m.\u001b[39mget(company_id\u001b[38;5;241m=\u001b[39mcompany_id, project_id\u001b[38;5;241m=\u001b[39mproject_id):\n\u001b[0;32m    118\u001b[0m     \u001b[38;5;28;01mif\u001b[39;00m cost_code[key] \u001b[38;5;241m==\u001b[39m identifier:\n\u001b[1;32m--> 119\u001b[0m         cost_code_info \u001b[38;5;241m=\u001b[39m \u001b[38;5;28;43mself\u001b[39;49m\u001b[38;5;241;43m.\u001b[39;49m\u001b[43mshow\u001b[49m\u001b[43m(\u001b[49m\n\u001b[0;32m    120\u001b[0m \u001b[43m            \u001b[49m\u001b[43mcompany_id\u001b[49m\u001b[38;5;241;43m=\u001b[39;49m\u001b[43mcompany_id\u001b[49m\u001b[43m,\u001b[49m\n\u001b[0;32m    121\u001b[0m \u001b[43m            \u001b[49m\u001b[43mproject_id\u001b[49m\u001b[38;5;241;43m=\u001b[39;49m\u001b[43mproject_id\u001b[49m\u001b[43m,\u001b[49m\n\u001b[0;32m    122\u001b[0m \u001b[43m            \u001b[49m\u001b[43mcost_code_id\u001b[49m\u001b[38;5;241;43m=\u001b[39;49m\u001b[43mcost_code\u001b[49m\u001b[43m[\u001b[49m\u001b[38;5;124;43m\"\u001b[39;49m\u001b[38;5;124;43mid\u001b[39;49m\u001b[38;5;124;43m\"\u001b[39;49m\u001b[43m]\u001b[49m\n\u001b[0;32m    123\u001b[0m \u001b[43m        \u001b[49m\u001b[43m)\u001b[49m\n\u001b[0;32m    124\u001b[0m         \u001b[38;5;28;01mreturn\u001b[39;00m cost_code_info\n\u001b[0;32m    126\u001b[0m \u001b[38;5;28;01mraise\u001b[39;00m NotFoundItemError(\u001b[38;5;124mf\u001b[39m\u001b[38;5;124m\"\u001b[39m\u001b[38;5;124mCould not find Cost Code \u001b[39m\u001b[38;5;132;01m{\u001b[39;00midentifier\u001b[38;5;132;01m}\u001b[39;00m\u001b[38;5;124m\"\u001b[39m)\n",
      "File \u001b[1;32mc:\\users\\hfritz\\onedrive - ro\\documents\\packages\\propycore\\ProPyCore\\access\\cost_codes.py:86\u001b[0m, in \u001b[0;36mCostCodes.show\u001b[1;34m(self, company_id, project_id, cost_code_id)\u001b[0m\n\u001b[0;32m     78\u001b[0m headers \u001b[38;5;241m=\u001b[39m {\n\u001b[0;32m     79\u001b[0m     \u001b[38;5;124m\"\u001b[39m\u001b[38;5;124mProcore-Company-Id\u001b[39m\u001b[38;5;124m\"\u001b[39m: \u001b[38;5;124mf\u001b[39m\u001b[38;5;124m\"\u001b[39m\u001b[38;5;132;01m{\u001b[39;00mcompany_id\u001b[38;5;132;01m}\u001b[39;00m\u001b[38;5;124m\"\u001b[39m\n\u001b[0;32m     80\u001b[0m }\n\u001b[0;32m     82\u001b[0m params \u001b[38;5;241m=\u001b[39m {\n\u001b[0;32m     83\u001b[0m     \u001b[38;5;124m\"\u001b[39m\u001b[38;5;124mproject_id\u001b[39m\u001b[38;5;124m\"\u001b[39m: project_id\n\u001b[0;32m     84\u001b[0m }\n\u001b[1;32m---> 86\u001b[0m cost_code_info \u001b[38;5;241m=\u001b[39m \u001b[38;5;28;43mself\u001b[39;49m\u001b[38;5;241;43m.\u001b[39;49m\u001b[43mget_request\u001b[49m\u001b[43m(\u001b[49m\n\u001b[0;32m     87\u001b[0m \u001b[43m    \u001b[49m\u001b[43mapi_url\u001b[49m\u001b[38;5;241;43m=\u001b[39;49m\u001b[38;5;124;43mf\u001b[39;49m\u001b[38;5;124;43m\"\u001b[39;49m\u001b[38;5;132;43;01m{\u001b[39;49;00m\u001b[38;5;28;43mself\u001b[39;49m\u001b[38;5;241;43m.\u001b[39;49m\u001b[43mendpoint\u001b[49m\u001b[38;5;132;43;01m}\u001b[39;49;00m\u001b[38;5;124;43m/cost_codes/\u001b[39;49m\u001b[38;5;132;43;01m{\u001b[39;49;00m\u001b[43mcost_code_id\u001b[49m\u001b[38;5;132;43;01m}\u001b[39;49;00m\u001b[38;5;124;43m\"\u001b[39;49m\u001b[43m,\u001b[49m\n\u001b[0;32m     88\u001b[0m \u001b[43m    \u001b[49m\u001b[43madditional_headers\u001b[49m\u001b[38;5;241;43m=\u001b[39;49m\u001b[43mheaders\u001b[49m\u001b[43m,\u001b[49m\n\u001b[0;32m     89\u001b[0m \u001b[43m    \u001b[49m\u001b[43mparams\u001b[49m\u001b[38;5;241;43m=\u001b[39;49m\u001b[43mparams\u001b[49m\n\u001b[0;32m     90\u001b[0m \u001b[43m\u001b[49m\u001b[43m)\u001b[49m\n\u001b[0;32m     92\u001b[0m \u001b[38;5;28;01mreturn\u001b[39;00m cost_code_info\n",
      "File \u001b[1;32mc:\\users\\hfritz\\onedrive - ro\\documents\\packages\\propycore\\ProPyCore\\access\\base.py:58\u001b[0m, in \u001b[0;36mBase.get_request\u001b[1;34m(self, api_url, additional_headers, params)\u001b[0m\n\u001b[0;32m     56\u001b[0m     \u001b[38;5;28;01mreturn\u001b[39;00m response\u001b[38;5;241m.\u001b[39mjson()\n\u001b[0;32m     57\u001b[0m \u001b[38;5;28;01melse\u001b[39;00m:\n\u001b[1;32m---> 58\u001b[0m     \u001b[43mraise_exception\u001b[49m\u001b[43m(\u001b[49m\u001b[43mresponse\u001b[49m\u001b[43m)\u001b[49m\n",
      "File \u001b[1;32mc:\\users\\hfritz\\onedrive - ro\\documents\\packages\\propycore\\ProPyCore\\exceptions.py:77\u001b[0m, in \u001b[0;36mraise_exception\u001b[1;34m(response)\u001b[0m\n\u001b[0;32m     74\u001b[0m     \u001b[38;5;28;01mraise\u001b[39;00m NoPrivilegeError(\u001b[38;5;124mf\u001b[39m\u001b[38;5;124m\"\u001b[39m\u001b[38;5;124m403: Data connection app or permission template does not have access to this endpoint\u001b[39m\u001b[38;5;124m\"\u001b[39m, response\u001b[38;5;241m.\u001b[39mtext)\n\u001b[0;32m     76\u001b[0m \u001b[38;5;28;01melif\u001b[39;00m response\u001b[38;5;241m.\u001b[39mstatus_code \u001b[38;5;241m==\u001b[39m \u001b[38;5;241m404\u001b[39m:\n\u001b[1;32m---> 77\u001b[0m     \u001b[38;5;28;01mraise\u001b[39;00m NotFoundClientError(\u001b[38;5;124m'\u001b[39m\u001b[38;5;124m404: Client ID doesn\u001b[39m\u001b[38;5;130;01m\\'\u001b[39;00m\u001b[38;5;124mt exist\u001b[39m\u001b[38;5;124m'\u001b[39m, response\u001b[38;5;241m.\u001b[39mtext)\n\u001b[0;32m     79\u001b[0m \u001b[38;5;28;01melif\u001b[39;00m response\u001b[38;5;241m.\u001b[39mstatus_code \u001b[38;5;241m==\u001b[39m \u001b[38;5;241m422\u001b[39m:\n\u001b[0;32m     80\u001b[0m     \u001b[38;5;28;01mraise\u001b[39;00m UnprocessableContentError(\u001b[38;5;124m'\u001b[39m\u001b[38;5;124m422: A field that needs a unique value already exists\u001b[39m\u001b[38;5;124m'\u001b[39m, response\u001b[38;5;241m.\u001b[39mtext)\n",
      "\u001b[1;31mNotFoundClientError\u001b[0m: \"404: Client ID doesn't exist\""
     ]
    }
   ],
   "source": [
    "# Find the company by name\n",
    "company = connection.companies.find(identifier=company_name)\n",
    "\n",
    "# Retrieve all projects for the company\n",
    "projects = connection.projects.get(\n",
    "    company_id=company[\"id\"]\n",
    ")\n",
    "project = projects[0]\n",
    "\n",
    "# Get all cost codes for the project\n",
    "cost_codes = connection.cost_codes.get(\n",
    "    company_id=company[\"id\"],\n",
    "    project_id=project[\"id\"],\n",
    ")\n",
    "\n",
    "# Example: Find a specific cost code by id\n",
    "try:\n",
    "    # Example of finding a cost code by id\n",
    "    cost_code = connection.cost_codes.find(\n",
    "        company_id=company[\"id\"],\n",
    "        project_id=project[\"id\"],\n",
    "        identifier=\"General Conditions\" \n",
    "    )\n",
    "    print(f\"Found Cost Code: {cost_code['name']} in Project: {project['name']}\")\n",
    "except ProPyCore.NotFoundItemError:\n",
    "    print(f\"Cost code not found in project {project['name']}\")"
   ]
  },
  {
   "cell_type": "markdown",
   "metadata": {},
   "source": [
    "---"
   ]
  },
  {
   "cell_type": "markdown",
   "metadata": {},
   "source": [
    "### `cost_codes.show()`\n",
    "Shows the cost code info\n",
    "\n",
    "```python\n",
    "\"\"\"\n",
    "Parameters\n",
    "----------\n",
    "company_id : int\n",
    "    unique identifier for the company\n",
    "project_id : int\n",
    "    unique identifier for the project\n",
    "cost_code_id : int\n",
    "    unique identifier for the cost code\n",
    "\n",
    "Returns\n",
    "-------\n",
    "cost_code_info : dict\n",
    "    specific cost code information\n",
    "\"\"\"\n",
    "```"
   ]
  },
  {
   "cell_type": "code",
   "execution_count": 11,
   "metadata": {},
   "outputs": [
    {
     "ename": "NotFoundClientError",
     "evalue": "\"404: Client ID doesn't exist\"",
     "output_type": "error",
     "traceback": [
      "\u001b[1;31m---------------------------------------------------------------------------\u001b[0m",
      "\u001b[1;31mNotFoundClientError\u001b[0m                       Traceback (most recent call last)",
      "Cell \u001b[1;32mIn[11], line 13\u001b[0m\n\u001b[0;32m     11\u001b[0m \u001b[38;5;66;03m# Show detailed info for the specific cost code in the project\u001b[39;00m\n\u001b[0;32m     12\u001b[0m \u001b[38;5;28;01mtry\u001b[39;00m:\n\u001b[1;32m---> 13\u001b[0m     cost_code_details \u001b[38;5;241m=\u001b[39m \u001b[43mconnection\u001b[49m\u001b[38;5;241;43m.\u001b[39;49m\u001b[43mcost_codes\u001b[49m\u001b[38;5;241;43m.\u001b[39;49m\u001b[43mshow\u001b[49m\u001b[43m(\u001b[49m\n\u001b[0;32m     14\u001b[0m \u001b[43m        \u001b[49m\u001b[43mcompany_id\u001b[49m\u001b[38;5;241;43m=\u001b[39;49m\u001b[43mcompany\u001b[49m\u001b[43m[\u001b[49m\u001b[38;5;124;43m\"\u001b[39;49m\u001b[38;5;124;43mid\u001b[39;49m\u001b[38;5;124;43m\"\u001b[39;49m\u001b[43m]\u001b[49m\u001b[43m,\u001b[49m\n\u001b[0;32m     15\u001b[0m \u001b[43m        \u001b[49m\u001b[43mproject_id\u001b[49m\u001b[38;5;241;43m=\u001b[39;49m\u001b[43mproject\u001b[49m\u001b[43m[\u001b[49m\u001b[38;5;124;43m\"\u001b[39;49m\u001b[38;5;124;43mid\u001b[39;49m\u001b[38;5;124;43m\"\u001b[39;49m\u001b[43m]\u001b[49m\u001b[43m,\u001b[49m\n\u001b[0;32m     16\u001b[0m \u001b[43m        \u001b[49m\u001b[43mcost_code_id\u001b[49m\u001b[38;5;241;43m=\u001b[39;49m\u001b[38;5;241;43m873042425\u001b[39;49m\n\u001b[0;32m     17\u001b[0m \u001b[43m    \u001b[49m\u001b[43m)\u001b[49m\n\u001b[0;32m     18\u001b[0m     \u001b[38;5;28mprint\u001b[39m(\u001b[38;5;124mf\u001b[39m\u001b[38;5;124m\"\u001b[39m\u001b[38;5;124mDetails for Cost Code ID \u001b[39m\u001b[38;5;132;01m{\u001b[39;00mcost_code_id\u001b[38;5;132;01m}\u001b[39;00m\u001b[38;5;124m in Project \u001b[39m\u001b[38;5;132;01m{\u001b[39;00mproject[\u001b[38;5;124m'\u001b[39m\u001b[38;5;124mname\u001b[39m\u001b[38;5;124m'\u001b[39m]\u001b[38;5;132;01m}\u001b[39;00m\u001b[38;5;124m: \u001b[39m\u001b[38;5;132;01m{\u001b[39;00mcost_code_details\u001b[38;5;132;01m}\u001b[39;00m\u001b[38;5;124m\"\u001b[39m)\n\u001b[0;32m     19\u001b[0m \u001b[38;5;28;01mexcept\u001b[39;00m ProPyCore\u001b[38;5;241m.\u001b[39mNotFoundItemError:\n",
      "File \u001b[1;32mc:\\Users\\hfritz\\OneDrive - RO\\Documents\\packages\\ProPyCore\\snippets\\.venv_doc\\Lib\\site-packages\\ProPyCore\\access\\cost_codes.py:86\u001b[0m, in \u001b[0;36mCostCodes.show\u001b[1;34m(self, company_id, project_id, cost_code_id)\u001b[0m\n\u001b[0;32m     78\u001b[0m headers \u001b[38;5;241m=\u001b[39m {\n\u001b[0;32m     79\u001b[0m     \u001b[38;5;124m\"\u001b[39m\u001b[38;5;124mProcore-Company-Id\u001b[39m\u001b[38;5;124m\"\u001b[39m: \u001b[38;5;124mf\u001b[39m\u001b[38;5;124m\"\u001b[39m\u001b[38;5;132;01m{\u001b[39;00mcompany_id\u001b[38;5;132;01m}\u001b[39;00m\u001b[38;5;124m\"\u001b[39m\n\u001b[0;32m     80\u001b[0m }\n\u001b[0;32m     82\u001b[0m params \u001b[38;5;241m=\u001b[39m {\n\u001b[0;32m     83\u001b[0m     \u001b[38;5;124m\"\u001b[39m\u001b[38;5;124mproject_id\u001b[39m\u001b[38;5;124m\"\u001b[39m: project_id\n\u001b[0;32m     84\u001b[0m }\n\u001b[1;32m---> 86\u001b[0m cost_code_info \u001b[38;5;241m=\u001b[39m \u001b[38;5;28;43mself\u001b[39;49m\u001b[38;5;241;43m.\u001b[39;49m\u001b[43mget_request\u001b[49m\u001b[43m(\u001b[49m\n\u001b[0;32m     87\u001b[0m \u001b[43m    \u001b[49m\u001b[43mapi_url\u001b[49m\u001b[38;5;241;43m=\u001b[39;49m\u001b[38;5;124;43mf\u001b[39;49m\u001b[38;5;124;43m\"\u001b[39;49m\u001b[38;5;132;43;01m{\u001b[39;49;00m\u001b[38;5;28;43mself\u001b[39;49m\u001b[38;5;241;43m.\u001b[39;49m\u001b[43mendpoint\u001b[49m\u001b[38;5;132;43;01m}\u001b[39;49;00m\u001b[38;5;124;43m/cost_codes/\u001b[39;49m\u001b[38;5;132;43;01m{\u001b[39;49;00m\u001b[43mcost_code_id\u001b[49m\u001b[38;5;132;43;01m}\u001b[39;49;00m\u001b[38;5;124;43m\"\u001b[39;49m\u001b[43m,\u001b[49m\n\u001b[0;32m     88\u001b[0m \u001b[43m    \u001b[49m\u001b[43madditional_headers\u001b[49m\u001b[38;5;241;43m=\u001b[39;49m\u001b[43mheaders\u001b[49m\u001b[43m,\u001b[49m\n\u001b[0;32m     89\u001b[0m \u001b[43m    \u001b[49m\u001b[43mparams\u001b[49m\u001b[38;5;241;43m=\u001b[39;49m\u001b[43mparams\u001b[49m\n\u001b[0;32m     90\u001b[0m \u001b[43m\u001b[49m\u001b[43m)\u001b[49m\n\u001b[0;32m     92\u001b[0m \u001b[38;5;28;01mreturn\u001b[39;00m cost_code_info\n",
      "File \u001b[1;32mc:\\Users\\hfritz\\OneDrive - RO\\Documents\\packages\\ProPyCore\\snippets\\.venv_doc\\Lib\\site-packages\\ProPyCore\\access\\base.py:58\u001b[0m, in \u001b[0;36mBase.get_request\u001b[1;34m(self, api_url, additional_headers, params)\u001b[0m\n\u001b[0;32m     56\u001b[0m     \u001b[38;5;28;01mreturn\u001b[39;00m response\u001b[38;5;241m.\u001b[39mjson()\n\u001b[0;32m     57\u001b[0m \u001b[38;5;28;01melse\u001b[39;00m:\n\u001b[1;32m---> 58\u001b[0m     \u001b[43mraise_exception\u001b[49m\u001b[43m(\u001b[49m\u001b[43mresponse\u001b[49m\u001b[43m)\u001b[49m\n",
      "File \u001b[1;32mc:\\Users\\hfritz\\OneDrive - RO\\Documents\\packages\\ProPyCore\\snippets\\.venv_doc\\Lib\\site-packages\\ProPyCore\\exceptions.py:77\u001b[0m, in \u001b[0;36mraise_exception\u001b[1;34m(response)\u001b[0m\n\u001b[0;32m     74\u001b[0m     \u001b[38;5;28;01mraise\u001b[39;00m NoPrivilegeError(\u001b[38;5;124mf\u001b[39m\u001b[38;5;124m\"\u001b[39m\u001b[38;5;124m403: Data connection app or permission template does not have access to this endpoint\u001b[39m\u001b[38;5;124m\"\u001b[39m, response\u001b[38;5;241m.\u001b[39mtext)\n\u001b[0;32m     76\u001b[0m \u001b[38;5;28;01melif\u001b[39;00m response\u001b[38;5;241m.\u001b[39mstatus_code \u001b[38;5;241m==\u001b[39m \u001b[38;5;241m404\u001b[39m:\n\u001b[1;32m---> 77\u001b[0m     \u001b[38;5;28;01mraise\u001b[39;00m NotFoundClientError(\u001b[38;5;124m'\u001b[39m\u001b[38;5;124m404: Client ID doesn\u001b[39m\u001b[38;5;130;01m\\'\u001b[39;00m\u001b[38;5;124mt exist\u001b[39m\u001b[38;5;124m'\u001b[39m, response\u001b[38;5;241m.\u001b[39mtext)\n\u001b[0;32m     79\u001b[0m \u001b[38;5;28;01melif\u001b[39;00m response\u001b[38;5;241m.\u001b[39mstatus_code \u001b[38;5;241m==\u001b[39m \u001b[38;5;241m422\u001b[39m:\n\u001b[0;32m     80\u001b[0m     \u001b[38;5;28;01mraise\u001b[39;00m UnprocessableContentError(\u001b[38;5;124m'\u001b[39m\u001b[38;5;124m422: A field that needs a unique value already exists\u001b[39m\u001b[38;5;124m'\u001b[39m, response\u001b[38;5;241m.\u001b[39mtext)\n",
      "\u001b[1;31mNotFoundClientError\u001b[0m: \"404: Client ID doesn't exist\""
     ]
    }
   ],
   "source": [
    "# Find the company by name\n",
    "company = connection.companies.find(identifier=company_name)\n",
    "\n",
    "# Retrieve a single project for the company (e.g., the first project in the list)\n",
    "projects = connection.projects.get(company_id=company[\"id\"])\n",
    "project = projects[0]  # Assuming you want the first project; adjust as necessary\n",
    "\n",
    "# Specify the cost code ID you want to show details for\n",
    "cost_code_id = 123  # Replace with actual cost code ID\n",
    "\n",
    "# Show detailed info for the specific cost code in the project\n",
    "try:\n",
    "    cost_code_details = connection.cost_codes.show(\n",
    "        company_id=company[\"id\"],\n",
    "        project_id=project[\"id\"],\n",
    "        cost_code_id=873042425\n",
    "    )\n",
    "    print(f\"Details for Cost Code ID {cost_code_id} in Project {project['name']}: {cost_code_details}\")\n",
    "except ProPyCore.NotFoundItemError:\n",
    "    print(f\"Cost code ID {cost_code_id} not found in project {project['name']}\")\n"
   ]
  },
  {
   "cell_type": "markdown",
   "metadata": {},
   "source": [
    "---"
   ]
  }
 ],
 "metadata": {
  "kernelspec": {
   "display_name": ".venv",
   "language": "python",
   "name": "python3"
  },
  "language_info": {
   "codemirror_mode": {
    "name": "ipython",
    "version": 3
   },
   "file_extension": ".py",
   "mimetype": "text/x-python",
   "name": "python",
   "nbconvert_exporter": "python",
   "pygments_lexer": "ipython3",
   "version": "3.11.9"
  }
 },
 "nbformat": 4,
 "nbformat_minor": 2
}
